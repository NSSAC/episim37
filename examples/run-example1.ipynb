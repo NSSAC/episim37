{
 "cells": [
  {
   "cell_type": "markdown",
   "id": "ceab61aa-12d9-4068-89c6-ccd64b28af80",
   "metadata": {},
   "source": [
    "# Run Example 1\n",
    "\n",
    "This notbook shows the workflow for running EpiSim37 simulations on your personal computer.\n",
    "\n",
    "This notebook expects that you have installed pandas and episim37."
   ]
  },
  {
   "cell_type": "code",
   "execution_count": 1,
   "id": "988bb29c-1eb2-4dd6-b5da-c5398037a6aa",
   "metadata": {},
   "outputs": [],
   "source": [
    "import tempfile\n",
    "from pathlib import Path\n",
    "\n",
    "import polars as pl\n",
    "import plotly.express as px\n",
    "import plotly.io as pio\n",
    "pio.renderers.default = \"jupyterlab\"\n",
    "\n",
    "from episim37.utils import OpenMPSimulator"
   ]
  },
  {
   "cell_type": "markdown",
   "id": "9d075b51-4237-4c98-893d-676823123123",
   "metadata": {},
   "source": [
    "For running an EpiSim37 simulation we need two things:\n",
    "1) the EpiSim37 simulation description (the ESL37 file) and\n",
    "2) the network (nodes and edges)\n",
    "\n",
    "For this demo we shall use the following files.\n",
    "The node and edge file can be in parquet or CSV format."
   ]
  },
  {
   "cell_type": "code",
   "execution_count": 2,
   "id": "0c013870-5644-4707-8b65-b0cc7f7e684a",
   "metadata": {},
   "outputs": [],
   "source": [
    "sim_file = \"example1.esl37\"\n",
    "node_file = \"nodes.parquet\"\n",
    "edge_file = \"edges.parquet\""
   ]
  },
  {
   "cell_type": "markdown",
   "id": "858c2c81-0b3c-40d7-93a3-b2160cb3bfeb",
   "metadata": {},
   "source": [
    "The node table contains the node key (pid for this simulation) and any other static node attributes that the simulation may depend on.\n",
    "\n",
    "Similarly, the edge table contains the source and target node key (source_pid and target_pid for this simulation) and any other static edge attributes that the simulation may depend on.\n",
    "\n",
    "The column names in the node and edge file must match those provided in the simulation file."
   ]
  },
  {
   "cell_type": "code",
   "execution_count": 3,
   "id": "e0711e65-3989-4984-8a0c-a17710ab8110",
   "metadata": {},
   "outputs": [
    {
     "data": {
      "text/html": [
       "<div><style>\n",
       ".dataframe > thead > tr,\n",
       ".dataframe > tbody > tr {\n",
       "  text-align: right;\n",
       "  white-space: pre-wrap;\n",
       "}\n",
       "</style>\n",
       "<small>shape: (5, 2)</small><table border=\"1\" class=\"dataframe\"><thead><tr><th>pid</th><th>is_in_school</th></tr><tr><td>i64</td><td>bool</td></tr></thead><tbody><tr><td>3723936</td><td>true</td></tr><tr><td>3723937</td><td>true</td></tr><tr><td>3723938</td><td>false</td></tr><tr><td>3723939</td><td>true</td></tr><tr><td>3723940</td><td>true</td></tr></tbody></table></div>"
      ],
      "text/plain": [
       "shape: (5, 2)\n",
       "┌─────────┬──────────────┐\n",
       "│ pid     ┆ is_in_school │\n",
       "│ ---     ┆ ---          │\n",
       "│ i64     ┆ bool         │\n",
       "╞═════════╪══════════════╡\n",
       "│ 3723936 ┆ true         │\n",
       "│ 3723937 ┆ true         │\n",
       "│ 3723938 ┆ false        │\n",
       "│ 3723939 ┆ true         │\n",
       "│ 3723940 ┆ true         │\n",
       "└─────────┴──────────────┘"
      ]
     },
     "execution_count": 3,
     "metadata": {},
     "output_type": "execute_result"
    }
   ],
   "source": [
    "pl.read_parquet(node_file).head()"
   ]
  },
  {
   "cell_type": "code",
   "execution_count": 4,
   "id": "7224c96a-2f03-4440-a699-75758d08be62",
   "metadata": {},
   "outputs": [
    {
     "data": {
      "text/html": [
       "<div><style>\n",
       ".dataframe > thead > tr,\n",
       ".dataframe > tbody > tr {\n",
       "  text-align: right;\n",
       "  white-space: pre-wrap;\n",
       "}\n",
       "</style>\n",
       "<small>shape: (5, 5)</small><table border=\"1\" class=\"dataframe\"><thead><tr><th>target_pid</th><th>source_pid</th><th>duration</th><th>is_school_edge</th><th>is_non_home_edge</th></tr><tr><td>i64</td><td>i64</td><td>i64</td><td>bool</td><td>bool</td></tr></thead><tbody><tr><td>3723936</td><td>3723937</td><td>14400</td><td>false</td><td>true</td></tr><tr><td>3723936</td><td>3723937</td><td>20519</td><td>false</td><td>true</td></tr><tr><td>3723936</td><td>3723937</td><td>41520</td><td>false</td><td>true</td></tr><tr><td>3723936</td><td>3731305</td><td>1020</td><td>false</td><td>true</td></tr><tr><td>3723936</td><td>3742032</td><td>1320</td><td>false</td><td>true</td></tr></tbody></table></div>"
      ],
      "text/plain": [
       "shape: (5, 5)\n",
       "┌────────────┬────────────┬──────────┬────────────────┬──────────────────┐\n",
       "│ target_pid ┆ source_pid ┆ duration ┆ is_school_edge ┆ is_non_home_edge │\n",
       "│ ---        ┆ ---        ┆ ---      ┆ ---            ┆ ---              │\n",
       "│ i64        ┆ i64        ┆ i64      ┆ bool           ┆ bool             │\n",
       "╞════════════╪════════════╪══════════╪════════════════╪══════════════════╡\n",
       "│ 3723936    ┆ 3723937    ┆ 14400    ┆ false          ┆ true             │\n",
       "│ 3723936    ┆ 3723937    ┆ 20519    ┆ false          ┆ true             │\n",
       "│ 3723936    ┆ 3723937    ┆ 41520    ┆ false          ┆ true             │\n",
       "│ 3723936    ┆ 3731305    ┆ 1020     ┆ false          ┆ true             │\n",
       "│ 3723936    ┆ 3742032    ┆ 1320     ┆ false          ┆ true             │\n",
       "└────────────┴────────────┴──────────┴────────────────┴──────────────────┘"
      ]
     },
     "execution_count": 4,
     "metadata": {},
     "output_type": "execute_result"
    }
   ],
   "source": [
    "pl.read_parquet(edge_file).head()"
   ]
  },
  {
   "cell_type": "markdown",
   "id": "3a58bcf7-d38f-457b-b884-09a82931b575",
   "metadata": {},
   "source": [
    "We shall create a working directory for EpiSim37.\n",
    "\n",
    "EpiSim37 shall use that folder to store the generated C++ codes and the compiled simulator.\n",
    "\n",
    "We shall also store the input.h5 and output.h5 files in that work directory."
   ]
  },
  {
   "cell_type": "code",
   "execution_count": 5,
   "id": "f0e0a3b1-83c8-4b2d-ac9f-4aeec59809d7",
   "metadata": {},
   "outputs": [],
   "source": [
    "work_dir = Path(Path.home() / \"episim37-work-dir\")\n",
    "\n",
    "input_file = work_dir / \"input.h5\""
   ]
  },
  {
   "cell_type": "raw",
   "id": "e41a73dc-1447-409b-8238-b2e6a636968d",
   "metadata": {},
   "source": [
    "Next we shall instantiate a OpenMP based multi-threaded simulator."
   ]
  },
  {
   "cell_type": "code",
   "execution_count": 6,
   "id": "8d390dca-c63e-46ac-a9aa-5ffc3ad2ee30",
   "metadata": {},
   "outputs": [],
   "source": [
    "simulator = OpenMPSimulator(sim_file, work_dir)"
   ]
  },
  {
   "cell_type": "markdown",
   "id": "09a3de09-bbbd-4bf0-9329-540c00fb6336",
   "metadata": {},
   "source": [
    "Next we shall call the prepare_build() method.\n",
    "This uses CMake to find or fetch the C++ libraries needed for building the simulator.\n",
    "It is not necessary to re-execute this method every time the simulation file is changed."
   ]
  },
  {
   "cell_type": "code",
   "execution_count": 7,
   "id": "70d64ad3-ace3-48b8-93e9-6388f50b7cfa",
   "metadata": {},
   "outputs": [
    {
     "name": "stdout",
     "output_type": "stream",
     "text": [
      "-- Version: 10.1.0\n",
      "-- Build type: \n",
      "-- Configuring done (2.1s)\n",
      "-- Generating done (0.0s)\n",
      "-- Build files have been written to: /home/parantapa/episim37-work-dir/build\n"
     ]
    }
   ],
   "source": [
    "simulator.prepare_build()"
   ]
  },
  {
   "cell_type": "markdown",
   "id": "ebaa78a6-c473-4163-9cdf-5b4c549aee32",
   "metadata": {},
   "source": [
    "The build method actually builds the simulator.\n",
    "It first compules the ESL37 code to C++ and then uses a C++ compiler to build the simulator binary.\n",
    "It is necessary to rerun this method every time the simulation file is updated."
   ]
  },
  {
   "cell_type": "code",
   "execution_count": 8,
   "id": "8bb4fb89-fe43-4711-b385-a2c8038fbb72",
   "metadata": {},
   "outputs": [
    {
     "name": "stdout",
     "output_type": "stream",
     "text": [
      "[ 50%] Built target fmt\n",
      "[ 66%] \u001b[34m\u001b[1mGenerating simulator_openmp.cpp, simulator_openmp_common.h\u001b[0m\n",
      "[ 83%] \u001b[32mBuilding CXX object CMakeFiles/simulator_openmp.dir/simulator_openmp.cpp.o\u001b[0m\n",
      "[100%] \u001b[32m\u001b[1mLinking CXX executable simulator_openmp\u001b[0m\n",
      "[100%] Built target simulator_openmp\n"
     ]
    }
   ],
   "source": [
    "simulator.build()"
   ]
  },
  {
   "cell_type": "markdown",
   "id": "feae47a4-a581-4d0b-92b1-028b900dccc7",
   "metadata": {},
   "source": [
    "Now that the simulator binary has been built, we can add the network to create a full simulation."
   ]
  },
  {
   "cell_type": "markdown",
   "id": "c72a0a2f-44c4-4835-9da8-33270fe748ff",
   "metadata": {},
   "source": [
    "The prepare input step creates the input_file from the network files (node and edge file).\n",
    "This also provides other relevant metadata to the simulator."
   ]
  },
  {
   "cell_type": "code",
   "execution_count": 9,
   "id": "883e99cf-08a2-445a-8a4a-57a26a603809",
   "metadata": {},
   "outputs": [
    {
     "data": {
      "text/html": [
       "<pre style=\"white-space:pre;overflow-x:auto;line-height:normal;font-family:Menlo,'DejaVu Sans Mono',consolas,'Courier New',monospace\"><span style=\"color: #008080; text-decoration-color: #008080\">Reading node table.</span>\n",
       "</pre>\n"
      ],
      "text/plain": [
       "\u001b[36mReading node table.\u001b[0m\n"
      ]
     },
     "metadata": {},
     "output_type": "display_data"
    },
    {
     "data": {
      "text/html": [
       "<pre style=\"white-space:pre;overflow-x:auto;line-height:normal;font-family:Menlo,'DejaVu Sans Mono',consolas,'Courier New',monospace\"><span style=\"color: #008080; text-decoration-color: #008080\">Sorting node table.</span>\n",
       "</pre>\n"
      ],
      "text/plain": [
       "\u001b[36mSorting node table.\u001b[0m\n"
      ]
     },
     "metadata": {},
     "output_type": "display_data"
    },
    {
     "data": {
      "text/html": [
       "<pre style=\"white-space:pre;overflow-x:auto;line-height:normal;font-family:Menlo,'DejaVu Sans Mono',consolas,'Courier New',monospace\"><span style=\"color: #008080; text-decoration-color: #008080\">Making node index.</span>\n",
       "</pre>\n"
      ],
      "text/plain": [
       "\u001b[36mMaking node index.\u001b[0m\n"
      ]
     },
     "metadata": {},
     "output_type": "display_data"
    },
    {
     "name": "stdout",
     "output_type": "stream",
     "text": [
      "### num_nodes:  83313\n"
     ]
    },
    {
     "data": {
      "text/html": [
       "<pre style=\"white-space:pre;overflow-x:auto;line-height:normal;font-family:Menlo,'DejaVu Sans Mono',consolas,'Courier New',monospace\"><span style=\"color: #008080; text-decoration-color: #008080\">Reading edge table.</span>\n",
       "</pre>\n"
      ],
      "text/plain": [
       "\u001b[36mReading edge table.\u001b[0m\n"
      ]
     },
     "metadata": {},
     "output_type": "display_data"
    },
    {
     "data": {
      "text/html": [
       "<pre style=\"white-space:pre;overflow-x:auto;line-height:normal;font-family:Menlo,'DejaVu Sans Mono',consolas,'Courier New',monospace\"><span style=\"color: #008080; text-decoration-color: #008080\">Sorting edge table.</span>\n",
       "</pre>\n"
      ],
      "text/plain": [
       "\u001b[36mSorting edge table.\u001b[0m\n"
      ]
     },
     "metadata": {},
     "output_type": "display_data"
    },
    {
     "data": {
      "text/html": [
       "<pre style=\"white-space:pre;overflow-x:auto;line-height:normal;font-family:Menlo,'DejaVu Sans Mono',consolas,'Courier New',monospace\"><span style=\"color: #008080; text-decoration-color: #008080\">Computing incoming incidence CSR graph's indptr.</span>\n",
       "</pre>\n"
      ],
      "text/plain": [
       "\u001b[36mComputing incoming incidence CSR graph's indptr.\u001b[0m\n"
      ]
     },
     "metadata": {},
     "output_type": "display_data"
    },
    {
     "name": "stdout",
     "output_type": "stream",
     "text": [
      "### num_edges:  3269342\n"
     ]
    },
    {
     "data": {
      "text/html": [
       "<pre style=\"white-space:pre;overflow-x:auto;line-height:normal;font-family:Menlo,'DejaVu Sans Mono',consolas,'Courier New',monospace\"><span style=\"color: #008080; text-decoration-color: #008080\">Creating input file.</span>\n",
       "</pre>\n"
      ],
      "text/plain": [
       "\u001b[36mCreating input file.\u001b[0m\n"
      ]
     },
     "metadata": {},
     "output_type": "display_data"
    },
    {
     "data": {
      "text/html": [
       "<pre style=\"white-space:pre;overflow-x:auto;line-height:normal;font-family:Menlo,'DejaVu Sans Mono',consolas,'Courier New',monospace\"><span style=\"color: #008000; text-decoration-color: #008000\">Input file created successfully.</span>\n",
       "</pre>\n"
      ],
      "text/plain": [
       "\u001b[32mInput file created successfully.\u001b[0m\n"
      ]
     },
     "metadata": {},
     "output_type": "display_data"
    }
   ],
   "source": [
    "simulator.prepare_input(node_file, edge_file, input_file)"
   ]
  },
  {
   "cell_type": "markdown",
   "id": "43dab982-0de1-4611-92ed-54f8906cb32a",
   "metadata": {},
   "source": [
    "We can view the node and edge tables in the input file using extract_nodes() and extract_edges() helper methods."
   ]
  },
  {
   "cell_type": "code",
   "execution_count": 10,
   "id": "faa5d15a-5ebe-4cae-bd22-cff6d62bd8bf",
   "metadata": {},
   "outputs": [
    {
     "data": {
      "text/html": [
       "<div><style>\n",
       ".dataframe > thead > tr,\n",
       ".dataframe > tbody > tr {\n",
       "  text-align: right;\n",
       "  white-space: pre-wrap;\n",
       "}\n",
       "</style>\n",
       "<small>shape: (5, 2)</small><table border=\"1\" class=\"dataframe\"><thead><tr><th>pid</th><th>is_in_school</th></tr><tr><td>i64</td><td>u8</td></tr></thead><tbody><tr><td>3723936</td><td>1</td></tr><tr><td>3723937</td><td>1</td></tr><tr><td>3723938</td><td>0</td></tr><tr><td>3723939</td><td>1</td></tr><tr><td>3723940</td><td>1</td></tr></tbody></table></div>"
      ],
      "text/plain": [
       "shape: (5, 2)\n",
       "┌─────────┬──────────────┐\n",
       "│ pid     ┆ is_in_school │\n",
       "│ ---     ┆ ---          │\n",
       "│ i64     ┆ u8           │\n",
       "╞═════════╪══════════════╡\n",
       "│ 3723936 ┆ 1            │\n",
       "│ 3723937 ┆ 1            │\n",
       "│ 3723938 ┆ 0            │\n",
       "│ 3723939 ┆ 1            │\n",
       "│ 3723940 ┆ 1            │\n",
       "└─────────┴──────────────┘"
      ]
     },
     "execution_count": 10,
     "metadata": {},
     "output_type": "execute_result"
    }
   ],
   "source": [
    "simulator.extract_nodes(input_file).head()"
   ]
  },
  {
   "cell_type": "code",
   "execution_count": 11,
   "id": "a8f40d6c-4090-4c04-b0e7-5fcedfeb7f0b",
   "metadata": {},
   "outputs": [
    {
     "data": {
      "text/html": [
       "<div><style>\n",
       ".dataframe > thead > tr,\n",
       ".dataframe > tbody > tr {\n",
       "  text-align: right;\n",
       "  white-space: pre-wrap;\n",
       "}\n",
       "</style>\n",
       "<small>shape: (5, 7)</small><table border=\"1\" class=\"dataframe\"><thead><tr><th>target_pid</th><th>source_pid</th><th>duration</th><th>is_school_edge</th><th>is_non_home_edge</th><th>_target_node_index</th><th>_source_node_index</th></tr><tr><td>i64</td><td>i64</td><td>i64</td><td>u8</td><td>u8</td><td>u32</td><td>u32</td></tr></thead><tbody><tr><td>3723936</td><td>3723937</td><td>14400</td><td>0</td><td>1</td><td>0</td><td>1</td></tr><tr><td>3723936</td><td>3723937</td><td>20519</td><td>0</td><td>1</td><td>0</td><td>1</td></tr><tr><td>3723936</td><td>3723937</td><td>41520</td><td>0</td><td>1</td><td>0</td><td>1</td></tr><tr><td>3723936</td><td>3731305</td><td>1020</td><td>0</td><td>1</td><td>0</td><td>7369</td></tr><tr><td>3723936</td><td>3733825</td><td>5700</td><td>1</td><td>1</td><td>0</td><td>9889</td></tr></tbody></table></div>"
      ],
      "text/plain": [
       "shape: (5, 7)\n",
       "┌────────────┬────────────┬──────────┬───────────────┬───────────────┬──────────────┬──────────────┐\n",
       "│ target_pid ┆ source_pid ┆ duration ┆ is_school_edg ┆ is_non_home_e ┆ _target_node ┆ _source_node │\n",
       "│ ---        ┆ ---        ┆ ---      ┆ e             ┆ dge           ┆ _index       ┆ _index       │\n",
       "│ i64        ┆ i64        ┆ i64      ┆ ---           ┆ ---           ┆ ---          ┆ ---          │\n",
       "│            ┆            ┆          ┆ u8            ┆ u8            ┆ u32          ┆ u32          │\n",
       "╞════════════╪════════════╪══════════╪═══════════════╪═══════════════╪══════════════╪══════════════╡\n",
       "│ 3723936    ┆ 3723937    ┆ 14400    ┆ 0             ┆ 1             ┆ 0            ┆ 1            │\n",
       "│ 3723936    ┆ 3723937    ┆ 20519    ┆ 0             ┆ 1             ┆ 0            ┆ 1            │\n",
       "│ 3723936    ┆ 3723937    ┆ 41520    ┆ 0             ┆ 1             ┆ 0            ┆ 1            │\n",
       "│ 3723936    ┆ 3731305    ┆ 1020     ┆ 0             ┆ 1             ┆ 0            ┆ 7369         │\n",
       "│ 3723936    ┆ 3733825    ┆ 5700     ┆ 1             ┆ 1             ┆ 0            ┆ 9889         │\n",
       "└────────────┴────────────┴──────────┴───────────────┴───────────────┴──────────────┴──────────────┘"
      ]
     },
     "execution_count": 11,
     "metadata": {},
     "output_type": "execute_result"
    }
   ],
   "source": [
    "simulator.extract_edges(input_file).head()"
   ]
  },
  {
   "cell_type": "markdown",
   "id": "9ee5e13d-56a4-4f68-aab0-d732fe8a68a0",
   "metadata": {},
   "source": [
    "Finally to run a simulation, we provide the location of the output file and call simulate.\n",
    "Here we can also pass a dictionary of configuration variables that were defined in the simulation."
   ]
  },
  {
   "cell_type": "code",
   "execution_count": 12,
   "id": "cd786e1c-9903-4eb5-b5b2-dbf58c23e81d",
   "metadata": {
    "scrolled": true
   },
   "outputs": [
    {
     "name": "stdout",
     "output_type": "stream",
     "text": [
      "### num_threads = 12\n",
      "### enable_hybrid_learning = 1\n",
      "### enable_day_30_antigen_test = 1\n",
      "### enable_day_30_pcr_test = 0\n",
      "### transmissibility_scale = 0.3\n",
      "### num_ticks = 100\n",
      "### input_file = /home/parantapa/episim37-work-dir/input.h5\n",
      "### output_file = /home/parantapa/episim37-work-dir/output.h5\n",
      "### num_nodes = 83313\n",
      "### num_edges = 3269342\n",
      "### cur_tick = 0\n",
      "### cur_tick = 1\n",
      "### cur_tick = 2\n",
      "### cur_tick = 3\n",
      "### cur_tick = 4\n",
      "### cur_tick = 5\n",
      "### cur_tick = 6\n",
      "### cur_tick = 7\n",
      "### cur_tick = 8\n",
      "### cur_tick = 9\n",
      "### cur_tick = 10\n",
      "### cur_tick = 11\n",
      "### cur_tick = 12\n",
      "### cur_tick = 13\n",
      "### cur_tick = 14\n",
      "### cur_tick = 15\n",
      "### cur_tick = 16\n",
      "### cur_tick = 17\n",
      "### cur_tick = 18\n",
      "### cur_tick = 19\n",
      "### cur_tick = 20\n",
      "### cur_tick = 21\n",
      "### cur_tick = 22\n",
      "### cur_tick = 23\n",
      "### cur_tick = 24\n",
      "### cur_tick = 25\n",
      "### cur_tick = 26\n",
      "### cur_tick = 27\n",
      "### cur_tick = 28\n",
      "### cur_tick = 29\n",
      "### cur_tick = 30\n",
      "### cur_tick = 31\n",
      "### cur_tick = 32\n",
      "### cur_tick = 33\n",
      "### cur_tick = 34\n",
      "### cur_tick = 35\n",
      "### cur_tick = 36\n",
      "### cur_tick = 37\n",
      "### cur_tick = 38\n",
      "### cur_tick = 39\n",
      "### cur_tick = 40\n",
      "### cur_tick = 41\n",
      "### cur_tick = 42\n",
      "### cur_tick = 43\n",
      "### cur_tick = 44\n",
      "### cur_tick = 45\n",
      "### cur_tick = 46\n",
      "### cur_tick = 47\n",
      "### cur_tick = 48\n",
      "### cur_tick = 49\n",
      "### cur_tick = 50\n",
      "### cur_tick = 51\n",
      "### cur_tick = 52\n",
      "### cur_tick = 53\n",
      "### cur_tick = 54\n",
      "### cur_tick = 55\n",
      "### cur_tick = 56\n",
      "### cur_tick = 57\n",
      "### cur_tick = 58\n",
      "### cur_tick = 59\n",
      "### cur_tick = 60\n",
      "### cur_tick = 61\n",
      "### cur_tick = 62\n",
      "### cur_tick = 63\n",
      "### cur_tick = 64\n",
      "### cur_tick = 65\n",
      "### cur_tick = 66\n",
      "### cur_tick = 67\n",
      "### cur_tick = 68\n",
      "### cur_tick = 69\n",
      "### cur_tick = 70\n",
      "### cur_tick = 71\n",
      "### cur_tick = 72\n",
      "### cur_tick = 73\n",
      "### cur_tick = 74\n",
      "### cur_tick = 75\n",
      "### cur_tick = 76\n",
      "### cur_tick = 77\n",
      "### cur_tick = 78\n",
      "### cur_tick = 79\n",
      "### cur_tick = 80\n",
      "### cur_tick = 81\n",
      "### cur_tick = 82\n",
      "### cur_tick = 83\n",
      "### cur_tick = 84\n",
      "### cur_tick = 85\n",
      "### cur_tick = 86\n",
      "### cur_tick = 87\n",
      "### cur_tick = 88\n",
      "### cur_tick = 89\n",
      "### cur_tick = 90\n",
      "### cur_tick = 91\n",
      "### cur_tick = 92\n",
      "### cur_tick = 93\n",
      "### cur_tick = 94\n",
      "### cur_tick = 95\n",
      "### cur_tick = 96\n",
      "### cur_tick = 97\n",
      "### cur_tick = 98\n",
      "### cur_tick = 99\n",
      "### mem_use_gb = 0.0761555\n",
      "### init_time_s = 0.0263217\n",
      "### main_time_s = 0.615013\n"
     ]
    }
   ],
   "source": [
    "output_file = work_dir / \"output.h5\"\n",
    "\n",
    "simulator.simulate(input_file, output_file, num_ticks=100, configs={\"enable_hybrid_learning\": True}, verbose=True)"
   ]
  },
  {
   "cell_type": "markdown",
   "id": "3d17157c-2b4a-4dcc-9edf-43c35d8004b5",
   "metadata": {},
   "source": [
    "Once the simulation is complete we can extract summary, transitions, transmissions and interventions from the output file."
   ]
  },
  {
   "cell_type": "code",
   "execution_count": 13,
   "id": "06364a63-064d-472f-8865-3ff67dfe32a1",
   "metadata": {},
   "outputs": [
    {
     "data": {
      "text/html": [
       "<div><style>\n",
       ".dataframe > thead > tr,\n",
       ".dataframe > tbody > tr {\n",
       "  text-align: right;\n",
       "  white-space: pre-wrap;\n",
       "}\n",
       "</style>\n",
       "<small>shape: (5, 7)</small><table border=\"1\" class=\"dataframe\"><thead><tr><th>S</th><th>E</th><th>Ipresymp</th><th>Isymp</th><th>Iasymp</th><th>R</th><th>tick</th></tr><tr><td>u64</td><td>u64</td><td>u64</td><td>u64</td><td>u64</td><td>u64</td><td>i64</td></tr></thead><tbody><tr><td>83308</td><td>5</td><td>0</td><td>0</td><td>0</td><td>0</td><td>0</td></tr><tr><td>83303</td><td>10</td><td>0</td><td>0</td><td>0</td><td>0</td><td>1</td></tr><tr><td>83298</td><td>14</td><td>1</td><td>0</td><td>0</td><td>0</td><td>2</td></tr><tr><td>83293</td><td>16</td><td>4</td><td>0</td><td>0</td><td>0</td><td>3</td></tr><tr><td>83285</td><td>20</td><td>6</td><td>1</td><td>1</td><td>0</td><td>4</td></tr></tbody></table></div>"
      ],
      "text/plain": [
       "shape: (5, 7)\n",
       "┌───────┬─────┬──────────┬───────┬────────┬─────┬──────┐\n",
       "│ S     ┆ E   ┆ Ipresymp ┆ Isymp ┆ Iasymp ┆ R   ┆ tick │\n",
       "│ ---   ┆ --- ┆ ---      ┆ ---   ┆ ---    ┆ --- ┆ ---  │\n",
       "│ u64   ┆ u64 ┆ u64      ┆ u64   ┆ u64    ┆ u64 ┆ i64  │\n",
       "╞═══════╪═════╪══════════╪═══════╪════════╪═════╪══════╡\n",
       "│ 83308 ┆ 5   ┆ 0        ┆ 0     ┆ 0      ┆ 0   ┆ 0    │\n",
       "│ 83303 ┆ 10  ┆ 0        ┆ 0     ┆ 0      ┆ 0   ┆ 1    │\n",
       "│ 83298 ┆ 14  ┆ 1        ┆ 0     ┆ 0      ┆ 0   ┆ 2    │\n",
       "│ 83293 ┆ 16  ┆ 4        ┆ 0     ┆ 0      ┆ 0   ┆ 3    │\n",
       "│ 83285 ┆ 20  ┆ 6        ┆ 1     ┆ 1      ┆ 0   ┆ 4    │\n",
       "└───────┴─────┴──────────┴───────┴────────┴─────┴──────┘"
      ]
     },
     "execution_count": 13,
     "metadata": {},
     "output_type": "execute_result"
    }
   ],
   "source": [
    "summary = simulator.extract_summary(output_file)\n",
    "summary.head()"
   ]
  },
  {
   "cell_type": "code",
   "execution_count": 14,
   "id": "433f3045-b199-4ea8-929a-530f32cd95d9",
   "metadata": {},
   "outputs": [
    {
     "data": {
      "text/html": [
       "<div><style>\n",
       ".dataframe > thead > tr,\n",
       ".dataframe > tbody > tr {\n",
       "  text-align: right;\n",
       "  white-space: pre-wrap;\n",
       "}\n",
       "</style>\n",
       "<small>shape: (5, 3)</small><table border=\"1\" class=\"dataframe\"><thead><tr><th>node_index</th><th>state</th><th>tick</th></tr><tr><td>u32</td><td>str</td><td>i32</td></tr></thead><tbody><tr><td>81004</td><td>&quot;Ipresymp&quot;</td><td>2</td></tr><tr><td>77455</td><td>&quot;Ipresymp&quot;</td><td>3</td></tr><tr><td>79114</td><td>&quot;Ipresymp&quot;</td><td>3</td></tr><tr><td>81523</td><td>&quot;Ipresymp&quot;</td><td>3</td></tr><tr><td>4885</td><td>&quot;E&quot;</td><td>4</td></tr></tbody></table></div>"
      ],
      "text/plain": [
       "shape: (5, 3)\n",
       "┌────────────┬──────────┬──────┐\n",
       "│ node_index ┆ state    ┆ tick │\n",
       "│ ---        ┆ ---      ┆ ---  │\n",
       "│ u32        ┆ str      ┆ i32  │\n",
       "╞════════════╪══════════╪══════╡\n",
       "│ 81004      ┆ Ipresymp ┆ 2    │\n",
       "│ 77455      ┆ Ipresymp ┆ 3    │\n",
       "│ 79114      ┆ Ipresymp ┆ 3    │\n",
       "│ 81523      ┆ Ipresymp ┆ 3    │\n",
       "│ 4885       ┆ E        ┆ 4    │\n",
       "└────────────┴──────────┴──────┘"
      ]
     },
     "execution_count": 14,
     "metadata": {},
     "output_type": "execute_result"
    }
   ],
   "source": [
    "transitions = simulator.extract_transitions(output_file)\n",
    "transitions.head()"
   ]
  },
  {
   "cell_type": "code",
   "execution_count": 15,
   "id": "fba483a8-bc3d-482c-83d7-07274aa5b4f8",
   "metadata": {},
   "outputs": [
    {
     "data": {
      "text/html": [
       "<div><style>\n",
       ".dataframe > thead > tr,\n",
       ".dataframe > tbody > tr {\n",
       "  text-align: right;\n",
       "  white-space: pre-wrap;\n",
       "}\n",
       "</style>\n",
       "<small>shape: (5, 3)</small><table border=\"1\" class=\"dataframe\"><thead><tr><th>edge_index</th><th>state</th><th>tick</th></tr><tr><td>u64</td><td>str</td><td>i32</td></tr></thead><tbody><tr><td>202243</td><td>&quot;E&quot;</td><td>4</td></tr><tr><td>2492689</td><td>&quot;E&quot;</td><td>4</td></tr><tr><td>3231558</td><td>&quot;E&quot;</td><td>4</td></tr><tr><td>1439364</td><td>&quot;E&quot;</td><td>5</td></tr><tr><td>3136826</td><td>&quot;E&quot;</td><td>5</td></tr></tbody></table></div>"
      ],
      "text/plain": [
       "shape: (5, 3)\n",
       "┌────────────┬───────┬──────┐\n",
       "│ edge_index ┆ state ┆ tick │\n",
       "│ ---        ┆ ---   ┆ ---  │\n",
       "│ u64        ┆ str   ┆ i32  │\n",
       "╞════════════╪═══════╪══════╡\n",
       "│ 202243     ┆ E     ┆ 4    │\n",
       "│ 2492689    ┆ E     ┆ 4    │\n",
       "│ 3231558    ┆ E     ┆ 4    │\n",
       "│ 1439364    ┆ E     ┆ 5    │\n",
       "│ 3136826    ┆ E     ┆ 5    │\n",
       "└────────────┴───────┴──────┘"
      ]
     },
     "execution_count": 15,
     "metadata": {},
     "output_type": "execute_result"
    }
   ],
   "source": [
    "transmissions = simulator.extract_transmissions(output_file)\n",
    "transmissions.head()"
   ]
  },
  {
   "cell_type": "code",
   "execution_count": 16,
   "id": "099e408a-4eed-4b54-a168-62dc21a370fb",
   "metadata": {},
   "outputs": [
    {
     "data": {
      "text/html": [
       "<div><style>\n",
       ".dataframe > thead > tr,\n",
       ".dataframe > tbody > tr {\n",
       "  text-align: right;\n",
       "  white-space: pre-wrap;\n",
       "}\n",
       "</style>\n",
       "<small>shape: (5, 3)</small><table border=\"1\" class=\"dataframe\"><thead><tr><th>node_index</th><th>state</th><th>tick</th></tr><tr><td>u32</td><td>str</td><td>i32</td></tr></thead><tbody><tr><td>78292</td><td>&quot;E&quot;</td><td>0</td></tr><tr><td>78538</td><td>&quot;E&quot;</td><td>0</td></tr><tr><td>79562</td><td>&quot;E&quot;</td><td>0</td></tr><tr><td>81004</td><td>&quot;E&quot;</td><td>0</td></tr><tr><td>82092</td><td>&quot;E&quot;</td><td>0</td></tr></tbody></table></div>"
      ],
      "text/plain": [
       "shape: (5, 3)\n",
       "┌────────────┬───────┬──────┐\n",
       "│ node_index ┆ state ┆ tick │\n",
       "│ ---        ┆ ---   ┆ ---  │\n",
       "│ u32        ┆ str   ┆ i32  │\n",
       "╞════════════╪═══════╪══════╡\n",
       "│ 78292      ┆ E     ┆ 0    │\n",
       "│ 78538      ┆ E     ┆ 0    │\n",
       "│ 79562      ┆ E     ┆ 0    │\n",
       "│ 81004      ┆ E     ┆ 0    │\n",
       "│ 82092      ┆ E     ┆ 0    │\n",
       "└────────────┴───────┴──────┘"
      ]
     },
     "execution_count": 16,
     "metadata": {},
     "output_type": "execute_result"
    }
   ],
   "source": [
    "interventions = simulator.extract_interventions(output_file)\n",
    "interventions.head()"
   ]
  },
  {
   "cell_type": "markdown",
   "id": "d65cc15a-986f-4b29-824e-b556a0665108",
   "metadata": {},
   "source": [
    "Runtime statistics are also saved in the output file"
   ]
  },
  {
   "cell_type": "code",
   "execution_count": 17,
   "id": "84f95242-a5b8-46dc-bbff-4e32cc3d1355",
   "metadata": {},
   "outputs": [
    {
     "data": {
      "text/plain": [
       "{'mem_use_gb': 0.076155456,\n",
       " 'init_time_s': 0.026321744997403584,\n",
       " 'main_time_s': 0.6150129739980912}"
      ]
     },
     "execution_count": 17,
     "metadata": {},
     "output_type": "execute_result"
    }
   ],
   "source": [
    "simulator.runtime_stats(output_file)"
   ]
  },
  {
   "cell_type": "markdown",
   "id": "1fea1e17-285e-41c0-8a02-ef3cb64ab07a",
   "metadata": {},
   "source": [
    "Configuration variables are also saved in output file"
   ]
  },
  {
   "cell_type": "code",
   "execution_count": 18,
   "id": "3fb4b2fc-4a76-46c4-af44-5ab5045c473f",
   "metadata": {},
   "outputs": [
    {
     "data": {
      "text/plain": [
       "{'enable_hybrid_learning': 1,\n",
       " 'enable_day_30_antigen_test': 1,\n",
       " 'enable_day_30_pcr_test': 0,\n",
       " 'transmissibility_scale': 0.30000001192092896}"
      ]
     },
     "execution_count": 18,
     "metadata": {},
     "output_type": "execute_result"
    }
   ],
   "source": [
    "simulator.extract_configs(output_file)"
   ]
  },
  {
   "cell_type": "markdown",
   "id": "aec76b95-9c83-4c25-87b0-c90a7df3829d",
   "metadata": {},
   "source": [
    "Compute attack rate as follows:"
   ]
  },
  {
   "cell_type": "code",
   "execution_count": 19,
   "id": "96bc4e32-319a-45de-88a6-51f91b54c4ee",
   "metadata": {},
   "outputs": [
    {
     "data": {
      "text/plain": [
       "0.8127063003372823"
      ]
     },
     "execution_count": 19,
     "metadata": {},
     "output_type": "execute_result"
    }
   ],
   "source": [
    "num_nodes = simulator.num_nodes(input_file)\n",
    "attack_rate = simulator.compute_cum_count(transitions, [\"E\"]) / num_nodes\n",
    "attack_rate"
   ]
  },
  {
   "cell_type": "code",
   "execution_count": 20,
   "id": "34b341d2-175e-46be-894d-c476a917443c",
   "metadata": {
    "scrolled": true
   },
   "outputs": [
    {
     "data": {
      "application/vnd.plotly.v1+json": {
       "config": {
        "plotlyServerURL": "https://plot.ly"
       },
       "data": [
        {
         "hovertemplate": "state=S<br>tick=%{x}<br>count=%{y}<extra></extra>",
         "legendgroup": "S",
         "line": {
          "color": "#636efa",
          "dash": "solid"
         },
         "marker": {
          "symbol": "circle"
         },
         "mode": "lines",
         "name": "S",
         "orientation": "h",
         "showlegend": true,
         "type": "scatter",
         "x": [
          0,
          1,
          2,
          3,
          4,
          5,
          6,
          7,
          8,
          9,
          10,
          11,
          12,
          13,
          14,
          15,
          16,
          17,
          18,
          19,
          20,
          21,
          22,
          23,
          24,
          25,
          26,
          27,
          28,
          29,
          30,
          31,
          32,
          33,
          34,
          35,
          36,
          37,
          38,
          39,
          40,
          41,
          42,
          43,
          44,
          45,
          46,
          47,
          48,
          49,
          50,
          51,
          52,
          53,
          54,
          55,
          56,
          57,
          58,
          59,
          60,
          61,
          62,
          63,
          64,
          65,
          66,
          67,
          68,
          69,
          70,
          71,
          72,
          73,
          74,
          75,
          76,
          77,
          78,
          79,
          80,
          81,
          82,
          83,
          84,
          85,
          86,
          87,
          88,
          89,
          90,
          91,
          92,
          93,
          94,
          95,
          96,
          97,
          98,
          99
         ],
         "xaxis": "x",
         "y": [
          83308,
          83303,
          83298,
          83293,
          83285,
          83276,
          83264,
          83239,
          83214,
          83188,
          83155,
          83127,
          83078,
          83016,
          82924,
          82794,
          82627,
          82427,
          82139,
          81776,
          81324,
          80737,
          79934,
          78959,
          77780,
          76474,
          74907,
          73482,
          71756,
          69075,
          65951,
          62574,
          58954,
          55190,
          52335,
          49696,
          45901,
          42152,
          38892,
          35899,
          33264,
          31698,
          30257,
          28039,
          26063,
          24392,
          23027,
          21837,
          21177,
          20542,
          19742,
          19054,
          18484,
          17970,
          17568,
          17296,
          17099,
          16854,
          16633,
          16431,
          16297,
          16159,
          16078,
          16021,
          15958,
          15899,
          15833,
          15780,
          15752,
          15721,
          15700,
          15678,
          15664,
          15642,
          15629,
          15614,
          15606,
          15598,
          15589,
          15577,
          15572,
          15569,
          15567,
          15563,
          15561,
          15561,
          15558,
          15555,
          15555,
          15554,
          15554,
          15554,
          15554,
          15554,
          15554,
          15554,
          15554,
          15554,
          15554,
          15554
         ],
         "yaxis": "y"
        },
        {
         "hovertemplate": "state=E<br>tick=%{x}<br>count=%{y}<extra></extra>",
         "legendgroup": "E",
         "line": {
          "color": "#EF553B",
          "dash": "solid"
         },
         "marker": {
          "symbol": "circle"
         },
         "mode": "lines",
         "name": "E",
         "orientation": "h",
         "showlegend": true,
         "type": "scatter",
         "x": [
          0,
          1,
          2,
          3,
          4,
          5,
          6,
          7,
          8,
          9,
          10,
          11,
          12,
          13,
          14,
          15,
          16,
          17,
          18,
          19,
          20,
          21,
          22,
          23,
          24,
          25,
          26,
          27,
          28,
          29,
          30,
          31,
          32,
          33,
          34,
          35,
          36,
          37,
          38,
          39,
          40,
          41,
          42,
          43,
          44,
          45,
          46,
          47,
          48,
          49,
          50,
          51,
          52,
          53,
          54,
          55,
          56,
          57,
          58,
          59,
          60,
          61,
          62,
          63,
          64,
          65,
          66,
          67,
          68,
          69,
          70,
          71,
          72,
          73,
          74,
          75,
          76,
          77,
          78,
          79,
          80,
          81,
          82,
          83,
          84,
          85,
          86,
          87,
          88,
          89,
          90,
          91,
          92,
          93,
          94,
          95,
          96,
          97,
          98,
          99
         ],
         "xaxis": "x",
         "y": [
          5,
          10,
          14,
          16,
          20,
          24,
          32,
          49,
          63,
          79,
          99,
          113,
          144,
          181,
          239,
          328,
          456,
          593,
          786,
          1006,
          1300,
          1671,
          2183,
          2816,
          3510,
          4188,
          5036,
          5529,
          6143,
          7512,
          9318,
          11092,
          12676,
          13979,
          14053,
          13437,
          13783,
          14350,
          14571,
          14014,
          13189,
          11463,
          9704,
          8962,
          8590,
          8172,
          7375,
          6688,
          5558,
          4566,
          3814,
          3424,
          3030,
          2741,
          2420,
          2022,
          1597,
          1325,
          1145,
          1015,
          866,
          751,
          635,
          509,
          408,
          333,
          304,
          267,
          221,
          191,
          144,
          128,
          106,
          93,
          75,
          75,
          60,
          55,
          42,
          42,
          38,
          30,
          22,
          20,
          18,
          9,
          7,
          7,
          6,
          6,
          3,
          2,
          0,
          0,
          0,
          0,
          0,
          0,
          0,
          0
         ],
         "yaxis": "y"
        },
        {
         "hovertemplate": "state=Ipresymp<br>tick=%{x}<br>count=%{y}<extra></extra>",
         "legendgroup": "Ipresymp",
         "line": {
          "color": "#00cc96",
          "dash": "solid"
         },
         "marker": {
          "symbol": "circle"
         },
         "mode": "lines",
         "name": "Ipresymp",
         "orientation": "h",
         "showlegend": true,
         "type": "scatter",
         "x": [
          0,
          1,
          2,
          3,
          4,
          5,
          6,
          7,
          8,
          9,
          10,
          11,
          12,
          13,
          14,
          15,
          16,
          17,
          18,
          19,
          20,
          21,
          22,
          23,
          24,
          25,
          26,
          27,
          28,
          29,
          30,
          31,
          32,
          33,
          34,
          35,
          36,
          37,
          38,
          39,
          40,
          41,
          42,
          43,
          44,
          45,
          46,
          47,
          48,
          49,
          50,
          51,
          52,
          53,
          54,
          55,
          56,
          57,
          58,
          59,
          60,
          61,
          62,
          63,
          64,
          65,
          66,
          67,
          68,
          69,
          70,
          71,
          72,
          73,
          74,
          75,
          76,
          77,
          78,
          79,
          80,
          81,
          82,
          83,
          84,
          85,
          86,
          87,
          88,
          89,
          90,
          91,
          92,
          93,
          94,
          95,
          96,
          97,
          98,
          99
         ],
         "xaxis": "x",
         "y": [
          0,
          0,
          1,
          4,
          6,
          4,
          3,
          7,
          11,
          14,
          18,
          21,
          19,
          21,
          29,
          38,
          51,
          70,
          105,
          158,
          195,
          245,
          341,
          423,
          544,
          740,
          894,
          1066,
          1246,
          1427,
          1497,
          1613,
          2185,
          2846,
          3251,
          3525,
          3703,
          3316,
          2773,
          3245,
          3807,
          3549,
          3148,
          2830,
          2115,
          1477,
          1776,
          2059,
          1834,
          1537,
          1275,
          914,
          662,
          704,
          704,
          630,
          539,
          460,
          358,
          249,
          230,
          239,
          209,
          165,
          129,
          102,
          65,
          62,
          68,
          65,
          61,
          43,
          28,
          21,
          21,
          17,
          18,
          19,
          15,
          14,
          8,
          8,
          9,
          6,
          3,
          3,
          4,
          4,
          2,
          1,
          3,
          2,
          1,
          1,
          0,
          0,
          0,
          0,
          0,
          0
         ],
         "yaxis": "y"
        },
        {
         "hovertemplate": "state=Isymp<br>tick=%{x}<br>count=%{y}<extra></extra>",
         "legendgroup": "Isymp",
         "line": {
          "color": "#ab63fa",
          "dash": "solid"
         },
         "marker": {
          "symbol": "circle"
         },
         "mode": "lines",
         "name": "Isymp",
         "orientation": "h",
         "showlegend": true,
         "type": "scatter",
         "x": [
          0,
          1,
          2,
          3,
          4,
          5,
          6,
          7,
          8,
          9,
          10,
          11,
          12,
          13,
          14,
          15,
          16,
          17,
          18,
          19,
          20,
          21,
          22,
          23,
          24,
          25,
          26,
          27,
          28,
          29,
          30,
          31,
          32,
          33,
          34,
          35,
          36,
          37,
          38,
          39,
          40,
          41,
          42,
          43,
          44,
          45,
          46,
          47,
          48,
          49,
          50,
          51,
          52,
          53,
          54,
          55,
          56,
          57,
          58,
          59,
          60,
          61,
          62,
          63,
          64,
          65,
          66,
          67,
          68,
          69,
          70,
          71,
          72,
          73,
          74,
          75,
          76,
          77,
          78,
          79,
          80,
          81,
          82,
          83,
          84,
          85,
          86,
          87,
          88,
          89,
          90,
          91,
          92,
          93,
          94,
          95,
          96,
          97,
          98,
          99
         ],
         "xaxis": "x",
         "y": [
          0,
          0,
          0,
          0,
          1,
          4,
          7,
          6,
          7,
          7,
          11,
          16,
          24,
          28,
          30,
          38,
          47,
          60,
          74,
          99,
          141,
          215,
          264,
          348,
          473,
          619,
          830,
          1084,
          1351,
          1677,
          2012,
          2401,
          2641,
          3002,
          3637,
          4454,
          5192,
          5976,
          6698,
          6756,
          6710,
          7230,
          7505,
          7420,
          7284,
          6926,
          6104,
          5323,
          5098,
          4805,
          4484,
          4054,
          3640,
          3061,
          2660,
          2349,
          2059,
          1786,
          1565,
          1356,
          1133,
          905,
          808,
          698,
          609,
          512,
          437,
          363,
          299,
          245,
          210,
          185,
          157,
          125,
          108,
          98,
          85,
          69,
          60,
          47,
          46,
          41,
          37,
          31,
          20,
          14,
          12,
          13,
          12,
          10,
          7,
          6,
          7,
          6,
          5,
          3,
          2,
          2,
          2,
          1
         ],
         "yaxis": "y"
        },
        {
         "hovertemplate": "state=Iasymp<br>tick=%{x}<br>count=%{y}<extra></extra>",
         "legendgroup": "Iasymp",
         "line": {
          "color": "#FFA15A",
          "dash": "solid"
         },
         "marker": {
          "symbol": "circle"
         },
         "mode": "lines",
         "name": "Iasymp",
         "orientation": "h",
         "showlegend": true,
         "type": "scatter",
         "x": [
          0,
          1,
          2,
          3,
          4,
          5,
          6,
          7,
          8,
          9,
          10,
          11,
          12,
          13,
          14,
          15,
          16,
          17,
          18,
          19,
          20,
          21,
          22,
          23,
          24,
          25,
          26,
          27,
          28,
          29,
          30,
          31,
          32,
          33,
          34,
          35,
          36,
          37,
          38,
          39,
          40,
          41,
          42,
          43,
          44,
          45,
          46,
          47,
          48,
          49,
          50,
          51,
          52,
          53,
          54,
          55,
          56,
          57,
          58,
          59,
          60,
          61,
          62,
          63,
          64,
          65,
          66,
          67,
          68,
          69,
          70,
          71,
          72,
          73,
          74,
          75,
          76,
          77,
          78,
          79,
          80,
          81,
          82,
          83,
          84,
          85,
          86,
          87,
          88,
          89,
          90,
          91,
          92,
          93,
          94,
          95,
          96,
          97,
          98,
          99
         ],
         "xaxis": "x",
         "y": [
          0,
          0,
          0,
          0,
          1,
          5,
          7,
          10,
          14,
          15,
          15,
          17,
          22,
          32,
          45,
          64,
          68,
          83,
          103,
          134,
          175,
          231,
          304,
          403,
          535,
          691,
          864,
          1112,
          1456,
          1851,
          2245,
          2725,
          3164,
          3668,
          4251,
          5138,
          6072,
          7048,
          7905,
          8525,
          8837,
          8970,
          9111,
          9120,
          9003,
          8731,
          8138,
          7374,
          6717,
          6099,
          5597,
          5144,
          4726,
          4221,
          3608,
          3105,
          2639,
          2249,
          1981,
          1754,
          1494,
          1275,
          1035,
          857,
          737,
          655,
          570,
          491,
          404,
          338,
          300,
          233,
          181,
          161,
          150,
          120,
          103,
          84,
          73,
          57,
          50,
          47,
          40,
          39,
          30,
          30,
          26,
          21,
          16,
          15,
          12,
          10,
          5,
          4,
          3,
          2,
          2,
          1,
          0,
          0
         ],
         "yaxis": "y"
        },
        {
         "hovertemplate": "state=R<br>tick=%{x}<br>count=%{y}<extra></extra>",
         "legendgroup": "R",
         "line": {
          "color": "#19d3f3",
          "dash": "solid"
         },
         "marker": {
          "symbol": "circle"
         },
         "mode": "lines",
         "name": "R",
         "orientation": "h",
         "showlegend": true,
         "type": "scatter",
         "x": [
          0,
          1,
          2,
          3,
          4,
          5,
          6,
          7,
          8,
          9,
          10,
          11,
          12,
          13,
          14,
          15,
          16,
          17,
          18,
          19,
          20,
          21,
          22,
          23,
          24,
          25,
          26,
          27,
          28,
          29,
          30,
          31,
          32,
          33,
          34,
          35,
          36,
          37,
          38,
          39,
          40,
          41,
          42,
          43,
          44,
          45,
          46,
          47,
          48,
          49,
          50,
          51,
          52,
          53,
          54,
          55,
          56,
          57,
          58,
          59,
          60,
          61,
          62,
          63,
          64,
          65,
          66,
          67,
          68,
          69,
          70,
          71,
          72,
          73,
          74,
          75,
          76,
          77,
          78,
          79,
          80,
          81,
          82,
          83,
          84,
          85,
          86,
          87,
          88,
          89,
          90,
          91,
          92,
          93,
          94,
          95,
          96,
          97,
          98,
          99
         ],
         "xaxis": "x",
         "y": [
          0,
          0,
          0,
          0,
          0,
          0,
          0,
          2,
          4,
          10,
          15,
          19,
          26,
          35,
          46,
          51,
          64,
          80,
          106,
          140,
          178,
          214,
          287,
          364,
          471,
          601,
          782,
          1040,
          1361,
          1771,
          2290,
          2908,
          3693,
          4628,
          5786,
          7063,
          8662,
          10471,
          12474,
          14874,
          17506,
          20403,
          23588,
          26942,
          30258,
          33615,
          36893,
          40032,
          42929,
          45764,
          48401,
          50723,
          52771,
          54616,
          56353,
          57911,
          59380,
          60639,
          61631,
          62508,
          63293,
          63984,
          64548,
          65063,
          65472,
          65812,
          66104,
          66350,
          66569,
          66753,
          66898,
          67046,
          67177,
          67271,
          67330,
          67389,
          67441,
          67488,
          67534,
          67576,
          67599,
          67618,
          67638,
          67654,
          67681,
          67696,
          67706,
          67713,
          67722,
          67727,
          67734,
          67739,
          67746,
          67748,
          67751,
          67754,
          67755,
          67756,
          67757,
          67758
         ],
         "yaxis": "y"
        }
       ],
       "layout": {
        "autosize": true,
        "legend": {
         "title": {
          "text": "state"
         },
         "tracegroupgap": 0
        },
        "template": {
         "data": {
          "bar": [
           {
            "error_x": {
             "color": "#2a3f5f"
            },
            "error_y": {
             "color": "#2a3f5f"
            },
            "marker": {
             "line": {
              "color": "#E5ECF6",
              "width": 0.5
             },
             "pattern": {
              "fillmode": "overlay",
              "size": 10,
              "solidity": 0.2
             }
            },
            "type": "bar"
           }
          ],
          "barpolar": [
           {
            "marker": {
             "line": {
              "color": "#E5ECF6",
              "width": 0.5
             },
             "pattern": {
              "fillmode": "overlay",
              "size": 10,
              "solidity": 0.2
             }
            },
            "type": "barpolar"
           }
          ],
          "carpet": [
           {
            "aaxis": {
             "endlinecolor": "#2a3f5f",
             "gridcolor": "white",
             "linecolor": "white",
             "minorgridcolor": "white",
             "startlinecolor": "#2a3f5f"
            },
            "baxis": {
             "endlinecolor": "#2a3f5f",
             "gridcolor": "white",
             "linecolor": "white",
             "minorgridcolor": "white",
             "startlinecolor": "#2a3f5f"
            },
            "type": "carpet"
           }
          ],
          "choropleth": [
           {
            "colorbar": {
             "outlinewidth": 0,
             "ticks": ""
            },
            "type": "choropleth"
           }
          ],
          "contour": [
           {
            "colorbar": {
             "outlinewidth": 0,
             "ticks": ""
            },
            "colorscale": [
             [
              0,
              "#0d0887"
             ],
             [
              0.1111111111111111,
              "#46039f"
             ],
             [
              0.2222222222222222,
              "#7201a8"
             ],
             [
              0.3333333333333333,
              "#9c179e"
             ],
             [
              0.4444444444444444,
              "#bd3786"
             ],
             [
              0.5555555555555556,
              "#d8576b"
             ],
             [
              0.6666666666666666,
              "#ed7953"
             ],
             [
              0.7777777777777778,
              "#fb9f3a"
             ],
             [
              0.8888888888888888,
              "#fdca26"
             ],
             [
              1,
              "#f0f921"
             ]
            ],
            "type": "contour"
           }
          ],
          "contourcarpet": [
           {
            "colorbar": {
             "outlinewidth": 0,
             "ticks": ""
            },
            "type": "contourcarpet"
           }
          ],
          "heatmap": [
           {
            "colorbar": {
             "outlinewidth": 0,
             "ticks": ""
            },
            "colorscale": [
             [
              0,
              "#0d0887"
             ],
             [
              0.1111111111111111,
              "#46039f"
             ],
             [
              0.2222222222222222,
              "#7201a8"
             ],
             [
              0.3333333333333333,
              "#9c179e"
             ],
             [
              0.4444444444444444,
              "#bd3786"
             ],
             [
              0.5555555555555556,
              "#d8576b"
             ],
             [
              0.6666666666666666,
              "#ed7953"
             ],
             [
              0.7777777777777778,
              "#fb9f3a"
             ],
             [
              0.8888888888888888,
              "#fdca26"
             ],
             [
              1,
              "#f0f921"
             ]
            ],
            "type": "heatmap"
           }
          ],
          "heatmapgl": [
           {
            "colorbar": {
             "outlinewidth": 0,
             "ticks": ""
            },
            "colorscale": [
             [
              0,
              "#0d0887"
             ],
             [
              0.1111111111111111,
              "#46039f"
             ],
             [
              0.2222222222222222,
              "#7201a8"
             ],
             [
              0.3333333333333333,
              "#9c179e"
             ],
             [
              0.4444444444444444,
              "#bd3786"
             ],
             [
              0.5555555555555556,
              "#d8576b"
             ],
             [
              0.6666666666666666,
              "#ed7953"
             ],
             [
              0.7777777777777778,
              "#fb9f3a"
             ],
             [
              0.8888888888888888,
              "#fdca26"
             ],
             [
              1,
              "#f0f921"
             ]
            ],
            "type": "heatmapgl"
           }
          ],
          "histogram": [
           {
            "marker": {
             "pattern": {
              "fillmode": "overlay",
              "size": 10,
              "solidity": 0.2
             }
            },
            "type": "histogram"
           }
          ],
          "histogram2d": [
           {
            "colorbar": {
             "outlinewidth": 0,
             "ticks": ""
            },
            "colorscale": [
             [
              0,
              "#0d0887"
             ],
             [
              0.1111111111111111,
              "#46039f"
             ],
             [
              0.2222222222222222,
              "#7201a8"
             ],
             [
              0.3333333333333333,
              "#9c179e"
             ],
             [
              0.4444444444444444,
              "#bd3786"
             ],
             [
              0.5555555555555556,
              "#d8576b"
             ],
             [
              0.6666666666666666,
              "#ed7953"
             ],
             [
              0.7777777777777778,
              "#fb9f3a"
             ],
             [
              0.8888888888888888,
              "#fdca26"
             ],
             [
              1,
              "#f0f921"
             ]
            ],
            "type": "histogram2d"
           }
          ],
          "histogram2dcontour": [
           {
            "colorbar": {
             "outlinewidth": 0,
             "ticks": ""
            },
            "colorscale": [
             [
              0,
              "#0d0887"
             ],
             [
              0.1111111111111111,
              "#46039f"
             ],
             [
              0.2222222222222222,
              "#7201a8"
             ],
             [
              0.3333333333333333,
              "#9c179e"
             ],
             [
              0.4444444444444444,
              "#bd3786"
             ],
             [
              0.5555555555555556,
              "#d8576b"
             ],
             [
              0.6666666666666666,
              "#ed7953"
             ],
             [
              0.7777777777777778,
              "#fb9f3a"
             ],
             [
              0.8888888888888888,
              "#fdca26"
             ],
             [
              1,
              "#f0f921"
             ]
            ],
            "type": "histogram2dcontour"
           }
          ],
          "mesh3d": [
           {
            "colorbar": {
             "outlinewidth": 0,
             "ticks": ""
            },
            "type": "mesh3d"
           }
          ],
          "parcoords": [
           {
            "line": {
             "colorbar": {
              "outlinewidth": 0,
              "ticks": ""
             }
            },
            "type": "parcoords"
           }
          ],
          "pie": [
           {
            "automargin": true,
            "type": "pie"
           }
          ],
          "scatter": [
           {
            "fillpattern": {
             "fillmode": "overlay",
             "size": 10,
             "solidity": 0.2
            },
            "type": "scatter"
           }
          ],
          "scatter3d": [
           {
            "line": {
             "colorbar": {
              "outlinewidth": 0,
              "ticks": ""
             }
            },
            "marker": {
             "colorbar": {
              "outlinewidth": 0,
              "ticks": ""
             }
            },
            "type": "scatter3d"
           }
          ],
          "scattercarpet": [
           {
            "marker": {
             "colorbar": {
              "outlinewidth": 0,
              "ticks": ""
             }
            },
            "type": "scattercarpet"
           }
          ],
          "scattergeo": [
           {
            "marker": {
             "colorbar": {
              "outlinewidth": 0,
              "ticks": ""
             }
            },
            "type": "scattergeo"
           }
          ],
          "scattergl": [
           {
            "marker": {
             "colorbar": {
              "outlinewidth": 0,
              "ticks": ""
             }
            },
            "type": "scattergl"
           }
          ],
          "scattermapbox": [
           {
            "marker": {
             "colorbar": {
              "outlinewidth": 0,
              "ticks": ""
             }
            },
            "type": "scattermapbox"
           }
          ],
          "scatterpolar": [
           {
            "marker": {
             "colorbar": {
              "outlinewidth": 0,
              "ticks": ""
             }
            },
            "type": "scatterpolar"
           }
          ],
          "scatterpolargl": [
           {
            "marker": {
             "colorbar": {
              "outlinewidth": 0,
              "ticks": ""
             }
            },
            "type": "scatterpolargl"
           }
          ],
          "scatterternary": [
           {
            "marker": {
             "colorbar": {
              "outlinewidth": 0,
              "ticks": ""
             }
            },
            "type": "scatterternary"
           }
          ],
          "surface": [
           {
            "colorbar": {
             "outlinewidth": 0,
             "ticks": ""
            },
            "colorscale": [
             [
              0,
              "#0d0887"
             ],
             [
              0.1111111111111111,
              "#46039f"
             ],
             [
              0.2222222222222222,
              "#7201a8"
             ],
             [
              0.3333333333333333,
              "#9c179e"
             ],
             [
              0.4444444444444444,
              "#bd3786"
             ],
             [
              0.5555555555555556,
              "#d8576b"
             ],
             [
              0.6666666666666666,
              "#ed7953"
             ],
             [
              0.7777777777777778,
              "#fb9f3a"
             ],
             [
              0.8888888888888888,
              "#fdca26"
             ],
             [
              1,
              "#f0f921"
             ]
            ],
            "type": "surface"
           }
          ],
          "table": [
           {
            "cells": {
             "fill": {
              "color": "#EBF0F8"
             },
             "line": {
              "color": "white"
             }
            },
            "header": {
             "fill": {
              "color": "#C8D4E3"
             },
             "line": {
              "color": "white"
             }
            },
            "type": "table"
           }
          ]
         },
         "layout": {
          "annotationdefaults": {
           "arrowcolor": "#2a3f5f",
           "arrowhead": 0,
           "arrowwidth": 1
          },
          "autotypenumbers": "strict",
          "coloraxis": {
           "colorbar": {
            "outlinewidth": 0,
            "ticks": ""
           }
          },
          "colorscale": {
           "diverging": [
            [
             0,
             "#8e0152"
            ],
            [
             0.1,
             "#c51b7d"
            ],
            [
             0.2,
             "#de77ae"
            ],
            [
             0.3,
             "#f1b6da"
            ],
            [
             0.4,
             "#fde0ef"
            ],
            [
             0.5,
             "#f7f7f7"
            ],
            [
             0.6,
             "#e6f5d0"
            ],
            [
             0.7,
             "#b8e186"
            ],
            [
             0.8,
             "#7fbc41"
            ],
            [
             0.9,
             "#4d9221"
            ],
            [
             1,
             "#276419"
            ]
           ],
           "sequential": [
            [
             0,
             "#0d0887"
            ],
            [
             0.1111111111111111,
             "#46039f"
            ],
            [
             0.2222222222222222,
             "#7201a8"
            ],
            [
             0.3333333333333333,
             "#9c179e"
            ],
            [
             0.4444444444444444,
             "#bd3786"
            ],
            [
             0.5555555555555556,
             "#d8576b"
            ],
            [
             0.6666666666666666,
             "#ed7953"
            ],
            [
             0.7777777777777778,
             "#fb9f3a"
            ],
            [
             0.8888888888888888,
             "#fdca26"
            ],
            [
             1,
             "#f0f921"
            ]
           ],
           "sequentialminus": [
            [
             0,
             "#0d0887"
            ],
            [
             0.1111111111111111,
             "#46039f"
            ],
            [
             0.2222222222222222,
             "#7201a8"
            ],
            [
             0.3333333333333333,
             "#9c179e"
            ],
            [
             0.4444444444444444,
             "#bd3786"
            ],
            [
             0.5555555555555556,
             "#d8576b"
            ],
            [
             0.6666666666666666,
             "#ed7953"
            ],
            [
             0.7777777777777778,
             "#fb9f3a"
            ],
            [
             0.8888888888888888,
             "#fdca26"
            ],
            [
             1,
             "#f0f921"
            ]
           ]
          },
          "colorway": [
           "#636efa",
           "#EF553B",
           "#00cc96",
           "#ab63fa",
           "#FFA15A",
           "#19d3f3",
           "#FF6692",
           "#B6E880",
           "#FF97FF",
           "#FECB52"
          ],
          "font": {
           "color": "#2a3f5f"
          },
          "geo": {
           "bgcolor": "white",
           "lakecolor": "white",
           "landcolor": "#E5ECF6",
           "showlakes": true,
           "showland": true,
           "subunitcolor": "white"
          },
          "hoverlabel": {
           "align": "left"
          },
          "hovermode": "closest",
          "mapbox": {
           "style": "light"
          },
          "paper_bgcolor": "white",
          "plot_bgcolor": "#E5ECF6",
          "polar": {
           "angularaxis": {
            "gridcolor": "white",
            "linecolor": "white",
            "ticks": ""
           },
           "bgcolor": "#E5ECF6",
           "radialaxis": {
            "gridcolor": "white",
            "linecolor": "white",
            "ticks": ""
           }
          },
          "scene": {
           "xaxis": {
            "backgroundcolor": "#E5ECF6",
            "gridcolor": "white",
            "gridwidth": 2,
            "linecolor": "white",
            "showbackground": true,
            "ticks": "",
            "zerolinecolor": "white"
           },
           "yaxis": {
            "backgroundcolor": "#E5ECF6",
            "gridcolor": "white",
            "gridwidth": 2,
            "linecolor": "white",
            "showbackground": true,
            "ticks": "",
            "zerolinecolor": "white"
           },
           "zaxis": {
            "backgroundcolor": "#E5ECF6",
            "gridcolor": "white",
            "gridwidth": 2,
            "linecolor": "white",
            "showbackground": true,
            "ticks": "",
            "zerolinecolor": "white"
           }
          },
          "shapedefaults": {
           "line": {
            "color": "#2a3f5f"
           }
          },
          "ternary": {
           "aaxis": {
            "gridcolor": "white",
            "linecolor": "white",
            "ticks": ""
           },
           "baxis": {
            "gridcolor": "white",
            "linecolor": "white",
            "ticks": ""
           },
           "bgcolor": "#E5ECF6",
           "caxis": {
            "gridcolor": "white",
            "linecolor": "white",
            "ticks": ""
           }
          },
          "title": {
           "x": 0.05
          },
          "xaxis": {
           "automargin": true,
           "gridcolor": "white",
           "linecolor": "white",
           "ticks": "",
           "title": {
            "standoff": 15
           },
           "zerolinecolor": "white",
           "zerolinewidth": 2
          },
          "yaxis": {
           "automargin": true,
           "gridcolor": "white",
           "linecolor": "white",
           "ticks": "",
           "title": {
            "standoff": 15
           },
           "zerolinecolor": "white",
           "zerolinewidth": 2
          }
         }
        },
        "title": {
         "text": "Number of individuals in each state over time"
        },
        "xaxis": {
         "anchor": "y",
         "autorange": true,
         "domain": [
          0,
          1
         ],
         "range": [
          0,
          99
         ],
         "title": {
          "text": "tick"
         },
         "type": "linear"
        },
        "yaxis": {
         "anchor": "x",
         "autorange": true,
         "domain": [
          0,
          1
         ],
         "range": [
          -4628.222222222222,
          87936.22222222222
         ],
         "title": {
          "text": "count"
         },
         "type": "linear"
        }
       }
      }
     },
     "metadata": {},
     "output_type": "display_data"
    }
   ],
   "source": [
    "states = summary.columns\n",
    "states.remove(\"tick\")\n",
    "\n",
    "title = \"Number of individuals in each state over time\"\n",
    "pdf = summary.melt(id_vars=\"tick\", value_vars=states, variable_name=\"state\", value_name=\"count\")\n",
    "px.line(pdf, x=\"tick\", y=\"count\", color=\"state\", title=title)"
   ]
  },
  {
   "cell_type": "code",
   "execution_count": 21,
   "id": "9ed94027-7e42-4cee-8871-ce01f6354bd9",
   "metadata": {},
   "outputs": [
    {
     "data": {
      "application/vnd.plotly.v1+json": {
       "config": {
        "plotlyServerURL": "https://plot.ly"
       },
       "data": [
        {
         "hovertemplate": "state=S<br>tick=%{x}<br>count=%{y}<extra></extra>",
         "legendgroup": "S",
         "line": {
          "color": "#636efa",
          "dash": "solid"
         },
         "marker": {
          "symbol": "circle"
         },
         "mode": "lines",
         "name": "S",
         "orientation": "v",
         "showlegend": true,
         "type": "scatter",
         "x": [
          0,
          1,
          2,
          3,
          4,
          5,
          6,
          7,
          8,
          9,
          10,
          11,
          12,
          13,
          14,
          15,
          16,
          17,
          18,
          19,
          20,
          21,
          22,
          23,
          24,
          25,
          26,
          27,
          28,
          29,
          30,
          31,
          32,
          33,
          34,
          35,
          36,
          37,
          38,
          39,
          40,
          41,
          42,
          43,
          44,
          45,
          46,
          47,
          48,
          49,
          50,
          51,
          52,
          53,
          54,
          55,
          56,
          57,
          58,
          59,
          60,
          61,
          62,
          63,
          64,
          65,
          66,
          67,
          68,
          69,
          70,
          71,
          72,
          73,
          74,
          75,
          76,
          77,
          78,
          79,
          80,
          81,
          82,
          83,
          84,
          85,
          86,
          87,
          88,
          89,
          90,
          91,
          92,
          93,
          94,
          95,
          96,
          97,
          98,
          99
         ],
         "xaxis": "x",
         "y": [
          0,
          0,
          0,
          0,
          0,
          0,
          0,
          0,
          0,
          0,
          0,
          0,
          0,
          0,
          0,
          0,
          0,
          0,
          0,
          0,
          0,
          0,
          0,
          0,
          0,
          0,
          0,
          0,
          0,
          0,
          0,
          0,
          0,
          0,
          0,
          0,
          0,
          0,
          0,
          0,
          0,
          0,
          0,
          0,
          0,
          0,
          0,
          0,
          0,
          0,
          0,
          0,
          0,
          0,
          0,
          0,
          0,
          0,
          0,
          0,
          0,
          0,
          0,
          0,
          0,
          0,
          0,
          0,
          0,
          0,
          0,
          0,
          0,
          0,
          0,
          0,
          0,
          0,
          0,
          0,
          0,
          0,
          0,
          0,
          0,
          0,
          0,
          0,
          0,
          0,
          0,
          0,
          0,
          0,
          0,
          0,
          0,
          0,
          0,
          0
         ],
         "yaxis": "y"
        },
        {
         "hovertemplate": "state=E<br>tick=%{x}<br>count=%{y}<extra></extra>",
         "legendgroup": "E",
         "line": {
          "color": "#EF553B",
          "dash": "solid"
         },
         "marker": {
          "symbol": "circle"
         },
         "mode": "lines",
         "name": "E",
         "orientation": "v",
         "showlegend": true,
         "type": "scatter",
         "x": [
          0,
          1,
          2,
          3,
          4,
          5,
          6,
          7,
          8,
          9,
          10,
          11,
          12,
          13,
          14,
          15,
          16,
          17,
          18,
          19,
          20,
          21,
          22,
          23,
          24,
          25,
          26,
          27,
          28,
          29,
          30,
          31,
          32,
          33,
          34,
          35,
          36,
          37,
          38,
          39,
          40,
          41,
          42,
          43,
          44,
          45,
          46,
          47,
          48,
          49,
          50,
          51,
          52,
          53,
          54,
          55,
          56,
          57,
          58,
          59,
          60,
          61,
          62,
          63,
          64,
          65,
          66,
          67,
          68,
          69,
          70,
          71,
          72,
          73,
          74,
          75,
          76,
          77,
          78,
          79,
          80,
          81,
          82,
          83,
          84,
          85,
          86,
          87,
          88,
          89,
          90,
          91,
          92,
          93,
          94,
          95,
          96,
          97,
          98,
          99
         ],
         "xaxis": "x",
         "y": [
          0,
          0,
          0,
          0,
          3,
          7,
          14,
          34,
          54,
          75,
          108,
          136,
          185,
          247,
          339,
          469,
          636,
          836,
          1124,
          1487,
          1939,
          2526,
          3329,
          4304,
          5483,
          6789,
          8356,
          9781,
          11507,
          14188,
          17312,
          20689,
          24309,
          28073,
          30928,
          33567,
          37362,
          41111,
          44371,
          47364,
          49999,
          51565,
          53006,
          55224,
          57200,
          58871,
          60236,
          61426,
          62086,
          62721,
          63521,
          64209,
          64779,
          65293,
          65695,
          65967,
          66164,
          66409,
          66630,
          66832,
          66966,
          67104,
          67185,
          67242,
          67305,
          67364,
          67430,
          67483,
          67511,
          67542,
          67563,
          67585,
          67599,
          67621,
          67634,
          67649,
          67657,
          67665,
          67674,
          67686,
          67691,
          67694,
          67696,
          67700,
          67702,
          67702,
          67705,
          67708,
          67708,
          67709,
          67709,
          67709,
          67709,
          67709,
          67709,
          67709,
          67709,
          67709,
          67709,
          67709
         ],
         "yaxis": "y"
        },
        {
         "hovertemplate": "state=Ipresymp<br>tick=%{x}<br>count=%{y}<extra></extra>",
         "legendgroup": "Ipresymp",
         "line": {
          "color": "#00cc96",
          "dash": "solid"
         },
         "marker": {
          "symbol": "circle"
         },
         "mode": "lines",
         "name": "Ipresymp",
         "orientation": "v",
         "showlegend": true,
         "type": "scatter",
         "x": [
          0,
          1,
          2,
          3,
          4,
          5,
          6,
          7,
          8,
          9,
          10,
          11,
          12,
          13,
          14,
          15,
          16,
          17,
          18,
          19,
          20,
          21,
          22,
          23,
          24,
          25,
          26,
          27,
          28,
          29,
          30,
          31,
          32,
          33,
          34,
          35,
          36,
          37,
          38,
          39,
          40,
          41,
          42,
          43,
          44,
          45,
          46,
          47,
          48,
          49,
          50,
          51,
          52,
          53,
          54,
          55,
          56,
          57,
          58,
          59,
          60,
          61,
          62,
          63,
          64,
          65,
          66,
          67,
          68,
          69,
          70,
          71,
          72,
          73,
          74,
          75,
          76,
          77,
          78,
          79,
          80,
          81,
          82,
          83,
          84,
          85,
          86,
          87,
          88,
          89,
          90,
          91,
          92,
          93,
          94,
          95,
          96,
          97,
          98,
          99
         ],
         "xaxis": "x",
         "y": [
          0,
          0,
          1,
          4,
          7,
          8,
          10,
          15,
          21,
          29,
          39,
          50,
          58,
          71,
          87,
          109,
          138,
          179,
          243,
          337,
          438,
          582,
          779,
          1005,
          1323,
          1745,
          2217,
          2811,
          3463,
          4238,
          4960,
          5851,
          7145,
          8697,
          10396,
          12222,
          14099,
          15538,
          16872,
          18783,
          20679,
          22332,
          23827,
          25162,
          25942,
          26639,
          27718,
          28698,
          29552,
          30235,
          30827,
          31149,
          31489,
          31853,
          32193,
          32483,
          32732,
          32943,
          33090,
          33192,
          33320,
          33431,
          33529,
          33596,
          33658,
          33698,
          33723,
          33760,
          33791,
          33825,
          33852,
          33868,
          33880,
          33889,
          33901,
          33906,
          33919,
          33925,
          33934,
          33939,
          33942,
          33947,
          33951,
          33953,
          33954,
          33956,
          33958,
          33960,
          33960,
          33961,
          33963,
          33963,
          33964,
          33964,
          33964,
          33964,
          33964,
          33964,
          33964,
          33964
         ],
         "yaxis": "y"
        },
        {
         "hovertemplate": "state=Isymp<br>tick=%{x}<br>count=%{y}<extra></extra>",
         "legendgroup": "Isymp",
         "line": {
          "color": "#ab63fa",
          "dash": "solid"
         },
         "marker": {
          "symbol": "circle"
         },
         "mode": "lines",
         "name": "Isymp",
         "orientation": "v",
         "showlegend": true,
         "type": "scatter",
         "x": [
          0,
          1,
          2,
          3,
          4,
          5,
          6,
          7,
          8,
          9,
          10,
          11,
          12,
          13,
          14,
          15,
          16,
          17,
          18,
          19,
          20,
          21,
          22,
          23,
          24,
          25,
          26,
          27,
          28,
          29,
          30,
          31,
          32,
          33,
          34,
          35,
          36,
          37,
          38,
          39,
          40,
          41,
          42,
          43,
          44,
          45,
          46,
          47,
          48,
          49,
          50,
          51,
          52,
          53,
          54,
          55,
          56,
          57,
          58,
          59,
          60,
          61,
          62,
          63,
          64,
          65,
          66,
          67,
          68,
          69,
          70,
          71,
          72,
          73,
          74,
          75,
          76,
          77,
          78,
          79,
          80,
          81,
          82,
          83,
          84,
          85,
          86,
          87,
          88,
          89,
          90,
          91,
          92,
          93,
          94,
          95,
          96,
          97,
          98,
          99
         ],
         "xaxis": "x",
         "y": [
          0,
          0,
          0,
          0,
          1,
          4,
          7,
          8,
          10,
          15,
          21,
          29,
          39,
          50,
          58,
          71,
          87,
          109,
          138,
          179,
          243,
          337,
          438,
          582,
          779,
          1005,
          1323,
          1745,
          2217,
          2811,
          3463,
          4238,
          4960,
          5851,
          7145,
          8697,
          10396,
          12222,
          14099,
          15538,
          16872,
          18783,
          20679,
          22332,
          23827,
          25162,
          25942,
          26639,
          27718,
          28698,
          29552,
          30235,
          30827,
          31149,
          31489,
          31853,
          32193,
          32483,
          32732,
          32943,
          33090,
          33192,
          33320,
          33431,
          33529,
          33596,
          33658,
          33698,
          33723,
          33760,
          33791,
          33825,
          33852,
          33868,
          33880,
          33889,
          33901,
          33906,
          33919,
          33925,
          33934,
          33939,
          33942,
          33947,
          33951,
          33953,
          33954,
          33956,
          33958,
          33960,
          33960,
          33961,
          33963,
          33963,
          33964,
          33964,
          33964,
          33964,
          33964,
          33964
         ],
         "yaxis": "y"
        },
        {
         "hovertemplate": "state=Iasymp<br>tick=%{x}<br>count=%{y}<extra></extra>",
         "legendgroup": "Iasymp",
         "line": {
          "color": "#FFA15A",
          "dash": "solid"
         },
         "marker": {
          "symbol": "circle"
         },
         "mode": "lines",
         "name": "Iasymp",
         "orientation": "v",
         "showlegend": true,
         "type": "scatter",
         "x": [
          0,
          1,
          2,
          3,
          4,
          5,
          6,
          7,
          8,
          9,
          10,
          11,
          12,
          13,
          14,
          15,
          16,
          17,
          18,
          19,
          20,
          21,
          22,
          23,
          24,
          25,
          26,
          27,
          28,
          29,
          30,
          31,
          32,
          33,
          34,
          35,
          36,
          37,
          38,
          39,
          40,
          41,
          42,
          43,
          44,
          45,
          46,
          47,
          48,
          49,
          50,
          51,
          52,
          53,
          54,
          55,
          56,
          57,
          58,
          59,
          60,
          61,
          62,
          63,
          64,
          65,
          66,
          67,
          68,
          69,
          70,
          71,
          72,
          73,
          74,
          75,
          76,
          77,
          78,
          79,
          80,
          81,
          82,
          83,
          84,
          85,
          86,
          87,
          88,
          89,
          90,
          91,
          92,
          93,
          94,
          95,
          96,
          97,
          98,
          99
         ],
         "xaxis": "x",
         "y": [
          0,
          0,
          0,
          0,
          1,
          5,
          7,
          10,
          15,
          17,
          20,
          23,
          33,
          45,
          63,
          82,
          92,
          114,
          145,
          194,
          251,
          323,
          417,
          533,
          700,
          906,
          1153,
          1491,
          1951,
          2488,
          3084,
          3796,
          4538,
          5447,
          6529,
          7958,
          9530,
          11273,
          12978,
          14617,
          16181,
          17820,
          19525,
          21150,
          22718,
          24110,
          25193,
          26090,
          27026,
          27970,
          28930,
          29686,
          30310,
          30749,
          31132,
          31512,
          31885,
          32191,
          32445,
          32675,
          32830,
          32972,
          33071,
          33187,
          33289,
          33383,
          33453,
          33506,
          33549,
          33576,
          33617,
          33639,
          33663,
          33689,
          33708,
          33718,
          33728,
          33735,
          33748,
          33755,
          33761,
          33767,
          33773,
          33777,
          33780,
          33787,
          33790,
          33791,
          33792,
          33792,
          33793,
          33794,
          33795,
          33795,
          33795,
          33795,
          33795,
          33795,
          33795,
          33795
         ],
         "yaxis": "y"
        },
        {
         "hovertemplate": "state=R<br>tick=%{x}<br>count=%{y}<extra></extra>",
         "legendgroup": "R",
         "line": {
          "color": "#19d3f3",
          "dash": "solid"
         },
         "marker": {
          "symbol": "circle"
         },
         "mode": "lines",
         "name": "R",
         "orientation": "v",
         "showlegend": true,
         "type": "scatter",
         "x": [
          0,
          1,
          2,
          3,
          4,
          5,
          6,
          7,
          8,
          9,
          10,
          11,
          12,
          13,
          14,
          15,
          16,
          17,
          18,
          19,
          20,
          21,
          22,
          23,
          24,
          25,
          26,
          27,
          28,
          29,
          30,
          31,
          32,
          33,
          34,
          35,
          36,
          37,
          38,
          39,
          40,
          41,
          42,
          43,
          44,
          45,
          46,
          47,
          48,
          49,
          50,
          51,
          52,
          53,
          54,
          55,
          56,
          57,
          58,
          59,
          60,
          61,
          62,
          63,
          64,
          65,
          66,
          67,
          68,
          69,
          70,
          71,
          72,
          73,
          74,
          75,
          76,
          77,
          78,
          79,
          80,
          81,
          82,
          83,
          84,
          85,
          86,
          87,
          88,
          89,
          90,
          91,
          92,
          93,
          94,
          95,
          96,
          97,
          98,
          99
         ],
         "xaxis": "x",
         "y": [
          0,
          0,
          0,
          0,
          0,
          0,
          0,
          2,
          4,
          10,
          15,
          19,
          26,
          35,
          46,
          51,
          64,
          80,
          106,
          140,
          178,
          214,
          287,
          364,
          471,
          601,
          782,
          1040,
          1361,
          1771,
          2290,
          2908,
          3693,
          4628,
          5786,
          7063,
          8662,
          10471,
          12474,
          14874,
          17506,
          20403,
          23588,
          26942,
          30258,
          33615,
          36893,
          40032,
          42929,
          45764,
          48401,
          50723,
          52771,
          54616,
          56353,
          57911,
          59380,
          60639,
          61631,
          62508,
          63293,
          63984,
          64548,
          65063,
          65472,
          65812,
          66104,
          66350,
          66569,
          66753,
          66898,
          67046,
          67177,
          67271,
          67330,
          67389,
          67441,
          67488,
          67534,
          67576,
          67599,
          67618,
          67638,
          67654,
          67681,
          67696,
          67706,
          67713,
          67722,
          67727,
          67734,
          67739,
          67746,
          67748,
          67751,
          67754,
          67755,
          67756,
          67757,
          67758
         ],
         "yaxis": "y"
        }
       ],
       "layout": {
        "autosize": true,
        "legend": {
         "title": {
          "text": "state"
         },
         "tracegroupgap": 0
        },
        "template": {
         "data": {
          "bar": [
           {
            "error_x": {
             "color": "#2a3f5f"
            },
            "error_y": {
             "color": "#2a3f5f"
            },
            "marker": {
             "line": {
              "color": "#E5ECF6",
              "width": 0.5
             },
             "pattern": {
              "fillmode": "overlay",
              "size": 10,
              "solidity": 0.2
             }
            },
            "type": "bar"
           }
          ],
          "barpolar": [
           {
            "marker": {
             "line": {
              "color": "#E5ECF6",
              "width": 0.5
             },
             "pattern": {
              "fillmode": "overlay",
              "size": 10,
              "solidity": 0.2
             }
            },
            "type": "barpolar"
           }
          ],
          "carpet": [
           {
            "aaxis": {
             "endlinecolor": "#2a3f5f",
             "gridcolor": "white",
             "linecolor": "white",
             "minorgridcolor": "white",
             "startlinecolor": "#2a3f5f"
            },
            "baxis": {
             "endlinecolor": "#2a3f5f",
             "gridcolor": "white",
             "linecolor": "white",
             "minorgridcolor": "white",
             "startlinecolor": "#2a3f5f"
            },
            "type": "carpet"
           }
          ],
          "choropleth": [
           {
            "colorbar": {
             "outlinewidth": 0,
             "ticks": ""
            },
            "type": "choropleth"
           }
          ],
          "contour": [
           {
            "colorbar": {
             "outlinewidth": 0,
             "ticks": ""
            },
            "colorscale": [
             [
              0,
              "#0d0887"
             ],
             [
              0.1111111111111111,
              "#46039f"
             ],
             [
              0.2222222222222222,
              "#7201a8"
             ],
             [
              0.3333333333333333,
              "#9c179e"
             ],
             [
              0.4444444444444444,
              "#bd3786"
             ],
             [
              0.5555555555555556,
              "#d8576b"
             ],
             [
              0.6666666666666666,
              "#ed7953"
             ],
             [
              0.7777777777777778,
              "#fb9f3a"
             ],
             [
              0.8888888888888888,
              "#fdca26"
             ],
             [
              1,
              "#f0f921"
             ]
            ],
            "type": "contour"
           }
          ],
          "contourcarpet": [
           {
            "colorbar": {
             "outlinewidth": 0,
             "ticks": ""
            },
            "type": "contourcarpet"
           }
          ],
          "heatmap": [
           {
            "colorbar": {
             "outlinewidth": 0,
             "ticks": ""
            },
            "colorscale": [
             [
              0,
              "#0d0887"
             ],
             [
              0.1111111111111111,
              "#46039f"
             ],
             [
              0.2222222222222222,
              "#7201a8"
             ],
             [
              0.3333333333333333,
              "#9c179e"
             ],
             [
              0.4444444444444444,
              "#bd3786"
             ],
             [
              0.5555555555555556,
              "#d8576b"
             ],
             [
              0.6666666666666666,
              "#ed7953"
             ],
             [
              0.7777777777777778,
              "#fb9f3a"
             ],
             [
              0.8888888888888888,
              "#fdca26"
             ],
             [
              1,
              "#f0f921"
             ]
            ],
            "type": "heatmap"
           }
          ],
          "heatmapgl": [
           {
            "colorbar": {
             "outlinewidth": 0,
             "ticks": ""
            },
            "colorscale": [
             [
              0,
              "#0d0887"
             ],
             [
              0.1111111111111111,
              "#46039f"
             ],
             [
              0.2222222222222222,
              "#7201a8"
             ],
             [
              0.3333333333333333,
              "#9c179e"
             ],
             [
              0.4444444444444444,
              "#bd3786"
             ],
             [
              0.5555555555555556,
              "#d8576b"
             ],
             [
              0.6666666666666666,
              "#ed7953"
             ],
             [
              0.7777777777777778,
              "#fb9f3a"
             ],
             [
              0.8888888888888888,
              "#fdca26"
             ],
             [
              1,
              "#f0f921"
             ]
            ],
            "type": "heatmapgl"
           }
          ],
          "histogram": [
           {
            "marker": {
             "pattern": {
              "fillmode": "overlay",
              "size": 10,
              "solidity": 0.2
             }
            },
            "type": "histogram"
           }
          ],
          "histogram2d": [
           {
            "colorbar": {
             "outlinewidth": 0,
             "ticks": ""
            },
            "colorscale": [
             [
              0,
              "#0d0887"
             ],
             [
              0.1111111111111111,
              "#46039f"
             ],
             [
              0.2222222222222222,
              "#7201a8"
             ],
             [
              0.3333333333333333,
              "#9c179e"
             ],
             [
              0.4444444444444444,
              "#bd3786"
             ],
             [
              0.5555555555555556,
              "#d8576b"
             ],
             [
              0.6666666666666666,
              "#ed7953"
             ],
             [
              0.7777777777777778,
              "#fb9f3a"
             ],
             [
              0.8888888888888888,
              "#fdca26"
             ],
             [
              1,
              "#f0f921"
             ]
            ],
            "type": "histogram2d"
           }
          ],
          "histogram2dcontour": [
           {
            "colorbar": {
             "outlinewidth": 0,
             "ticks": ""
            },
            "colorscale": [
             [
              0,
              "#0d0887"
             ],
             [
              0.1111111111111111,
              "#46039f"
             ],
             [
              0.2222222222222222,
              "#7201a8"
             ],
             [
              0.3333333333333333,
              "#9c179e"
             ],
             [
              0.4444444444444444,
              "#bd3786"
             ],
             [
              0.5555555555555556,
              "#d8576b"
             ],
             [
              0.6666666666666666,
              "#ed7953"
             ],
             [
              0.7777777777777778,
              "#fb9f3a"
             ],
             [
              0.8888888888888888,
              "#fdca26"
             ],
             [
              1,
              "#f0f921"
             ]
            ],
            "type": "histogram2dcontour"
           }
          ],
          "mesh3d": [
           {
            "colorbar": {
             "outlinewidth": 0,
             "ticks": ""
            },
            "type": "mesh3d"
           }
          ],
          "parcoords": [
           {
            "line": {
             "colorbar": {
              "outlinewidth": 0,
              "ticks": ""
             }
            },
            "type": "parcoords"
           }
          ],
          "pie": [
           {
            "automargin": true,
            "type": "pie"
           }
          ],
          "scatter": [
           {
            "fillpattern": {
             "fillmode": "overlay",
             "size": 10,
             "solidity": 0.2
            },
            "type": "scatter"
           }
          ],
          "scatter3d": [
           {
            "line": {
             "colorbar": {
              "outlinewidth": 0,
              "ticks": ""
             }
            },
            "marker": {
             "colorbar": {
              "outlinewidth": 0,
              "ticks": ""
             }
            },
            "type": "scatter3d"
           }
          ],
          "scattercarpet": [
           {
            "marker": {
             "colorbar": {
              "outlinewidth": 0,
              "ticks": ""
             }
            },
            "type": "scattercarpet"
           }
          ],
          "scattergeo": [
           {
            "marker": {
             "colorbar": {
              "outlinewidth": 0,
              "ticks": ""
             }
            },
            "type": "scattergeo"
           }
          ],
          "scattergl": [
           {
            "marker": {
             "colorbar": {
              "outlinewidth": 0,
              "ticks": ""
             }
            },
            "type": "scattergl"
           }
          ],
          "scattermapbox": [
           {
            "marker": {
             "colorbar": {
              "outlinewidth": 0,
              "ticks": ""
             }
            },
            "type": "scattermapbox"
           }
          ],
          "scatterpolar": [
           {
            "marker": {
             "colorbar": {
              "outlinewidth": 0,
              "ticks": ""
             }
            },
            "type": "scatterpolar"
           }
          ],
          "scatterpolargl": [
           {
            "marker": {
             "colorbar": {
              "outlinewidth": 0,
              "ticks": ""
             }
            },
            "type": "scatterpolargl"
           }
          ],
          "scatterternary": [
           {
            "marker": {
             "colorbar": {
              "outlinewidth": 0,
              "ticks": ""
             }
            },
            "type": "scatterternary"
           }
          ],
          "surface": [
           {
            "colorbar": {
             "outlinewidth": 0,
             "ticks": ""
            },
            "colorscale": [
             [
              0,
              "#0d0887"
             ],
             [
              0.1111111111111111,
              "#46039f"
             ],
             [
              0.2222222222222222,
              "#7201a8"
             ],
             [
              0.3333333333333333,
              "#9c179e"
             ],
             [
              0.4444444444444444,
              "#bd3786"
             ],
             [
              0.5555555555555556,
              "#d8576b"
             ],
             [
              0.6666666666666666,
              "#ed7953"
             ],
             [
              0.7777777777777778,
              "#fb9f3a"
             ],
             [
              0.8888888888888888,
              "#fdca26"
             ],
             [
              1,
              "#f0f921"
             ]
            ],
            "type": "surface"
           }
          ],
          "table": [
           {
            "cells": {
             "fill": {
              "color": "#EBF0F8"
             },
             "line": {
              "color": "white"
             }
            },
            "header": {
             "fill": {
              "color": "#C8D4E3"
             },
             "line": {
              "color": "white"
             }
            },
            "type": "table"
           }
          ]
         },
         "layout": {
          "annotationdefaults": {
           "arrowcolor": "#2a3f5f",
           "arrowhead": 0,
           "arrowwidth": 1
          },
          "autotypenumbers": "strict",
          "coloraxis": {
           "colorbar": {
            "outlinewidth": 0,
            "ticks": ""
           }
          },
          "colorscale": {
           "diverging": [
            [
             0,
             "#8e0152"
            ],
            [
             0.1,
             "#c51b7d"
            ],
            [
             0.2,
             "#de77ae"
            ],
            [
             0.3,
             "#f1b6da"
            ],
            [
             0.4,
             "#fde0ef"
            ],
            [
             0.5,
             "#f7f7f7"
            ],
            [
             0.6,
             "#e6f5d0"
            ],
            [
             0.7,
             "#b8e186"
            ],
            [
             0.8,
             "#7fbc41"
            ],
            [
             0.9,
             "#4d9221"
            ],
            [
             1,
             "#276419"
            ]
           ],
           "sequential": [
            [
             0,
             "#0d0887"
            ],
            [
             0.1111111111111111,
             "#46039f"
            ],
            [
             0.2222222222222222,
             "#7201a8"
            ],
            [
             0.3333333333333333,
             "#9c179e"
            ],
            [
             0.4444444444444444,
             "#bd3786"
            ],
            [
             0.5555555555555556,
             "#d8576b"
            ],
            [
             0.6666666666666666,
             "#ed7953"
            ],
            [
             0.7777777777777778,
             "#fb9f3a"
            ],
            [
             0.8888888888888888,
             "#fdca26"
            ],
            [
             1,
             "#f0f921"
            ]
           ],
           "sequentialminus": [
            [
             0,
             "#0d0887"
            ],
            [
             0.1111111111111111,
             "#46039f"
            ],
            [
             0.2222222222222222,
             "#7201a8"
            ],
            [
             0.3333333333333333,
             "#9c179e"
            ],
            [
             0.4444444444444444,
             "#bd3786"
            ],
            [
             0.5555555555555556,
             "#d8576b"
            ],
            [
             0.6666666666666666,
             "#ed7953"
            ],
            [
             0.7777777777777778,
             "#fb9f3a"
            ],
            [
             0.8888888888888888,
             "#fdca26"
            ],
            [
             1,
             "#f0f921"
            ]
           ]
          },
          "colorway": [
           "#636efa",
           "#EF553B",
           "#00cc96",
           "#ab63fa",
           "#FFA15A",
           "#19d3f3",
           "#FF6692",
           "#B6E880",
           "#FF97FF",
           "#FECB52"
          ],
          "font": {
           "color": "#2a3f5f"
          },
          "geo": {
           "bgcolor": "white",
           "lakecolor": "white",
           "landcolor": "#E5ECF6",
           "showlakes": true,
           "showland": true,
           "subunitcolor": "white"
          },
          "hoverlabel": {
           "align": "left"
          },
          "hovermode": "closest",
          "mapbox": {
           "style": "light"
          },
          "paper_bgcolor": "white",
          "plot_bgcolor": "#E5ECF6",
          "polar": {
           "angularaxis": {
            "gridcolor": "white",
            "linecolor": "white",
            "ticks": ""
           },
           "bgcolor": "#E5ECF6",
           "radialaxis": {
            "gridcolor": "white",
            "linecolor": "white",
            "ticks": ""
           }
          },
          "scene": {
           "xaxis": {
            "backgroundcolor": "#E5ECF6",
            "gridcolor": "white",
            "gridwidth": 2,
            "linecolor": "white",
            "showbackground": true,
            "ticks": "",
            "zerolinecolor": "white"
           },
           "yaxis": {
            "backgroundcolor": "#E5ECF6",
            "gridcolor": "white",
            "gridwidth": 2,
            "linecolor": "white",
            "showbackground": true,
            "ticks": "",
            "zerolinecolor": "white"
           },
           "zaxis": {
            "backgroundcolor": "#E5ECF6",
            "gridcolor": "white",
            "gridwidth": 2,
            "linecolor": "white",
            "showbackground": true,
            "ticks": "",
            "zerolinecolor": "white"
           }
          },
          "shapedefaults": {
           "line": {
            "color": "#2a3f5f"
           }
          },
          "ternary": {
           "aaxis": {
            "gridcolor": "white",
            "linecolor": "white",
            "ticks": ""
           },
           "baxis": {
            "gridcolor": "white",
            "linecolor": "white",
            "ticks": ""
           },
           "bgcolor": "#E5ECF6",
           "caxis": {
            "gridcolor": "white",
            "linecolor": "white",
            "ticks": ""
           }
          },
          "title": {
           "x": 0.05
          },
          "xaxis": {
           "automargin": true,
           "gridcolor": "white",
           "linecolor": "white",
           "ticks": "",
           "title": {
            "standoff": 15
           },
           "zerolinecolor": "white",
           "zerolinewidth": 2
          },
          "yaxis": {
           "automargin": true,
           "gridcolor": "white",
           "linecolor": "white",
           "ticks": "",
           "title": {
            "standoff": 15
           },
           "zerolinecolor": "white",
           "zerolinewidth": 2
          }
         }
        },
        "title": {
         "text": "Cumulative number of individuals who have visited each state over time"
        },
        "xaxis": {
         "anchor": "y",
         "autorange": true,
         "domain": [
          0,
          1
         ],
         "range": [
          0,
          99
         ],
         "title": {
          "text": "tick"
         },
         "type": "linear"
        },
        "yaxis": {
         "anchor": "x",
         "autorange": true,
         "domain": [
          0,
          1
         ],
         "range": [
          -3764.333333333333,
          71522.33333333333
         ],
         "title": {
          "text": "count"
         },
         "type": "linear"
        }
       }
      }
     },
     "metadata": {},
     "output_type": "display_data"
    }
   ],
   "source": [
    "num_ticks = simulator.num_ticks(output_file)\n",
    "state_tick_cum_counts = simulator.compute_state_tick_cum_counts(transitions, num_ticks)\n",
    "\n",
    "states = state_tick_cum_counts.columns\n",
    "states.remove(\"tick\")\n",
    "\n",
    "title = \"Cumulative number of individuals who have visited each state over time\"\n",
    "pdf = state_tick_cum_counts.melt(id_vars=\"tick\", value_vars=states, variable_name=\"state\", value_name=\"count\")\n",
    "px.line(pdf, x=\"tick\", y=\"count\", color=\"state\", title=title)"
   ]
  },
  {
   "cell_type": "code",
   "execution_count": null,
   "id": "b02e3548-4b24-46b6-b257-99adc10eeab4",
   "metadata": {},
   "outputs": [],
   "source": []
  },
  {
   "cell_type": "code",
   "execution_count": null,
   "id": "36220d28-dcd7-451c-b4be-9e157ff1108c",
   "metadata": {},
   "outputs": [],
   "source": []
  }
 ],
 "metadata": {
  "kernelspec": {
   "display_name": "Python [conda env:hp11] *",
   "language": "python",
   "name": "conda-env-hp11-py"
  },
  "language_info": {
   "codemirror_mode": {
    "name": "ipython",
    "version": 3
   },
   "file_extension": ".py",
   "mimetype": "text/x-python",
   "name": "python",
   "nbconvert_exporter": "python",
   "pygments_lexer": "ipython3",
   "version": "3.11.9"
  }
 },
 "nbformat": 4,
 "nbformat_minor": 5
}
