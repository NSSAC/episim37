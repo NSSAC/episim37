{
 "cells": [
  {
   "cell_type": "markdown",
   "id": "ceab61aa-12d9-4068-89c6-ccd64b28af80",
   "metadata": {},
   "source": [
    "# Run Example 1\n",
    "\n",
    "This notbook shows the workflow for running EpiSim37 simulations on your personal computer.\n",
    "\n",
    "This notebook expects that you have installed pandas and episim37."
   ]
  },
  {
   "cell_type": "code",
   "execution_count": 1,
   "id": "988bb29c-1eb2-4dd6-b5da-c5398037a6aa",
   "metadata": {},
   "outputs": [],
   "source": [
    "import tempfile\n",
    "from pathlib import Path\n",
    "\n",
    "import polars as pl\n",
    "import plotly.express as px\n",
    "import plotly.io as pio\n",
    "pio.renderers.default = \"svg\"\n",
    "\n",
    "from episim37.utils import OpenMPSimulator"
   ]
  },
  {
   "cell_type": "markdown",
   "id": "9d075b51-4237-4c98-893d-676823123123",
   "metadata": {},
   "source": [
    "For running an EpiSim37 simulation we need two things:\n",
    "1) the EpiSim37 simulation description (the ESL37 file) and\n",
    "2) the network (nodes and edges)\n",
    "\n",
    "For this demo we shall use the following files.\n",
    "The node and edge file can be in parquet or CSV format."
   ]
  },
  {
   "cell_type": "code",
   "execution_count": 2,
   "id": "0c013870-5644-4707-8b65-b0cc7f7e684a",
   "metadata": {},
   "outputs": [],
   "source": [
    "sim_file = \"example1.esl37\"\n",
    "node_file = \"nodes.parquet\"\n",
    "edge_file = \"edges.parquet\""
   ]
  },
  {
   "cell_type": "markdown",
   "id": "858c2c81-0b3c-40d7-93a3-b2160cb3bfeb",
   "metadata": {},
   "source": [
    "The node table contains the node key (pid for this simulation) and any other static node attributes that the simulation may depend on.\n",
    "\n",
    "Similarly, the edge table contains the source and target node key (source_pid and target_pid for this simulation) and any other static edge attributes that the simulation may depend on.\n",
    "\n",
    "The column names in the node and edge file must match those provided in the simulation file."
   ]
  },
  {
   "cell_type": "code",
   "execution_count": 3,
   "id": "e0711e65-3989-4984-8a0c-a17710ab8110",
   "metadata": {},
   "outputs": [
    {
     "data": {
      "text/html": [
       "<div><style>\n",
       ".dataframe > thead > tr,\n",
       ".dataframe > tbody > tr {\n",
       "  text-align: right;\n",
       "  white-space: pre-wrap;\n",
       "}\n",
       "</style>\n",
       "<small>shape: (5, 2)</small><table border=\"1\" class=\"dataframe\"><thead><tr><th>pid</th><th>is_in_school</th></tr><tr><td>i64</td><td>bool</td></tr></thead><tbody><tr><td>3723936</td><td>true</td></tr><tr><td>3723937</td><td>true</td></tr><tr><td>3723938</td><td>false</td></tr><tr><td>3723939</td><td>true</td></tr><tr><td>3723940</td><td>true</td></tr></tbody></table></div>"
      ],
      "text/plain": [
       "shape: (5, 2)\n",
       "┌─────────┬──────────────┐\n",
       "│ pid     ┆ is_in_school │\n",
       "│ ---     ┆ ---          │\n",
       "│ i64     ┆ bool         │\n",
       "╞═════════╪══════════════╡\n",
       "│ 3723936 ┆ true         │\n",
       "│ 3723937 ┆ true         │\n",
       "│ 3723938 ┆ false        │\n",
       "│ 3723939 ┆ true         │\n",
       "│ 3723940 ┆ true         │\n",
       "└─────────┴──────────────┘"
      ]
     },
     "execution_count": 3,
     "metadata": {},
     "output_type": "execute_result"
    }
   ],
   "source": [
    "pl.read_parquet(node_file).head()"
   ]
  },
  {
   "cell_type": "code",
   "execution_count": 4,
   "id": "7224c96a-2f03-4440-a699-75758d08be62",
   "metadata": {},
   "outputs": [
    {
     "data": {
      "text/html": [
       "<div><style>\n",
       ".dataframe > thead > tr,\n",
       ".dataframe > tbody > tr {\n",
       "  text-align: right;\n",
       "  white-space: pre-wrap;\n",
       "}\n",
       "</style>\n",
       "<small>shape: (5, 5)</small><table border=\"1\" class=\"dataframe\"><thead><tr><th>target_pid</th><th>source_pid</th><th>duration</th><th>is_school_edge</th><th>is_non_home_edge</th></tr><tr><td>i64</td><td>i64</td><td>i64</td><td>bool</td><td>bool</td></tr></thead><tbody><tr><td>3723936</td><td>3723937</td><td>14400</td><td>false</td><td>true</td></tr><tr><td>3723936</td><td>3723937</td><td>20519</td><td>false</td><td>true</td></tr><tr><td>3723936</td><td>3723937</td><td>41520</td><td>false</td><td>true</td></tr><tr><td>3723936</td><td>3731305</td><td>1020</td><td>false</td><td>true</td></tr><tr><td>3723936</td><td>3742032</td><td>1320</td><td>false</td><td>true</td></tr></tbody></table></div>"
      ],
      "text/plain": [
       "shape: (5, 5)\n",
       "┌────────────┬────────────┬──────────┬────────────────┬──────────────────┐\n",
       "│ target_pid ┆ source_pid ┆ duration ┆ is_school_edge ┆ is_non_home_edge │\n",
       "│ ---        ┆ ---        ┆ ---      ┆ ---            ┆ ---              │\n",
       "│ i64        ┆ i64        ┆ i64      ┆ bool           ┆ bool             │\n",
       "╞════════════╪════════════╪══════════╪════════════════╪══════════════════╡\n",
       "│ 3723936    ┆ 3723937    ┆ 14400    ┆ false          ┆ true             │\n",
       "│ 3723936    ┆ 3723937    ┆ 20519    ┆ false          ┆ true             │\n",
       "│ 3723936    ┆ 3723937    ┆ 41520    ┆ false          ┆ true             │\n",
       "│ 3723936    ┆ 3731305    ┆ 1020     ┆ false          ┆ true             │\n",
       "│ 3723936    ┆ 3742032    ┆ 1320     ┆ false          ┆ true             │\n",
       "└────────────┴────────────┴──────────┴────────────────┴──────────────────┘"
      ]
     },
     "execution_count": 4,
     "metadata": {},
     "output_type": "execute_result"
    }
   ],
   "source": [
    "pl.read_parquet(edge_file).head()"
   ]
  },
  {
   "cell_type": "markdown",
   "id": "3a58bcf7-d38f-457b-b884-09a82931b575",
   "metadata": {},
   "source": [
    "We shall create a working directory for EpiSim37.\n",
    "\n",
    "EpiSim37 shall use that folder to store the generated C++ codes and the compiled simulator.\n",
    "\n",
    "We shall also store the input.h5 and output.h5 files in that work directory."
   ]
  },
  {
   "cell_type": "code",
   "execution_count": 5,
   "id": "f0e0a3b1-83c8-4b2d-ac9f-4aeec59809d7",
   "metadata": {},
   "outputs": [],
   "source": [
    "work_dir = Path(Path.home() / \"episim37-work-dir\")\n",
    "\n",
    "input_file = work_dir / \"input.h5\""
   ]
  },
  {
   "cell_type": "raw",
   "id": "e41a73dc-1447-409b-8238-b2e6a636968d",
   "metadata": {},
   "source": [
    "Next we shall instantiate a OpenMP based multi-threaded simulator."
   ]
  },
  {
   "cell_type": "code",
   "execution_count": 6,
   "id": "8d390dca-c63e-46ac-a9aa-5ffc3ad2ee30",
   "metadata": {},
   "outputs": [],
   "source": [
    "simulator = OpenMPSimulator(sim_file, work_dir)"
   ]
  },
  {
   "cell_type": "markdown",
   "id": "09a3de09-bbbd-4bf0-9329-540c00fb6336",
   "metadata": {},
   "source": [
    "Next we shall call the prepare_build() method.\n",
    "This uses CMake to find or fetch the C++ libraries needed for building the simulator.\n",
    "It is not necessary to re-execute this method every time the simulation file is changed."
   ]
  },
  {
   "cell_type": "code",
   "execution_count": 7,
   "id": "70d64ad3-ace3-48b8-93e9-6388f50b7cfa",
   "metadata": {},
   "outputs": [
    {
     "name": "stdout",
     "output_type": "stream",
     "text": [
      "-- The C compiler identification is GNU 14.2.1\n",
      "-- The CXX compiler identification is GNU 14.2.1\n",
      "-- Detecting C compiler ABI info\n",
      "-- Detecting C compiler ABI info - done\n",
      "-- Check for working C compiler: /usr/bin/cc - skipped\n",
      "-- Detecting C compile features\n",
      "-- Detecting C compile features - done\n",
      "-- Detecting CXX compiler ABI info\n",
      "-- Detecting CXX compiler ABI info - done\n",
      "-- Check for working CXX compiler: /usr/bin/c++ - skipped\n",
      "-- Detecting CXX compile features\n",
      "-- Detecting CXX compile features - done\n",
      "-- Found HDF5: /usr/lib/libhdf5.so;/usr/lib/libsz.so;/usr/lib/libz.so;/usr/lib/libdl.a;/usr/lib/libm.so;/usr/lib/libhdf5_cpp.so;/usr/lib/libhdf5.so;/usr/lib/libsz.so;/usr/lib/libz.so;/usr/lib/libdl.a;/usr/lib/libm.so (found version \"1.14.4-3\") found components: C CXX\n",
      "-- Found OpenMP_C: -fopenmp (found version \"4.5\")\n",
      "-- Found OpenMP_CXX: -fopenmp (found version \"4.5\")\n",
      "-- Found OpenMP: TRUE (found version \"4.5\") found components: C CXX\n",
      "-- Version: 10.1.0\n",
      "-- Build type: \n",
      "-- Configuring done (5.0s)\n",
      "-- Generating done (0.0s)\n",
      "-- Build files have been written to: /home/parantapa/episim37-work-dir/build\n"
     ]
    }
   ],
   "source": [
    "simulator.prepare_build()"
   ]
  },
  {
   "cell_type": "markdown",
   "id": "ebaa78a6-c473-4163-9cdf-5b4c549aee32",
   "metadata": {},
   "source": [
    "The build method actually builds the simulator.\n",
    "It first compules the ESL37 code to C++ and then uses a C++ compiler to build the simulator binary.\n",
    "It is necessary to rerun this method every time the simulation file is updated."
   ]
  },
  {
   "cell_type": "code",
   "execution_count": 8,
   "id": "8bb4fb89-fe43-4711-b385-a2c8038fbb72",
   "metadata": {},
   "outputs": [
    {
     "name": "stdout",
     "output_type": "stream",
     "text": [
      "[ 16%] \u001b[32mBuilding CXX object _deps/fmt-build/CMakeFiles/fmt.dir/src/format.cc.o\u001b[0m\n",
      "[ 33%] \u001b[32mBuilding CXX object _deps/fmt-build/CMakeFiles/fmt.dir/src/os.cc.o\u001b[0m\n",
      "[ 50%] \u001b[32m\u001b[1mLinking CXX static library libfmt.a\u001b[0m\n",
      "[ 50%] Built target fmt\n",
      "[ 66%] \u001b[34m\u001b[1mGenerating simulator_openmp.cpp, simulator_openmp_common.h\u001b[0m\n",
      "[ 66%] \u001b[34m\u001b[1mGenerating simulator_openmp.cpp, simulator_openmp_common.h\u001b[0m\n",
      "[ 83%] \u001b[32mBuilding CXX object CMakeFiles/simulator_openmp.dir/simulator_openmp.cpp.o\u001b[0m\n",
      "[100%] \u001b[32m\u001b[1mLinking CXX executable simulator_openmp\u001b[0m\n",
      "[100%] Built target simulator_openmp\n"
     ]
    }
   ],
   "source": [
    "simulator.build()"
   ]
  },
  {
   "cell_type": "markdown",
   "id": "feae47a4-a581-4d0b-92b1-028b900dccc7",
   "metadata": {},
   "source": [
    "Now that the simulator binary has been built, we can add the network to create a full simulation."
   ]
  },
  {
   "cell_type": "markdown",
   "id": "c72a0a2f-44c4-4835-9da8-33270fe748ff",
   "metadata": {},
   "source": [
    "The prepare input step creates the input_file from the network files (node and edge file).\n",
    "This also provides other relevant metadata to the simulator."
   ]
  },
  {
   "cell_type": "code",
   "execution_count": 9,
   "id": "883e99cf-08a2-445a-8a4a-57a26a603809",
   "metadata": {},
   "outputs": [
    {
     "data": {
      "text/html": [
       "<pre style=\"white-space:pre;overflow-x:auto;line-height:normal;font-family:Menlo,'DejaVu Sans Mono',consolas,'Courier New',monospace\"><span style=\"color: #008080; text-decoration-color: #008080\">Reading node table.</span>\n",
       "</pre>\n"
      ],
      "text/plain": [
       "\u001b[36mReading node table.\u001b[0m\n"
      ]
     },
     "metadata": {},
     "output_type": "display_data"
    },
    {
     "data": {
      "text/html": [
       "<pre style=\"white-space:pre;overflow-x:auto;line-height:normal;font-family:Menlo,'DejaVu Sans Mono',consolas,'Courier New',monospace\"><span style=\"color: #008080; text-decoration-color: #008080\">Sorting node table.</span>\n",
       "</pre>\n"
      ],
      "text/plain": [
       "\u001b[36mSorting node table.\u001b[0m\n"
      ]
     },
     "metadata": {},
     "output_type": "display_data"
    },
    {
     "data": {
      "text/html": [
       "<pre style=\"white-space:pre;overflow-x:auto;line-height:normal;font-family:Menlo,'DejaVu Sans Mono',consolas,'Courier New',monospace\"><span style=\"color: #008080; text-decoration-color: #008080\">Making node index.</span>\n",
       "</pre>\n"
      ],
      "text/plain": [
       "\u001b[36mMaking node index.\u001b[0m\n"
      ]
     },
     "metadata": {},
     "output_type": "display_data"
    },
    {
     "name": "stdout",
     "output_type": "stream",
     "text": [
      "### num_nodes:  83313\n"
     ]
    },
    {
     "data": {
      "text/html": [
       "<pre style=\"white-space:pre;overflow-x:auto;line-height:normal;font-family:Menlo,'DejaVu Sans Mono',consolas,'Courier New',monospace\"><span style=\"color: #008080; text-decoration-color: #008080\">Reading edge table.</span>\n",
       "</pre>\n"
      ],
      "text/plain": [
       "\u001b[36mReading edge table.\u001b[0m\n"
      ]
     },
     "metadata": {},
     "output_type": "display_data"
    },
    {
     "data": {
      "text/html": [
       "<pre style=\"white-space:pre;overflow-x:auto;line-height:normal;font-family:Menlo,'DejaVu Sans Mono',consolas,'Courier New',monospace\"><span style=\"color: #008080; text-decoration-color: #008080\">Sorting edge table.</span>\n",
       "</pre>\n"
      ],
      "text/plain": [
       "\u001b[36mSorting edge table.\u001b[0m\n"
      ]
     },
     "metadata": {},
     "output_type": "display_data"
    },
    {
     "data": {
      "text/html": [
       "<pre style=\"white-space:pre;overflow-x:auto;line-height:normal;font-family:Menlo,'DejaVu Sans Mono',consolas,'Courier New',monospace\"><span style=\"color: #008080; text-decoration-color: #008080\">Computing incoming incidence CSR graph's indptr.</span>\n",
       "</pre>\n"
      ],
      "text/plain": [
       "\u001b[36mComputing incoming incidence CSR graph's indptr.\u001b[0m\n"
      ]
     },
     "metadata": {},
     "output_type": "display_data"
    },
    {
     "name": "stdout",
     "output_type": "stream",
     "text": [
      "### num_edges:  3269342\n"
     ]
    },
    {
     "data": {
      "text/html": [
       "<pre style=\"white-space:pre;overflow-x:auto;line-height:normal;font-family:Menlo,'DejaVu Sans Mono',consolas,'Courier New',monospace\"><span style=\"color: #008080; text-decoration-color: #008080\">Creating input file.</span>\n",
       "</pre>\n"
      ],
      "text/plain": [
       "\u001b[36mCreating input file.\u001b[0m\n"
      ]
     },
     "metadata": {},
     "output_type": "display_data"
    },
    {
     "data": {
      "text/html": [
       "<pre style=\"white-space:pre;overflow-x:auto;line-height:normal;font-family:Menlo,'DejaVu Sans Mono',consolas,'Courier New',monospace\"><span style=\"color: #008000; text-decoration-color: #008000\">Input file created successfully.</span>\n",
       "</pre>\n"
      ],
      "text/plain": [
       "\u001b[32mInput file created successfully.\u001b[0m\n"
      ]
     },
     "metadata": {},
     "output_type": "display_data"
    }
   ],
   "source": [
    "simulator.prepare_input(node_file, edge_file, input_file)"
   ]
  },
  {
   "cell_type": "markdown",
   "id": "43dab982-0de1-4611-92ed-54f8906cb32a",
   "metadata": {},
   "source": [
    "We can view the node and edge tables in the input file using extract_nodes() and extract_edges() helper methods."
   ]
  },
  {
   "cell_type": "code",
   "execution_count": 10,
   "id": "faa5d15a-5ebe-4cae-bd22-cff6d62bd8bf",
   "metadata": {},
   "outputs": [
    {
     "data": {
      "text/html": [
       "<div><style>\n",
       ".dataframe > thead > tr,\n",
       ".dataframe > tbody > tr {\n",
       "  text-align: right;\n",
       "  white-space: pre-wrap;\n",
       "}\n",
       "</style>\n",
       "<small>shape: (5, 2)</small><table border=\"1\" class=\"dataframe\"><thead><tr><th>pid</th><th>is_in_school</th></tr><tr><td>i64</td><td>u8</td></tr></thead><tbody><tr><td>3723936</td><td>1</td></tr><tr><td>3723937</td><td>1</td></tr><tr><td>3723938</td><td>0</td></tr><tr><td>3723939</td><td>1</td></tr><tr><td>3723940</td><td>1</td></tr></tbody></table></div>"
      ],
      "text/plain": [
       "shape: (5, 2)\n",
       "┌─────────┬──────────────┐\n",
       "│ pid     ┆ is_in_school │\n",
       "│ ---     ┆ ---          │\n",
       "│ i64     ┆ u8           │\n",
       "╞═════════╪══════════════╡\n",
       "│ 3723936 ┆ 1            │\n",
       "│ 3723937 ┆ 1            │\n",
       "│ 3723938 ┆ 0            │\n",
       "│ 3723939 ┆ 1            │\n",
       "│ 3723940 ┆ 1            │\n",
       "└─────────┴──────────────┘"
      ]
     },
     "execution_count": 10,
     "metadata": {},
     "output_type": "execute_result"
    }
   ],
   "source": [
    "simulator.extract_nodes(input_file).head()"
   ]
  },
  {
   "cell_type": "code",
   "execution_count": 11,
   "id": "a8f40d6c-4090-4c04-b0e7-5fcedfeb7f0b",
   "metadata": {},
   "outputs": [
    {
     "data": {
      "text/html": [
       "<div><style>\n",
       ".dataframe > thead > tr,\n",
       ".dataframe > tbody > tr {\n",
       "  text-align: right;\n",
       "  white-space: pre-wrap;\n",
       "}\n",
       "</style>\n",
       "<small>shape: (5, 7)</small><table border=\"1\" class=\"dataframe\"><thead><tr><th>target_pid</th><th>source_pid</th><th>duration</th><th>is_school_edge</th><th>is_non_home_edge</th><th>_target_node_index</th><th>_source_node_index</th></tr><tr><td>i64</td><td>i64</td><td>i64</td><td>u8</td><td>u8</td><td>i32</td><td>i32</td></tr></thead><tbody><tr><td>3723936</td><td>3723937</td><td>14400</td><td>0</td><td>1</td><td>0</td><td>1</td></tr><tr><td>3723936</td><td>3723937</td><td>20519</td><td>0</td><td>1</td><td>0</td><td>1</td></tr><tr><td>3723936</td><td>3723937</td><td>41520</td><td>0</td><td>1</td><td>0</td><td>1</td></tr><tr><td>3723936</td><td>3731305</td><td>1020</td><td>0</td><td>1</td><td>0</td><td>7369</td></tr><tr><td>3723936</td><td>3733825</td><td>5700</td><td>1</td><td>1</td><td>0</td><td>9889</td></tr></tbody></table></div>"
      ],
      "text/plain": [
       "shape: (5, 7)\n",
       "┌────────────┬────────────┬──────────┬───────────────┬───────────────┬──────────────┬──────────────┐\n",
       "│ target_pid ┆ source_pid ┆ duration ┆ is_school_edg ┆ is_non_home_e ┆ _target_node ┆ _source_node │\n",
       "│ ---        ┆ ---        ┆ ---      ┆ e             ┆ dge           ┆ _index       ┆ _index       │\n",
       "│ i64        ┆ i64        ┆ i64      ┆ ---           ┆ ---           ┆ ---          ┆ ---          │\n",
       "│            ┆            ┆          ┆ u8            ┆ u8            ┆ i32          ┆ i32          │\n",
       "╞════════════╪════════════╪══════════╪═══════════════╪═══════════════╪══════════════╪══════════════╡\n",
       "│ 3723936    ┆ 3723937    ┆ 14400    ┆ 0             ┆ 1             ┆ 0            ┆ 1            │\n",
       "│ 3723936    ┆ 3723937    ┆ 20519    ┆ 0             ┆ 1             ┆ 0            ┆ 1            │\n",
       "│ 3723936    ┆ 3723937    ┆ 41520    ┆ 0             ┆ 1             ┆ 0            ┆ 1            │\n",
       "│ 3723936    ┆ 3731305    ┆ 1020     ┆ 0             ┆ 1             ┆ 0            ┆ 7369         │\n",
       "│ 3723936    ┆ 3733825    ┆ 5700     ┆ 1             ┆ 1             ┆ 0            ┆ 9889         │\n",
       "└────────────┴────────────┴──────────┴───────────────┴───────────────┴──────────────┴──────────────┘"
      ]
     },
     "execution_count": 11,
     "metadata": {},
     "output_type": "execute_result"
    }
   ],
   "source": [
    "simulator.extract_edges(input_file).head()"
   ]
  },
  {
   "cell_type": "markdown",
   "id": "9ee5e13d-56a4-4f68-aab0-d732fe8a68a0",
   "metadata": {},
   "source": [
    "Finally to run a simulation, we provide the location of the output file and call simulate.\n",
    "Here we can also pass a dictionary of configuration variables that were defined in the simulation."
   ]
  },
  {
   "cell_type": "code",
   "execution_count": 12,
   "id": "cd786e1c-9903-4eb5-b5b2-dbf58c23e81d",
   "metadata": {
    "scrolled": true
   },
   "outputs": [
    {
     "name": "stdout",
     "output_type": "stream",
     "text": [
      "### num_threads = 12\n",
      "### enable_hybrid_learning = 1\n",
      "### enable_day_30_antigen_test = 1\n",
      "### enable_day_30_pcr_test = 0\n",
      "### transmissibility_scale = 0.3\n",
      "### num_ticks = 100\n",
      "### input_file = /home/parantapa/episim37-work-dir/input.h5\n",
      "### output_file = /home/parantapa/episim37-work-dir/output.h5\n",
      "### num_nodes = 83313\n",
      "### num_edges = 3269342\n",
      "### cur_tick = 0\n",
      "### cur_tick = 1\n",
      "### cur_tick = 2\n",
      "### cur_tick = 3\n",
      "### cur_tick = 4\n",
      "### cur_tick = 5\n",
      "### cur_tick = 6\n",
      "### cur_tick = 7\n",
      "### cur_tick = 8\n",
      "### cur_tick = 9\n",
      "### cur_tick = 10\n",
      "### cur_tick = 11\n",
      "### cur_tick = 12\n",
      "### cur_tick = 13\n",
      "### cur_tick = 14\n",
      "### cur_tick = 15\n",
      "### cur_tick = 16\n",
      "### cur_tick = 17\n",
      "### cur_tick = 18\n",
      "### cur_tick = 19\n",
      "### cur_tick = 20\n",
      "### cur_tick = 21\n",
      "### cur_tick = 22\n",
      "### cur_tick = 23\n",
      "### cur_tick = 24\n",
      "### cur_tick = 25\n",
      "### cur_tick = 26\n",
      "### cur_tick = 27\n",
      "### cur_tick = 28\n",
      "### cur_tick = 29\n",
      "### cur_tick = 30\n",
      "### cur_tick = 31\n",
      "### cur_tick = 32\n",
      "### cur_tick = 33\n",
      "### cur_tick = 34\n",
      "### cur_tick = 35\n",
      "### cur_tick = 36\n",
      "### cur_tick = 37\n",
      "### cur_tick = 38\n",
      "### cur_tick = 39\n",
      "### cur_tick = 40\n",
      "### cur_tick = 41\n",
      "### cur_tick = 42\n",
      "### cur_tick = 43\n",
      "### cur_tick = 44\n",
      "### cur_tick = 45\n",
      "### cur_tick = 46\n",
      "### cur_tick = 47\n",
      "### cur_tick = 48\n",
      "### cur_tick = 49\n",
      "### cur_tick = 50\n",
      "### cur_tick = 51\n",
      "### cur_tick = 52\n",
      "### cur_tick = 53\n",
      "### cur_tick = 54\n",
      "### cur_tick = 55\n",
      "### cur_tick = 56\n",
      "### cur_tick = 57\n",
      "### cur_tick = 58\n",
      "### cur_tick = 59\n",
      "### cur_tick = 60\n",
      "### cur_tick = 61\n",
      "### cur_tick = 62\n",
      "### cur_tick = 63\n",
      "### cur_tick = 64\n",
      "### cur_tick = 65\n",
      "### cur_tick = 66\n",
      "### cur_tick = 67\n",
      "### cur_tick = 68\n",
      "### cur_tick = 69\n",
      "### cur_tick = 70\n",
      "### cur_tick = 71\n",
      "### cur_tick = 72\n",
      "### cur_tick = 73\n",
      "### cur_tick = 74\n",
      "### cur_tick = 75\n",
      "### cur_tick = 76\n",
      "### cur_tick = 77\n",
      "### cur_tick = 78\n",
      "### cur_tick = 79\n",
      "### cur_tick = 80\n",
      "### cur_tick = 81\n",
      "### cur_tick = 82\n",
      "### cur_tick = 83\n",
      "### cur_tick = 84\n",
      "### cur_tick = 85\n",
      "### cur_tick = 86\n",
      "### cur_tick = 87\n",
      "### cur_tick = 88\n",
      "### cur_tick = 89\n",
      "### cur_tick = 90\n",
      "### cur_tick = 91\n",
      "### cur_tick = 92\n",
      "### cur_tick = 93\n",
      "### cur_tick = 94\n",
      "### cur_tick = 95\n",
      "### cur_tick = 96\n",
      "### cur_tick = 97\n",
      "### cur_tick = 98\n",
      "### cur_tick = 99\n",
      "### mem_use_gb = 0.0761555\n",
      "### init_time_s = 0.032343\n",
      "### main_time_s = 3.84681\n"
     ]
    }
   ],
   "source": [
    "output_file = work_dir / \"output.h5\"\n",
    "\n",
    "simulator.simulate(input_file, output_file, num_ticks=100, configs={\"enable_hybrid_learning\": True}, verbose=True)"
   ]
  },
  {
   "cell_type": "markdown",
   "id": "3d17157c-2b4a-4dcc-9edf-43c35d8004b5",
   "metadata": {},
   "source": [
    "Once the simulation is complete we can extract summary, transitions, transmissions and interventions from the output file."
   ]
  },
  {
   "cell_type": "code",
   "execution_count": 13,
   "id": "06364a63-064d-472f-8865-3ff67dfe32a1",
   "metadata": {},
   "outputs": [
    {
     "data": {
      "text/html": [
       "<div><style>\n",
       ".dataframe > thead > tr,\n",
       ".dataframe > tbody > tr {\n",
       "  text-align: right;\n",
       "  white-space: pre-wrap;\n",
       "}\n",
       "</style>\n",
       "<small>shape: (5, 7)</small><table border=\"1\" class=\"dataframe\"><thead><tr><th>S</th><th>E</th><th>Ipresymp</th><th>Isymp</th><th>Iasymp</th><th>R</th><th>tick</th></tr><tr><td>i64</td><td>i64</td><td>i64</td><td>i64</td><td>i64</td><td>i64</td><td>i64</td></tr></thead><tbody><tr><td>83308</td><td>5</td><td>0</td><td>0</td><td>0</td><td>0</td><td>0</td></tr><tr><td>83303</td><td>10</td><td>0</td><td>0</td><td>0</td><td>0</td><td>1</td></tr><tr><td>83298</td><td>11</td><td>4</td><td>0</td><td>0</td><td>0</td><td>2</td></tr><tr><td>83289</td><td>17</td><td>7</td><td>0</td><td>0</td><td>0</td><td>3</td></tr><tr><td>83281</td><td>22</td><td>5</td><td>4</td><td>1</td><td>0</td><td>4</td></tr></tbody></table></div>"
      ],
      "text/plain": [
       "shape: (5, 7)\n",
       "┌───────┬─────┬──────────┬───────┬────────┬─────┬──────┐\n",
       "│ S     ┆ E   ┆ Ipresymp ┆ Isymp ┆ Iasymp ┆ R   ┆ tick │\n",
       "│ ---   ┆ --- ┆ ---      ┆ ---   ┆ ---    ┆ --- ┆ ---  │\n",
       "│ i64   ┆ i64 ┆ i64      ┆ i64   ┆ i64    ┆ i64 ┆ i64  │\n",
       "╞═══════╪═════╪══════════╪═══════╪════════╪═════╪══════╡\n",
       "│ 83308 ┆ 5   ┆ 0        ┆ 0     ┆ 0      ┆ 0   ┆ 0    │\n",
       "│ 83303 ┆ 10  ┆ 0        ┆ 0     ┆ 0      ┆ 0   ┆ 1    │\n",
       "│ 83298 ┆ 11  ┆ 4        ┆ 0     ┆ 0      ┆ 0   ┆ 2    │\n",
       "│ 83289 ┆ 17  ┆ 7        ┆ 0     ┆ 0      ┆ 0   ┆ 3    │\n",
       "│ 83281 ┆ 22  ┆ 5        ┆ 4     ┆ 1      ┆ 0   ┆ 4    │\n",
       "└───────┴─────┴──────────┴───────┴────────┴─────┴──────┘"
      ]
     },
     "execution_count": 13,
     "metadata": {},
     "output_type": "execute_result"
    }
   ],
   "source": [
    "summary = simulator.extract_summary(output_file)\n",
    "summary.head()"
   ]
  },
  {
   "cell_type": "code",
   "execution_count": 14,
   "id": "433f3045-b199-4ea8-929a-530f32cd95d9",
   "metadata": {},
   "outputs": [
    {
     "data": {
      "text/html": [
       "<div><style>\n",
       ".dataframe > thead > tr,\n",
       ".dataframe > tbody > tr {\n",
       "  text-align: right;\n",
       "  white-space: pre-wrap;\n",
       "}\n",
       "</style>\n",
       "<small>shape: (5, 3)</small><table border=\"1\" class=\"dataframe\"><thead><tr><th>node_index</th><th>state</th><th>tick</th></tr><tr><td>i32</td><td>enum</td><td>i32</td></tr></thead><tbody><tr><td>76597</td><td>&quot;Ipresymp&quot;</td><td>2</td></tr><tr><td>77163</td><td>&quot;Ipresymp&quot;</td><td>2</td></tr><tr><td>77242</td><td>&quot;Ipresymp&quot;</td><td>2</td></tr><tr><td>79552</td><td>&quot;Ipresymp&quot;</td><td>2</td></tr><tr><td>1305</td><td>&quot;E&quot;</td><td>3</td></tr></tbody></table></div>"
      ],
      "text/plain": [
       "shape: (5, 3)\n",
       "┌────────────┬──────────┬──────┐\n",
       "│ node_index ┆ state    ┆ tick │\n",
       "│ ---        ┆ ---      ┆ ---  │\n",
       "│ i32        ┆ enum     ┆ i32  │\n",
       "╞════════════╪══════════╪══════╡\n",
       "│ 76597      ┆ Ipresymp ┆ 2    │\n",
       "│ 77163      ┆ Ipresymp ┆ 2    │\n",
       "│ 77242      ┆ Ipresymp ┆ 2    │\n",
       "│ 79552      ┆ Ipresymp ┆ 2    │\n",
       "│ 1305       ┆ E        ┆ 3    │\n",
       "└────────────┴──────────┴──────┘"
      ]
     },
     "execution_count": 14,
     "metadata": {},
     "output_type": "execute_result"
    }
   ],
   "source": [
    "transitions = simulator.extract_transitions(output_file)\n",
    "transitions.head()"
   ]
  },
  {
   "cell_type": "code",
   "execution_count": 15,
   "id": "fba483a8-bc3d-482c-83d7-07274aa5b4f8",
   "metadata": {},
   "outputs": [
    {
     "data": {
      "text/html": [
       "<div><style>\n",
       ".dataframe > thead > tr,\n",
       ".dataframe > tbody > tr {\n",
       "  text-align: right;\n",
       "  white-space: pre-wrap;\n",
       "}\n",
       "</style>\n",
       "<small>shape: (5, 3)</small><table border=\"1\" class=\"dataframe\"><thead><tr><th>edge_index</th><th>state</th><th>tick</th></tr><tr><td>i64</td><td>enum</td><td>i32</td></tr></thead><tbody><tr><td>57584</td><td>&quot;E&quot;</td><td>3</td></tr><tr><td>3026261</td><td>&quot;E&quot;</td><td>3</td></tr><tr><td>3026334</td><td>&quot;E&quot;</td><td>3</td></tr><tr><td>3070280</td><td>&quot;E&quot;</td><td>3</td></tr><tr><td>88684</td><td>&quot;E&quot;</td><td>4</td></tr></tbody></table></div>"
      ],
      "text/plain": [
       "shape: (5, 3)\n",
       "┌────────────┬───────┬──────┐\n",
       "│ edge_index ┆ state ┆ tick │\n",
       "│ ---        ┆ ---   ┆ ---  │\n",
       "│ i64        ┆ enum  ┆ i32  │\n",
       "╞════════════╪═══════╪══════╡\n",
       "│ 57584      ┆ E     ┆ 3    │\n",
       "│ 3026261    ┆ E     ┆ 3    │\n",
       "│ 3026334    ┆ E     ┆ 3    │\n",
       "│ 3070280    ┆ E     ┆ 3    │\n",
       "│ 88684      ┆ E     ┆ 4    │\n",
       "└────────────┴───────┴──────┘"
      ]
     },
     "execution_count": 15,
     "metadata": {},
     "output_type": "execute_result"
    }
   ],
   "source": [
    "transmissions = simulator.extract_transmissions(output_file)\n",
    "transmissions.head()"
   ]
  },
  {
   "cell_type": "code",
   "execution_count": 16,
   "id": "099e408a-4eed-4b54-a168-62dc21a370fb",
   "metadata": {},
   "outputs": [
    {
     "data": {
      "text/html": [
       "<div><style>\n",
       ".dataframe > thead > tr,\n",
       ".dataframe > tbody > tr {\n",
       "  text-align: right;\n",
       "  white-space: pre-wrap;\n",
       "}\n",
       "</style>\n",
       "<small>shape: (5, 3)</small><table border=\"1\" class=\"dataframe\"><thead><tr><th>node_index</th><th>state</th><th>tick</th></tr><tr><td>i32</td><td>enum</td><td>i32</td></tr></thead><tbody><tr><td>76597</td><td>&quot;E&quot;</td><td>0</td></tr><tr><td>77163</td><td>&quot;E&quot;</td><td>0</td></tr><tr><td>77242</td><td>&quot;E&quot;</td><td>0</td></tr><tr><td>77815</td><td>&quot;E&quot;</td><td>0</td></tr><tr><td>79552</td><td>&quot;E&quot;</td><td>0</td></tr></tbody></table></div>"
      ],
      "text/plain": [
       "shape: (5, 3)\n",
       "┌────────────┬───────┬──────┐\n",
       "│ node_index ┆ state ┆ tick │\n",
       "│ ---        ┆ ---   ┆ ---  │\n",
       "│ i32        ┆ enum  ┆ i32  │\n",
       "╞════════════╪═══════╪══════╡\n",
       "│ 76597      ┆ E     ┆ 0    │\n",
       "│ 77163      ┆ E     ┆ 0    │\n",
       "│ 77242      ┆ E     ┆ 0    │\n",
       "│ 77815      ┆ E     ┆ 0    │\n",
       "│ 79552      ┆ E     ┆ 0    │\n",
       "└────────────┴───────┴──────┘"
      ]
     },
     "execution_count": 16,
     "metadata": {},
     "output_type": "execute_result"
    }
   ],
   "source": [
    "interventions = simulator.extract_interventions(output_file)\n",
    "interventions.head()"
   ]
  },
  {
   "cell_type": "markdown",
   "id": "d65cc15a-986f-4b29-824e-b556a0665108",
   "metadata": {},
   "source": [
    "Runtime statistics are also saved in the output file"
   ]
  },
  {
   "cell_type": "code",
   "execution_count": 17,
   "id": "84f95242-a5b8-46dc-bbff-4e32cc3d1355",
   "metadata": {},
   "outputs": [
    {
     "data": {
      "text/plain": [
       "{'init_time_s': 0.03234302800046862,\n",
       " 'main_time_s': 3.8468063799991796,\n",
       " 'mem_use_gb': 0.076155456,\n",
       " 'num_threads': 12}"
      ]
     },
     "execution_count": 17,
     "metadata": {},
     "output_type": "execute_result"
    }
   ],
   "source": [
    "simulator.runtime_stats(output_file)"
   ]
  },
  {
   "cell_type": "markdown",
   "id": "1fea1e17-285e-41c0-8a02-ef3cb64ab07a",
   "metadata": {},
   "source": [
    "Configuration variables are also saved in output file"
   ]
  },
  {
   "cell_type": "code",
   "execution_count": 18,
   "id": "3fb4b2fc-4a76-46c4-af44-5ab5045c473f",
   "metadata": {},
   "outputs": [
    {
     "data": {
      "text/plain": [
       "{'enable_day_30_antigen_test': 1,\n",
       " 'enable_day_30_pcr_test': 0,\n",
       " 'enable_hybrid_learning': 1,\n",
       " 'transmissibility_scale': 0.3}"
      ]
     },
     "execution_count": 18,
     "metadata": {},
     "output_type": "execute_result"
    }
   ],
   "source": [
    "simulator.extract_configs(output_file)"
   ]
  },
  {
   "cell_type": "markdown",
   "id": "aec76b95-9c83-4c25-87b0-c90a7df3829d",
   "metadata": {},
   "source": [
    "Compute attack rate as follows:"
   ]
  },
  {
   "cell_type": "code",
   "execution_count": 19,
   "id": "96bc4e32-319a-45de-88a6-51f91b54c4ee",
   "metadata": {
    "scrolled": true
   },
   "outputs": [
    {
     "data": {
      "text/plain": [
       "0.8144587279296148"
      ]
     },
     "execution_count": 19,
     "metadata": {},
     "output_type": "execute_result"
    }
   ],
   "source": [
    "num_nodes = simulator.num_nodes(input_file)\n",
    "attack_rate = simulator.compute_cum_count(transitions, [\"E\"]) / num_nodes\n",
    "attack_rate"
   ]
  },
  {
   "cell_type": "code",
   "execution_count": 20,
   "id": "34b341d2-175e-46be-894d-c476a917443c",
   "metadata": {
    "scrolled": true
   },
   "outputs": [
    {
     "data": {
      "image/svg+xml": [
       "<svg class=\"main-svg\" xmlns=\"http://www.w3.org/2000/svg\" xmlns:xlink=\"http://www.w3.org/1999/xlink\" width=\"700\" height=\"500\" style=\"\" viewBox=\"0 0 700 500\"><rect x=\"0\" y=\"0\" width=\"700\" height=\"500\" style=\"fill: rgb(255, 255, 255); fill-opacity: 1;\"/><defs id=\"defs-8f87ff\"><g class=\"clips\"><clipPath id=\"clip8f87ffxyplot\" class=\"plotclip\"><rect width=\"495\" height=\"320\"/></clipPath><clipPath class=\"axesclip\" id=\"clip8f87ffx\"><rect x=\"80\" y=\"0\" width=\"495\" height=\"500\"/></clipPath><clipPath class=\"axesclip\" id=\"clip8f87ffy\"><rect x=\"0\" y=\"100\" width=\"700\" height=\"320\"/></clipPath><clipPath class=\"axesclip\" id=\"clip8f87ffxy\"><rect x=\"80\" y=\"100\" width=\"495\" height=\"320\"/></clipPath></g><g class=\"gradients\"/><g class=\"patterns\"/></defs><g class=\"bglayer\"><rect class=\"bg\" x=\"80\" y=\"100\" width=\"495\" height=\"320\" style=\"fill: rgb(229, 236, 246); fill-opacity: 1; stroke-width: 0;\"/></g><g class=\"layer-below\"><g class=\"imagelayer\"/><g class=\"shapelayer\"/></g><g class=\"cartesianlayer\"><g class=\"subplot xy\"><g class=\"layer-subplot\"><g class=\"shapelayer\"/><g class=\"imagelayer\"/></g><g class=\"minor-gridlayer\"><g class=\"x\"/><g class=\"y\"/></g><g class=\"gridlayer\"><g class=\"x\"><path class=\"xgrid crisp\" transform=\"translate(180,0)\" d=\"M0,100v320\" style=\"stroke: rgb(255, 255, 255); stroke-opacity: 1; stroke-width: 1px;\"/><path class=\"xgrid crisp\" transform=\"translate(280,0)\" d=\"M0,100v320\" style=\"stroke: rgb(255, 255, 255); stroke-opacity: 1; stroke-width: 1px;\"/><path class=\"xgrid crisp\" transform=\"translate(380,0)\" d=\"M0,100v320\" style=\"stroke: rgb(255, 255, 255); stroke-opacity: 1; stroke-width: 1px;\"/><path class=\"xgrid crisp\" transform=\"translate(480,0)\" d=\"M0,100v320\" style=\"stroke: rgb(255, 255, 255); stroke-opacity: 1; stroke-width: 1px;\"/></g><g class=\"y\"><path class=\"ygrid crisp\" transform=\"translate(0,334.86)\" d=\"M80,0h495\" style=\"stroke: rgb(255, 255, 255); stroke-opacity: 1; stroke-width: 1px;\"/><path class=\"ygrid crisp\" transform=\"translate(0,265.72)\" d=\"M80,0h495\" style=\"stroke: rgb(255, 255, 255); stroke-opacity: 1; stroke-width: 1px;\"/><path class=\"ygrid crisp\" transform=\"translate(0,196.57999999999998)\" d=\"M80,0h495\" style=\"stroke: rgb(255, 255, 255); stroke-opacity: 1; stroke-width: 1px;\"/><path class=\"ygrid crisp\" transform=\"translate(0,127.44)\" d=\"M80,0h495\" style=\"stroke: rgb(255, 255, 255); stroke-opacity: 1; stroke-width: 1px;\"/></g></g><g class=\"zerolinelayer\"><path class=\"xzl zl crisp\" transform=\"translate(80,0)\" d=\"M0,100v320\" style=\"stroke: rgb(255, 255, 255); stroke-opacity: 1; stroke-width: 2px;\"/><path class=\"yzl zl crisp\" transform=\"translate(0,404)\" d=\"M80,0h495\" style=\"stroke: rgb(255, 255, 255); stroke-opacity: 1; stroke-width: 2px;\"/></g><g class=\"layer-between\"><g class=\"shapelayer\"/><g class=\"imagelayer\"/></g><path class=\"xlines-below\"/><path class=\"ylines-below\"/><g class=\"overlines-below\"/><g class=\"xaxislayer-below\"/><g class=\"yaxislayer-below\"/><g class=\"overaxes-below\"/><g class=\"overplot\"><g class=\"xy\" transform=\"translate(80,100)\" clip-path=\"url(#clip8f87ffxyplot)\"><g class=\"scatterlayer mlayer\"><g class=\"trace scatter tracebfbd69\" style=\"stroke-miterlimit: 2; opacity: 1;\"><g class=\"fills\"/><g class=\"errorbars\"/><g class=\"lines\"><path class=\"js-line\" d=\"M0,16L60,16.97L65,17.19L80,18.65L85,19.56L95,22.2L100,24.01L105,26.39L110,29.95L115,34.52L120,40.27L125,47.02L130,55.24L140,70.6L145,82.11L165,131.76L170,140.77L175,149.05L180,162.39L190,185.16L195,193.91L200,201.87L205,206.59L210,210.66L215,217.22L225,227.23L230,230.92L235,234.18L240,235.98L265,244.51L270,245.6L300,248.96L305,249.32L350,250.52L355,250.56L470,250.73L475,250.73L495,250.73\" style=\"vector-effect: none; fill: none; stroke: rgb(99, 110, 250); stroke-opacity: 1; stroke-width: 2px; opacity: 1;\"/></g><g class=\"points\"/><g class=\"text\"/></g><g class=\"trace scatter traceb582dd\" style=\"stroke-miterlimit: 2; opacity: 1;\"><g class=\"fills\"/><g class=\"errorbars\"/><g class=\"lines\"><path class=\"js-line\" d=\"M0,303.98L70,303.14L75,302.9L90,300.92L95,300.01L105,297.5L110,295.22L120,288.43L125,284.7L130,280.15L135,277.71L140,275.37L145,271.08L155,260.8L160,258.93L165,257.33L170,260.13L175,263.46L180,262.68L185,260.63L190,259.42L200,266.61L205,272.68L210,278.21L215,280.51L225,282.61L230,285.28L235,287.4L240,290.42L250,295.19L255,296L270,298.34L275,299.44L285,300.9L290,301.25L320,303.03L325,303.17L375,303.89L380,303.92L495,304\" style=\"vector-effect: none; fill: none; stroke: rgb(239, 85, 59); stroke-opacity: 1; stroke-width: 2px; opacity: 1;\"/></g><g class=\"points\"/><g class=\"text\"/></g><g class=\"trace scatter trace8cd5e2\" style=\"stroke-miterlimit: 2; opacity: 1;\"><g class=\"fills\"/><g class=\"errorbars\"/><g class=\"lines\"><path class=\"js-line\" d=\"M0,304L90,303.5L95,303.24L120,301.28L125,300.01L145,294.16L150,293.77L155,293.89L160,291.34L165,288.57L170,287.63L180,288.02L185,289.74L190,292.7L195,289.87L200,287.42L205,289.13L225,298.3L230,297.29L235,296.36L240,297.58L260,301.76L265,301.61L275,301.62L280,302.03L300,303.13L305,303.14L340,303.73L345,303.8L420,303.99L425,303.99L495,304\" style=\"vector-effect: none; fill: none; stroke: rgb(0, 204, 150); stroke-opacity: 1; stroke-width: 2px; opacity: 1;\"/></g><g class=\"points\"/><g class=\"text\"/></g><g class=\"trace scatter tracea9f0e7\" style=\"stroke-miterlimit: 2; opacity: 1;\"><g class=\"fills\"/><g class=\"errorbars\"/><g class=\"lines\"><path class=\"js-line\" d=\"M0,304L100,303.26L105,302.99L125,300.94L130,300.01L145,294.32L150,291.83L155,288.83L160,286.94L165,285.18L170,281.51L180,275.37L185,273.64L190,271.54L195,272.49L200,274.01L205,271.9L210,271.34L215,271.74L225,275.33L230,279.12L235,282.63L240,284.04L255,289.06L260,290.82L270,294.63L275,295.74L305,300.68L310,301.02L345,303.13L350,303.24L400,303.9L405,303.93L495,304\" style=\"vector-effect: none; fill: none; stroke: rgb(171, 99, 250); stroke-opacity: 1; stroke-width: 2px; opacity: 1;\"/></g><g class=\"points\"/><g class=\"text\"/></g><g class=\"trace scatter trace2dc29c\" style=\"stroke-miterlimit: 2; opacity: 1;\"><g class=\"fills\"/><g class=\"errorbars\"/><g class=\"lines\"><path class=\"js-line\" d=\"M0,304L105,303.41L110,303.17L130,301.51L135,300.64L145,298.24L150,296.51L165,291.31L170,289.36L185,283.71L190,282.67L200,282.2L205,282.54L220,283.34L225,284.27L235,287.7L240,289.48L255,293.57L260,294.5L285,299.9L290,300.48L330,303.01L335,303.16L415,303.97L420,303.98L495,304\" style=\"vector-effect: none; fill: none; stroke: rgb(255, 161, 90); stroke-opacity: 1; stroke-width: 2px; opacity: 1;\"/></g><g class=\"points\"/><g class=\"text\"/></g><g class=\"trace scatter tracef76997\" style=\"stroke-miterlimit: 2; opacity: 1;\"><g class=\"fills\"/><g class=\"errorbars\"/><g class=\"lines\"><path class=\"js-line\" d=\"M0,304L100,303.29L105,303.05L125,301.3L130,300.45L140,297.95L145,296.08L155,290.48L160,286.63L170,276.58L175,269.99L185,253.7L190,244.49L205,213.13L210,201.69L230,157.7L235,147.71L245,129.9L250,122.11L260,109.07L265,103.93L275,94.87L280,91L290,84.88L295,82.36L310,77.49L315,76.19L330,73.27L335,72.57L365,70.25L370,70.09L420,69.35L425,69.32L495,69.26\" style=\"vector-effect: none; fill: none; stroke: rgb(25, 211, 243); stroke-opacity: 1; stroke-width: 2px; opacity: 1;\"/></g><g class=\"points\"/><g class=\"text\"/></g></g></g></g><path class=\"xlines-above crisp\" d=\"M0,0\" style=\"fill: none;\"/><path class=\"ylines-above crisp\" d=\"M0,0\" style=\"fill: none;\"/><g class=\"overlines-above\"/><g class=\"xaxislayer-above\"><g class=\"xtick\"><text text-anchor=\"middle\" x=\"0\" y=\"433\" transform=\"translate(80,0)\" style=\"font-family: 'Open Sans', verdana, arial, sans-serif; font-size: 12px; fill: rgb(42, 63, 95); fill-opacity: 1; white-space: pre; opacity: 1;\">0</text></g><g class=\"xtick\"><text text-anchor=\"middle\" x=\"0\" y=\"433\" style=\"font-family: 'Open Sans', verdana, arial, sans-serif; font-size: 12px; fill: rgb(42, 63, 95); fill-opacity: 1; white-space: pre; opacity: 1;\" transform=\"translate(180,0)\">20</text></g><g class=\"xtick\"><text text-anchor=\"middle\" x=\"0\" y=\"433\" style=\"font-family: 'Open Sans', verdana, arial, sans-serif; font-size: 12px; fill: rgb(42, 63, 95); fill-opacity: 1; white-space: pre; opacity: 1;\" transform=\"translate(280,0)\">40</text></g><g class=\"xtick\"><text text-anchor=\"middle\" x=\"0\" y=\"433\" style=\"font-family: 'Open Sans', verdana, arial, sans-serif; font-size: 12px; fill: rgb(42, 63, 95); fill-opacity: 1; white-space: pre; opacity: 1;\" transform=\"translate(380,0)\">60</text></g><g class=\"xtick\"><text text-anchor=\"middle\" x=\"0\" y=\"433\" style=\"font-family: 'Open Sans', verdana, arial, sans-serif; font-size: 12px; fill: rgb(42, 63, 95); fill-opacity: 1; white-space: pre; opacity: 1;\" transform=\"translate(480,0)\">80</text></g></g><g class=\"yaxislayer-above\"><g class=\"ytick\"><text text-anchor=\"end\" x=\"79\" y=\"4.199999999999999\" transform=\"translate(0,404)\" style=\"font-family: 'Open Sans', verdana, arial, sans-serif; font-size: 12px; fill: rgb(42, 63, 95); fill-opacity: 1; white-space: pre; opacity: 1;\">0</text></g><g class=\"ytick\"><text text-anchor=\"end\" x=\"79\" y=\"4.199999999999999\" style=\"font-family: 'Open Sans', verdana, arial, sans-serif; font-size: 12px; fill: rgb(42, 63, 95); fill-opacity: 1; white-space: pre; opacity: 1;\" transform=\"translate(0,334.86)\">20k</text></g><g class=\"ytick\"><text text-anchor=\"end\" x=\"79\" y=\"4.199999999999999\" style=\"font-family: 'Open Sans', verdana, arial, sans-serif; font-size: 12px; fill: rgb(42, 63, 95); fill-opacity: 1; white-space: pre; opacity: 1;\" transform=\"translate(0,265.72)\">40k</text></g><g class=\"ytick\"><text text-anchor=\"end\" x=\"79\" y=\"4.199999999999999\" style=\"font-family: 'Open Sans', verdana, arial, sans-serif; font-size: 12px; fill: rgb(42, 63, 95); fill-opacity: 1; white-space: pre; opacity: 1;\" transform=\"translate(0,196.57999999999998)\">60k</text></g><g class=\"ytick\"><text text-anchor=\"end\" x=\"79\" y=\"4.199999999999999\" style=\"font-family: 'Open Sans', verdana, arial, sans-serif; font-size: 12px; fill: rgb(42, 63, 95); fill-opacity: 1; white-space: pre; opacity: 1;\" transform=\"translate(0,127.44)\">80k</text></g></g><g class=\"overaxes-above\"/></g></g><g class=\"polarlayer\"/><g class=\"smithlayer\"/><g class=\"ternarylayer\"/><g class=\"geolayer\"/><g class=\"funnelarealayer\"/><g class=\"pielayer\"/><g class=\"iciclelayer\"/><g class=\"treemaplayer\"/><g class=\"sunburstlayer\"/><g class=\"glimages\"/><defs id=\"topdefs-8f87ff\"><g class=\"clips\"/><clipPath id=\"legend8f87ff\"><rect width=\"103\" height=\"143\" x=\"0\" y=\"0\"/></clipPath></defs><g class=\"layer-above\"><g class=\"imagelayer\"/><g class=\"shapelayer\"/></g><g class=\"infolayer\"><g class=\"legend\" pointer-events=\"all\" transform=\"translate(584.9000000000001,100)\"><rect class=\"bg\" shape-rendering=\"crispEdges\" style=\"stroke: rgb(68, 68, 68); stroke-opacity: 1; fill: rgb(255, 255, 255); fill-opacity: 1; stroke-width: 0px;\" width=\"103\" height=\"143\" x=\"0\" y=\"0\"/><g class=\"scrollbox\" transform=\"\" clip-path=\"url(#legend8f87ff)\"><text class=\"legendtitletext\" text-anchor=\"start\" x=\"2\" y=\"18.2\" style=\"font-family: 'Open Sans', verdana, arial, sans-serif; font-size: 14px; fill: rgb(42, 63, 95); fill-opacity: 1; white-space: pre;\">state</text><g class=\"groups\" transform=\"\"><g class=\"traces\" transform=\"translate(0,32.7)\" style=\"opacity: 1;\"><text class=\"legendtext\" text-anchor=\"start\" x=\"40\" y=\"4.680000000000001\" style=\"font-family: 'Open Sans', verdana, arial, sans-serif; font-size: 12px; fill: rgb(42, 63, 95); fill-opacity: 1; white-space: pre;\">S</text><g class=\"layers\" style=\"opacity: 1;\"><g class=\"legendfill\"/><g class=\"legendlines\"><path class=\"js-line\" d=\"M5,0h30\" style=\"fill: none; stroke: rgb(99, 110, 250); stroke-opacity: 1; stroke-width: 2px;\"/></g><g class=\"legendsymbols\"><g class=\"legendpoints\"/></g></g><rect class=\"legendtoggle\" x=\"0\" y=\"-9.5\" width=\"97.3125\" height=\"19\" style=\"fill: rgb(0, 0, 0); fill-opacity: 0;\"/></g></g><g class=\"groups\" transform=\"\"><g class=\"traces\" transform=\"translate(0,51.7)\" style=\"opacity: 1;\"><text class=\"legendtext\" text-anchor=\"start\" x=\"40\" y=\"4.680000000000001\" style=\"font-family: 'Open Sans', verdana, arial, sans-serif; font-size: 12px; fill: rgb(42, 63, 95); fill-opacity: 1; white-space: pre;\">E</text><g class=\"layers\" style=\"opacity: 1;\"><g class=\"legendfill\"/><g class=\"legendlines\"><path class=\"js-line\" d=\"M5,0h30\" style=\"fill: none; stroke: rgb(239, 85, 59); stroke-opacity: 1; stroke-width: 2px;\"/></g><g class=\"legendsymbols\"><g class=\"legendpoints\"/></g></g><rect class=\"legendtoggle\" x=\"0\" y=\"-9.5\" width=\"97.3125\" height=\"19\" style=\"fill: rgb(0, 0, 0); fill-opacity: 0;\"/></g></g><g class=\"groups\" transform=\"\"><g class=\"traces\" transform=\"translate(0,70.7)\" style=\"opacity: 1;\"><text class=\"legendtext\" text-anchor=\"start\" x=\"40\" y=\"4.680000000000001\" style=\"font-family: 'Open Sans', verdana, arial, sans-serif; font-size: 12px; fill: rgb(42, 63, 95); fill-opacity: 1; white-space: pre;\">Ipresymp</text><g class=\"layers\" style=\"opacity: 1;\"><g class=\"legendfill\"/><g class=\"legendlines\"><path class=\"js-line\" d=\"M5,0h30\" style=\"fill: none; stroke: rgb(0, 204, 150); stroke-opacity: 1; stroke-width: 2px;\"/></g><g class=\"legendsymbols\"><g class=\"legendpoints\"/></g></g><rect class=\"legendtoggle\" x=\"0\" y=\"-9.5\" width=\"97.3125\" height=\"19\" style=\"fill: rgb(0, 0, 0); fill-opacity: 0;\"/></g></g><g class=\"groups\" transform=\"\"><g class=\"traces\" transform=\"translate(0,89.7)\" style=\"opacity: 1;\"><text class=\"legendtext\" text-anchor=\"start\" x=\"40\" y=\"4.680000000000001\" style=\"font-family: 'Open Sans', verdana, arial, sans-serif; font-size: 12px; fill: rgb(42, 63, 95); fill-opacity: 1; white-space: pre;\">Isymp</text><g class=\"layers\" style=\"opacity: 1;\"><g class=\"legendfill\"/><g class=\"legendlines\"><path class=\"js-line\" d=\"M5,0h30\" style=\"fill: none; stroke: rgb(171, 99, 250); stroke-opacity: 1; stroke-width: 2px;\"/></g><g class=\"legendsymbols\"><g class=\"legendpoints\"/></g></g><rect class=\"legendtoggle\" x=\"0\" y=\"-9.5\" width=\"97.3125\" height=\"19\" style=\"fill: rgb(0, 0, 0); fill-opacity: 0;\"/></g></g><g class=\"groups\" transform=\"\"><g class=\"traces\" transform=\"translate(0,108.7)\" style=\"opacity: 1;\"><text class=\"legendtext\" text-anchor=\"start\" x=\"40\" y=\"4.680000000000001\" style=\"font-family: 'Open Sans', verdana, arial, sans-serif; font-size: 12px; fill: rgb(42, 63, 95); fill-opacity: 1; white-space: pre;\">Iasymp</text><g class=\"layers\" style=\"opacity: 1;\"><g class=\"legendfill\"/><g class=\"legendlines\"><path class=\"js-line\" d=\"M5,0h30\" style=\"fill: none; stroke: rgb(255, 161, 90); stroke-opacity: 1; stroke-width: 2px;\"/></g><g class=\"legendsymbols\"><g class=\"legendpoints\"/></g></g><rect class=\"legendtoggle\" x=\"0\" y=\"-9.5\" width=\"97.3125\" height=\"19\" style=\"fill: rgb(0, 0, 0); fill-opacity: 0;\"/></g></g><g class=\"groups\" transform=\"\"><g class=\"traces\" transform=\"translate(0,127.7)\" style=\"opacity: 1;\"><text class=\"legendtext\" text-anchor=\"start\" x=\"40\" y=\"4.680000000000001\" style=\"font-family: 'Open Sans', verdana, arial, sans-serif; font-size: 12px; fill: rgb(42, 63, 95); fill-opacity: 1; white-space: pre;\">R</text><g class=\"layers\" style=\"opacity: 1;\"><g class=\"legendfill\"/><g class=\"legendlines\"><path class=\"js-line\" d=\"M5,0h30\" style=\"fill: none; stroke: rgb(25, 211, 243); stroke-opacity: 1; stroke-width: 2px;\"/></g><g class=\"legendsymbols\"><g class=\"legendpoints\"/></g></g><rect class=\"legendtoggle\" x=\"0\" y=\"-9.5\" width=\"97.3125\" height=\"19\" style=\"fill: rgb(0, 0, 0); fill-opacity: 0;\"/></g></g></g><rect class=\"scrollbar\" rx=\"20\" ry=\"3\" width=\"0\" height=\"0\" style=\"fill: rgb(128, 139, 164); fill-opacity: 1;\" x=\"0\" y=\"0\"/></g><g class=\"g-gtitle\"><text class=\"gtitle\" x=\"35\" y=\"50\" text-anchor=\"start\" dy=\"0em\" style=\"opacity: 1; font-family: 'Open Sans', verdana, arial, sans-serif; font-size: 17px; fill: rgb(42, 63, 95); fill-opacity: 1; white-space: pre;\">Number of individuals in each state over time</text></g><g class=\"g-xtitle\"><text class=\"xtitle\" x=\"327.5\" y=\"460.3\" text-anchor=\"middle\" style=\"opacity: 1; font-family: 'Open Sans', verdana, arial, sans-serif; font-size: 14px; fill: rgb(42, 63, 95); fill-opacity: 1; white-space: pre;\">tick</text></g><g class=\"g-ytitle\"><text class=\"ytitle\" transform=\"rotate(-90,37.240625,260)\" x=\"37.240625\" y=\"260\" text-anchor=\"middle\" style=\"opacity: 1; font-family: 'Open Sans', verdana, arial, sans-serif; font-size: 14px; fill: rgb(42, 63, 95); fill-opacity: 1; white-space: pre;\">count</text></g></g></svg>"
      ]
     },
     "metadata": {},
     "output_type": "display_data"
    }
   ],
   "source": [
    "states = summary.columns\n",
    "states.remove(\"tick\")\n",
    "\n",
    "title = \"Number of individuals in each state over time\"\n",
    "pdf = summary.unpivot(index=\"tick\", on=states, variable_name=\"state\", value_name=\"count\")\n",
    "px.line(pdf, x=\"tick\", y=\"count\", color=\"state\", title=title)"
   ]
  },
  {
   "cell_type": "code",
   "execution_count": 21,
   "id": "9ed94027-7e42-4cee-8871-ce01f6354bd9",
   "metadata": {},
   "outputs": [
    {
     "data": {
      "image/svg+xml": [
       "<svg class=\"main-svg\" xmlns=\"http://www.w3.org/2000/svg\" xmlns:xlink=\"http://www.w3.org/1999/xlink\" width=\"700\" height=\"500\" style=\"\" viewBox=\"0 0 700 500\"><rect x=\"0\" y=\"0\" width=\"700\" height=\"500\" style=\"fill: rgb(255, 255, 255); fill-opacity: 1;\"/><defs id=\"defs-370491\"><g class=\"clips\"><clipPath id=\"clip370491xyplot\" class=\"plotclip\"><rect width=\"495\" height=\"320\"/></clipPath><clipPath class=\"axesclip\" id=\"clip370491x\"><rect x=\"80\" y=\"0\" width=\"495\" height=\"500\"/></clipPath><clipPath class=\"axesclip\" id=\"clip370491y\"><rect x=\"0\" y=\"100\" width=\"700\" height=\"320\"/></clipPath><clipPath class=\"axesclip\" id=\"clip370491xy\"><rect x=\"80\" y=\"100\" width=\"495\" height=\"320\"/></clipPath></g><g class=\"gradients\"/><g class=\"patterns\"/></defs><g class=\"bglayer\"><rect class=\"bg\" x=\"80\" y=\"100\" width=\"495\" height=\"320\" style=\"fill: rgb(229, 236, 246); fill-opacity: 1; stroke-width: 0;\"/></g><g class=\"layer-below\"><g class=\"imagelayer\"/><g class=\"shapelayer\"/></g><g class=\"cartesianlayer\"><g class=\"subplot xy\"><g class=\"layer-subplot\"><g class=\"shapelayer\"/><g class=\"imagelayer\"/></g><g class=\"minor-gridlayer\"><g class=\"x\"/><g class=\"y\"/></g><g class=\"gridlayer\"><g class=\"x\"><path class=\"xgrid crisp\" transform=\"translate(180,0)\" d=\"M0,100v320\" style=\"stroke: rgb(255, 255, 255); stroke-opacity: 1; stroke-width: 1px;\"/><path class=\"xgrid crisp\" transform=\"translate(280,0)\" d=\"M0,100v320\" style=\"stroke: rgb(255, 255, 255); stroke-opacity: 1; stroke-width: 1px;\"/><path class=\"xgrid crisp\" transform=\"translate(380,0)\" d=\"M0,100v320\" style=\"stroke: rgb(255, 255, 255); stroke-opacity: 1; stroke-width: 1px;\"/><path class=\"xgrid crisp\" transform=\"translate(480,0)\" d=\"M0,100v320\" style=\"stroke: rgb(255, 255, 255); stroke-opacity: 1; stroke-width: 1px;\"/></g><g class=\"y\"><path class=\"ygrid crisp\" transform=\"translate(0,361.59)\" d=\"M80,0h495\" style=\"stroke: rgb(255, 255, 255); stroke-opacity: 1; stroke-width: 1px;\"/><path class=\"ygrid crisp\" transform=\"translate(0,319.16999999999996)\" d=\"M80,0h495\" style=\"stroke: rgb(255, 255, 255); stroke-opacity: 1; stroke-width: 1px;\"/><path class=\"ygrid crisp\" transform=\"translate(0,276.76)\" d=\"M80,0h495\" style=\"stroke: rgb(255, 255, 255); stroke-opacity: 1; stroke-width: 1px;\"/><path class=\"ygrid crisp\" transform=\"translate(0,234.35)\" d=\"M80,0h495\" style=\"stroke: rgb(255, 255, 255); stroke-opacity: 1; stroke-width: 1px;\"/><path class=\"ygrid crisp\" transform=\"translate(0,191.93)\" d=\"M80,0h495\" style=\"stroke: rgb(255, 255, 255); stroke-opacity: 1; stroke-width: 1px;\"/><path class=\"ygrid crisp\" transform=\"translate(0,149.52)\" d=\"M80,0h495\" style=\"stroke: rgb(255, 255, 255); stroke-opacity: 1; stroke-width: 1px;\"/><path class=\"ygrid crisp\" transform=\"translate(0,107.11)\" d=\"M80,0h495\" style=\"stroke: rgb(255, 255, 255); stroke-opacity: 1; stroke-width: 1px;\"/></g></g><g class=\"zerolinelayer\"><path class=\"xzl zl crisp\" transform=\"translate(80,0)\" d=\"M0,100v320\" style=\"stroke: rgb(255, 255, 255); stroke-opacity: 1; stroke-width: 2px;\"/><path class=\"yzl zl crisp\" transform=\"translate(0,404)\" d=\"M80,0h495\" style=\"stroke: rgb(255, 255, 255); stroke-opacity: 1; stroke-width: 2px;\"/></g><g class=\"layer-between\"><g class=\"shapelayer\"/><g class=\"imagelayer\"/></g><path class=\"xlines-below\"/><path class=\"ylines-below\"/><g class=\"overlines-below\"/><g class=\"xaxislayer-below\"/><g class=\"yaxislayer-below\"/><g class=\"overaxes-below\"/><g class=\"overplot\"><g class=\"xy\" transform=\"translate(80,100)\" clip-path=\"url(#clip370491xyplot)\"><g class=\"scatterlayer mlayer\"><g class=\"trace scatter trace4765d8\" style=\"stroke-miterlimit: 2; opacity: 1;\"><g class=\"fills\"/><g class=\"errorbars\"/><g class=\"lines\"><path class=\"js-line\" d=\"M0,304L495,304\" style=\"vector-effect: none; fill: none; stroke: rgb(99, 110, 250); stroke-opacity: 1; stroke-width: 2px; opacity: 1;\"/></g><g class=\"points\"/><g class=\"text\"/></g><g class=\"trace scatter tracee47677\" style=\"stroke-miterlimit: 2; opacity: 1;\"><g class=\"fills\"/><g class=\"errorbars\"/><g class=\"lines\"><path class=\"js-line\" d=\"M0,304L50,303.49L55,303.22L75,301.82L80,300.94L90,298.36L95,296.59L105,291.44L110,287.08L115,281.47L120,274.42L125,266.14L130,256.04L140,237.2L145,223.09L165,162.17L170,151.11L175,140.96L180,124.6L190,96.65L195,85.92L200,76.15L205,70.36L210,65.37L215,57.31L220,50.54L225,45.04L235,36.52L240,34.31L265,23.84L270,22.5L300,18.38L305,17.94L345,16.56L350,16.47L450,16.21L455,16.21L495,16.2\" style=\"vector-effect: none; fill: none; stroke: rgb(239, 85, 59); stroke-opacity: 1; stroke-width: 2px; opacity: 1;\"/></g><g class=\"points\"/><g class=\"text\"/></g><g class=\"trace scatter trace95a212\" style=\"stroke-miterlimit: 2; opacity: 1;\"><g class=\"fills\"/><g class=\"errorbars\"/><g class=\"lines\"><path class=\"js-line\" d=\"M0,304L70,303.36L75,303.19L95,301.85L100,301.09L110,299L115,297.59L120,295.66L125,292.7L135,284.53L140,279.08L155,260.06L160,251.01L180,211.32L185,204.05L190,197.46L195,186.71L205,168.47L210,161.66L215,155.4L220,151.6L225,148.41L230,143.36L240,135.49L245,132.45L250,129.77L255,128.35L285,120.54L290,119.98L320,117.51L325,117.33L375,116.39L380,116.36L495,116.28\" style=\"vector-effect: none; fill: none; stroke: rgb(0, 204, 150); stroke-opacity: 1; stroke-width: 2px; opacity: 1;\"/></g><g class=\"points\"/><g class=\"text\"/></g><g class=\"trace scatter trace568729\" style=\"stroke-miterlimit: 2; opacity: 1;\"><g class=\"fills\"/><g class=\"errorbars\"/><g class=\"lines\"><path class=\"js-line\" d=\"M0,304L80,303.36L85,303.19L105,301.85L110,301.09L120,299L125,297.59L130,295.66L135,292.7L145,284.53L150,279.08L165,260.06L170,251.01L190,211.32L195,204.05L200,197.46L205,186.71L215,168.47L220,161.66L225,155.4L230,151.6L235,148.41L240,143.36L250,135.49L255,132.45L260,129.77L265,128.35L295,120.54L300,119.98L330,117.51L335,117.33L385,116.39L390,116.36L495,116.28\" style=\"vector-effect: none; fill: none; stroke: rgb(171, 99, 250); stroke-opacity: 1; stroke-width: 2px; opacity: 1;\"/></g><g class=\"points\"/><g class=\"text\"/></g><g class=\"trace scatter traceb26de3\" style=\"stroke-miterlimit: 2; opacity: 1;\"><g class=\"fills\"/><g class=\"errorbars\"/><g class=\"lines\"><path class=\"js-line\" d=\"M0,304L100,303.28L105,303.02L125,300.91L130,300.04L140,297.03L145,294.8L160,285.89L165,282.09L175,272.94L180,267.75L195,253.05L200,248.7L220,230.15L225,226.65L240,219.27L245,216.85L255,212.73L260,211.25L280,207.79L285,207.13L305,205.35L310,205.13L345,204.04L350,203.97L450,203.71L455,203.71L495,203.71\" style=\"vector-effect: none; fill: none; stroke: rgb(255, 161, 90); stroke-opacity: 1; stroke-width: 2px; opacity: 1;\"/></g><g class=\"points\"/><g class=\"text\"/></g><g class=\"trace scatter tracea2399a\" style=\"stroke-miterlimit: 2; opacity: 1;\"><g class=\"fills\"/><g class=\"errorbars\"/><g class=\"lines\"><path class=\"js-line\" d=\"M0,304L95,303.32L100,303.13L120,301.42L125,300.69L135,298.39L140,296.57L150,291.23L155,287.41L160,282.69L165,276.82L170,270.36L175,262.27L185,242.28L190,230.99L205,192.52L210,178.48L230,124.51L235,112.26L245,90.4L250,80.84L260,64.85L265,58.54L275,47.43L280,42.67L290,35.17L295,32.08L305,27.78L310,26.1L325,21.84L330,20.93L345,18.83L350,18.4L370,17.02L375,16.85L410,16.14L415,16.13L495,16\" style=\"vector-effect: none; fill: none; stroke: rgb(25, 211, 243); stroke-opacity: 1; stroke-width: 2px; opacity: 1;\"/></g><g class=\"points\"/><g class=\"text\"/></g></g></g></g><path class=\"xlines-above crisp\" d=\"M0,0\" style=\"fill: none;\"/><path class=\"ylines-above crisp\" d=\"M0,0\" style=\"fill: none;\"/><g class=\"overlines-above\"/><g class=\"xaxislayer-above\"><g class=\"xtick\"><text text-anchor=\"middle\" x=\"0\" y=\"433\" transform=\"translate(80,0)\" style=\"font-family: 'Open Sans', verdana, arial, sans-serif; font-size: 12px; fill: rgb(42, 63, 95); fill-opacity: 1; white-space: pre; opacity: 1;\">0</text></g><g class=\"xtick\"><text text-anchor=\"middle\" x=\"0\" y=\"433\" style=\"font-family: 'Open Sans', verdana, arial, sans-serif; font-size: 12px; fill: rgb(42, 63, 95); fill-opacity: 1; white-space: pre; opacity: 1;\" transform=\"translate(180,0)\">20</text></g><g class=\"xtick\"><text text-anchor=\"middle\" x=\"0\" y=\"433\" style=\"font-family: 'Open Sans', verdana, arial, sans-serif; font-size: 12px; fill: rgb(42, 63, 95); fill-opacity: 1; white-space: pre; opacity: 1;\" transform=\"translate(280,0)\">40</text></g><g class=\"xtick\"><text text-anchor=\"middle\" x=\"0\" y=\"433\" style=\"font-family: 'Open Sans', verdana, arial, sans-serif; font-size: 12px; fill: rgb(42, 63, 95); fill-opacity: 1; white-space: pre; opacity: 1;\" transform=\"translate(380,0)\">60</text></g><g class=\"xtick\"><text text-anchor=\"middle\" x=\"0\" y=\"433\" style=\"font-family: 'Open Sans', verdana, arial, sans-serif; font-size: 12px; fill: rgb(42, 63, 95); fill-opacity: 1; white-space: pre; opacity: 1;\" transform=\"translate(480,0)\">80</text></g></g><g class=\"yaxislayer-above\"><g class=\"ytick\"><text text-anchor=\"end\" x=\"79\" y=\"4.199999999999999\" transform=\"translate(0,404)\" style=\"font-family: 'Open Sans', verdana, arial, sans-serif; font-size: 12px; fill: rgb(42, 63, 95); fill-opacity: 1; white-space: pre; opacity: 1;\">0</text></g><g class=\"ytick\"><text text-anchor=\"end\" x=\"79\" y=\"4.199999999999999\" style=\"font-family: 'Open Sans', verdana, arial, sans-serif; font-size: 12px; fill: rgb(42, 63, 95); fill-opacity: 1; white-space: pre; opacity: 1;\" transform=\"translate(0,361.59)\">10k</text></g><g class=\"ytick\"><text text-anchor=\"end\" x=\"79\" y=\"4.199999999999999\" style=\"font-family: 'Open Sans', verdana, arial, sans-serif; font-size: 12px; fill: rgb(42, 63, 95); fill-opacity: 1; white-space: pre; opacity: 1;\" transform=\"translate(0,319.16999999999996)\">20k</text></g><g class=\"ytick\"><text text-anchor=\"end\" x=\"79\" y=\"4.199999999999999\" style=\"font-family: 'Open Sans', verdana, arial, sans-serif; font-size: 12px; fill: rgb(42, 63, 95); fill-opacity: 1; white-space: pre; opacity: 1;\" transform=\"translate(0,276.76)\">30k</text></g><g class=\"ytick\"><text text-anchor=\"end\" x=\"79\" y=\"4.199999999999999\" style=\"font-family: 'Open Sans', verdana, arial, sans-serif; font-size: 12px; fill: rgb(42, 63, 95); fill-opacity: 1; white-space: pre; opacity: 1;\" transform=\"translate(0,234.35)\">40k</text></g><g class=\"ytick\"><text text-anchor=\"end\" x=\"79\" y=\"4.199999999999999\" style=\"font-family: 'Open Sans', verdana, arial, sans-serif; font-size: 12px; fill: rgb(42, 63, 95); fill-opacity: 1; white-space: pre; opacity: 1;\" transform=\"translate(0,191.93)\">50k</text></g><g class=\"ytick\"><text text-anchor=\"end\" x=\"79\" y=\"4.199999999999999\" style=\"font-family: 'Open Sans', verdana, arial, sans-serif; font-size: 12px; fill: rgb(42, 63, 95); fill-opacity: 1; white-space: pre; opacity: 1;\" transform=\"translate(0,149.52)\">60k</text></g><g class=\"ytick\"><text text-anchor=\"end\" x=\"79\" y=\"4.199999999999999\" style=\"font-family: 'Open Sans', verdana, arial, sans-serif; font-size: 12px; fill: rgb(42, 63, 95); fill-opacity: 1; white-space: pre; opacity: 1;\" transform=\"translate(0,107.11)\">70k</text></g></g><g class=\"overaxes-above\"/></g></g><g class=\"polarlayer\"/><g class=\"smithlayer\"/><g class=\"ternarylayer\"/><g class=\"geolayer\"/><g class=\"funnelarealayer\"/><g class=\"pielayer\"/><g class=\"iciclelayer\"/><g class=\"treemaplayer\"/><g class=\"sunburstlayer\"/><g class=\"glimages\"/><defs id=\"topdefs-370491\"><g class=\"clips\"/><clipPath id=\"legend370491\"><rect width=\"103\" height=\"143\" x=\"0\" y=\"0\"/></clipPath></defs><g class=\"layer-above\"><g class=\"imagelayer\"/><g class=\"shapelayer\"/></g><g class=\"infolayer\"><g class=\"legend\" pointer-events=\"all\" transform=\"translate(584.9000000000001,100)\"><rect class=\"bg\" shape-rendering=\"crispEdges\" width=\"103\" height=\"143\" x=\"0\" y=\"0\" style=\"stroke: rgb(68, 68, 68); stroke-opacity: 1; fill: rgb(255, 255, 255); fill-opacity: 1; stroke-width: 0px;\"/><g class=\"scrollbox\" transform=\"\" clip-path=\"url(#legend370491)\"><text class=\"legendtitletext\" text-anchor=\"start\" x=\"2\" y=\"18.2\" style=\"font-family: 'Open Sans', verdana, arial, sans-serif; font-size: 14px; fill: rgb(42, 63, 95); fill-opacity: 1; white-space: pre;\">state</text><g class=\"groups\" transform=\"\"><g class=\"traces\" transform=\"translate(0,32.7)\" style=\"opacity: 1;\"><text class=\"legendtext\" text-anchor=\"start\" x=\"40\" y=\"4.680000000000001\" style=\"font-family: 'Open Sans', verdana, arial, sans-serif; font-size: 12px; fill: rgb(42, 63, 95); fill-opacity: 1; white-space: pre;\">S</text><g class=\"layers\" style=\"opacity: 1;\"><g class=\"legendfill\"/><g class=\"legendlines\"><path class=\"js-line\" d=\"M5,0h30\" style=\"fill: none; stroke: rgb(99, 110, 250); stroke-opacity: 1; stroke-width: 2px;\"/></g><g class=\"legendsymbols\"><g class=\"legendpoints\"/></g></g><rect class=\"legendtoggle\" x=\"0\" y=\"-9.5\" width=\"97.3125\" height=\"19\" style=\"fill: rgb(0, 0, 0); fill-opacity: 0;\"/></g></g><g class=\"groups\" transform=\"\"><g class=\"traces\" transform=\"translate(0,51.7)\" style=\"opacity: 1;\"><text class=\"legendtext\" text-anchor=\"start\" x=\"40\" y=\"4.680000000000001\" style=\"font-family: 'Open Sans', verdana, arial, sans-serif; font-size: 12px; fill: rgb(42, 63, 95); fill-opacity: 1; white-space: pre;\">E</text><g class=\"layers\" style=\"opacity: 1;\"><g class=\"legendfill\"/><g class=\"legendlines\"><path class=\"js-line\" d=\"M5,0h30\" style=\"fill: none; stroke: rgb(239, 85, 59); stroke-opacity: 1; stroke-width: 2px;\"/></g><g class=\"legendsymbols\"><g class=\"legendpoints\"/></g></g><rect class=\"legendtoggle\" x=\"0\" y=\"-9.5\" width=\"97.3125\" height=\"19\" style=\"fill: rgb(0, 0, 0); fill-opacity: 0;\"/></g></g><g class=\"groups\" transform=\"\"><g class=\"traces\" transform=\"translate(0,70.7)\" style=\"opacity: 1;\"><text class=\"legendtext\" text-anchor=\"start\" x=\"40\" y=\"4.680000000000001\" style=\"font-family: 'Open Sans', verdana, arial, sans-serif; font-size: 12px; fill: rgb(42, 63, 95); fill-opacity: 1; white-space: pre;\">Ipresymp</text><g class=\"layers\" style=\"opacity: 1;\"><g class=\"legendfill\"/><g class=\"legendlines\"><path class=\"js-line\" d=\"M5,0h30\" style=\"fill: none; stroke: rgb(0, 204, 150); stroke-opacity: 1; stroke-width: 2px;\"/></g><g class=\"legendsymbols\"><g class=\"legendpoints\"/></g></g><rect class=\"legendtoggle\" x=\"0\" y=\"-9.5\" width=\"97.3125\" height=\"19\" style=\"fill: rgb(0, 0, 0); fill-opacity: 0;\"/></g></g><g class=\"groups\" transform=\"\"><g class=\"traces\" transform=\"translate(0,89.7)\" style=\"opacity: 1;\"><text class=\"legendtext\" text-anchor=\"start\" x=\"40\" y=\"4.680000000000001\" style=\"font-family: 'Open Sans', verdana, arial, sans-serif; font-size: 12px; fill: rgb(42, 63, 95); fill-opacity: 1; white-space: pre;\">Isymp</text><g class=\"layers\" style=\"opacity: 1;\"><g class=\"legendfill\"/><g class=\"legendlines\"><path class=\"js-line\" d=\"M5,0h30\" style=\"fill: none; stroke: rgb(171, 99, 250); stroke-opacity: 1; stroke-width: 2px;\"/></g><g class=\"legendsymbols\"><g class=\"legendpoints\"/></g></g><rect class=\"legendtoggle\" x=\"0\" y=\"-9.5\" width=\"97.3125\" height=\"19\" style=\"fill: rgb(0, 0, 0); fill-opacity: 0;\"/></g></g><g class=\"groups\" transform=\"\"><g class=\"traces\" transform=\"translate(0,108.7)\" style=\"opacity: 1;\"><text class=\"legendtext\" text-anchor=\"start\" x=\"40\" y=\"4.680000000000001\" style=\"font-family: 'Open Sans', verdana, arial, sans-serif; font-size: 12px; fill: rgb(42, 63, 95); fill-opacity: 1; white-space: pre;\">Iasymp</text><g class=\"layers\" style=\"opacity: 1;\"><g class=\"legendfill\"/><g class=\"legendlines\"><path class=\"js-line\" d=\"M5,0h30\" style=\"fill: none; stroke: rgb(255, 161, 90); stroke-opacity: 1; stroke-width: 2px;\"/></g><g class=\"legendsymbols\"><g class=\"legendpoints\"/></g></g><rect class=\"legendtoggle\" x=\"0\" y=\"-9.5\" width=\"97.3125\" height=\"19\" style=\"fill: rgb(0, 0, 0); fill-opacity: 0;\"/></g></g><g class=\"groups\" transform=\"\"><g class=\"traces\" transform=\"translate(0,127.7)\" style=\"opacity: 1;\"><text class=\"legendtext\" text-anchor=\"start\" x=\"40\" y=\"4.680000000000001\" style=\"font-family: 'Open Sans', verdana, arial, sans-serif; font-size: 12px; fill: rgb(42, 63, 95); fill-opacity: 1; white-space: pre;\">R</text><g class=\"layers\" style=\"opacity: 1;\"><g class=\"legendfill\"/><g class=\"legendlines\"><path class=\"js-line\" d=\"M5,0h30\" style=\"fill: none; stroke: rgb(25, 211, 243); stroke-opacity: 1; stroke-width: 2px;\"/></g><g class=\"legendsymbols\"><g class=\"legendpoints\"/></g></g><rect class=\"legendtoggle\" x=\"0\" y=\"-9.5\" width=\"97.3125\" height=\"19\" style=\"fill: rgb(0, 0, 0); fill-opacity: 0;\"/></g></g></g><rect class=\"scrollbar\" rx=\"20\" ry=\"3\" width=\"0\" height=\"0\" x=\"0\" y=\"0\" style=\"fill: rgb(128, 139, 164); fill-opacity: 1;\"/></g><g class=\"g-gtitle\"><text class=\"gtitle\" x=\"35\" y=\"50\" text-anchor=\"start\" dy=\"0em\" style=\"opacity: 1; font-family: 'Open Sans', verdana, arial, sans-serif; font-size: 17px; fill: rgb(42, 63, 95); fill-opacity: 1; white-space: pre;\">Cumulative number of individuals who have visited each state over time</text></g><g class=\"g-xtitle\"><text class=\"xtitle\" x=\"327.5\" y=\"460.3\" text-anchor=\"middle\" style=\"opacity: 1; font-family: 'Open Sans', verdana, arial, sans-serif; font-size: 14px; fill: rgb(42, 63, 95); fill-opacity: 1; white-space: pre;\">tick</text></g><g class=\"g-ytitle\"><text class=\"ytitle\" transform=\"rotate(-90,37.240625,260)\" x=\"37.240625\" y=\"260\" text-anchor=\"middle\" style=\"opacity: 1; font-family: 'Open Sans', verdana, arial, sans-serif; font-size: 14px; fill: rgb(42, 63, 95); fill-opacity: 1; white-space: pre;\">count</text></g></g></svg>"
      ]
     },
     "metadata": {},
     "output_type": "display_data"
    }
   ],
   "source": [
    "num_ticks = simulator.num_ticks(output_file)\n",
    "state_tick_cum_counts = simulator.compute_state_tick_unique_counts(transitions, num_ticks)\n",
    "\n",
    "states = state_tick_cum_counts.columns\n",
    "states.remove(\"tick\")\n",
    "\n",
    "state_tick_cum_counts = state_tick_cum_counts.with_columns(\n",
    "    *[pl.col(state).cum_sum() for state in states]\n",
    ")\n",
    "\n",
    "title = \"Cumulative number of individuals who have visited each state over time\"\n",
    "pdf = state_tick_cum_counts.unpivot(index=\"tick\", on=states, variable_name=\"state\", value_name=\"count\")\n",
    "px.line(pdf, x=\"tick\", y=\"count\", color=\"state\", title=title)"
   ]
  },
  {
   "cell_type": "code",
   "execution_count": null,
   "id": "b02e3548-4b24-46b6-b257-99adc10eeab4",
   "metadata": {},
   "outputs": [],
   "source": []
  },
  {
   "cell_type": "code",
   "execution_count": null,
   "id": "36220d28-dcd7-451c-b4be-9e157ff1108c",
   "metadata": {},
   "outputs": [],
   "source": []
  }
 ],
 "metadata": {
  "kernelspec": {
   "display_name": "Python [conda env:hp12] *",
   "language": "python",
   "name": "conda-env-hp12-py"
  },
  "language_info": {
   "codemirror_mode": {
    "name": "ipython",
    "version": 3
   },
   "file_extension": ".py",
   "mimetype": "text/x-python",
   "name": "python",
   "nbconvert_exporter": "python",
   "pygments_lexer": "ipython3",
   "version": "3.12.5"
  }
 },
 "nbformat": 4,
 "nbformat_minor": 5
}
