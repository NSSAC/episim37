{
 "cells": [
  {
   "cell_type": "markdown",
   "id": "ceab61aa-12d9-4068-89c6-ccd64b28af80",
   "metadata": {},
   "source": [
    "# Run Example 1\n",
    "\n",
    "This notbook shows the workflow for running EpiSim37 simulations on your personal computer.\n",
    "\n",
    "This notebook expects that you have installed pandas and episim37."
   ]
  },
  {
   "cell_type": "code",
   "execution_count": 1,
   "id": "988bb29c-1eb2-4dd6-b5da-c5398037a6aa",
   "metadata": {},
   "outputs": [],
   "source": [
    "import tempfile\n",
    "from pathlib import Path\n",
    "\n",
    "import polars as pl\n",
    "import plotly.express as px\n",
    "import plotly.io as pio\n",
    "pio.renderers.default = \"jupyterlab\"\n",
    "\n",
    "from episim37.utils import OpenMPSimulator"
   ]
  },
  {
   "cell_type": "markdown",
   "id": "9d075b51-4237-4c98-893d-676823123123",
   "metadata": {},
   "source": [
    "For running an EpiSim37 simulation we need two things:\n",
    "1) the EpiSim37 simulation description (the ESL37 file) and\n",
    "2) the network (nodes and edges)\n",
    "\n",
    "For this demo we shall use the following files.\n",
    "The node and edge file can be in parquet or CSV format."
   ]
  },
  {
   "cell_type": "code",
   "execution_count": 2,
   "id": "0c013870-5644-4707-8b65-b0cc7f7e684a",
   "metadata": {},
   "outputs": [],
   "source": [
    "sim_file = \"example1.esl37\"\n",
    "node_file = \"nodes.parquet\"\n",
    "edge_file = \"edges.parquet\""
   ]
  },
  {
   "cell_type": "markdown",
   "id": "858c2c81-0b3c-40d7-93a3-b2160cb3bfeb",
   "metadata": {},
   "source": [
    "The node table contains the node key (pid for this simulation) and any other static node attributes that the simulation may depend on.\n",
    "\n",
    "Similarly, the edge table contains the source and target node key (source_pid and target_pid for this simulation) and any other static edge attributes that the simulation may depend on.\n",
    "\n",
    "The column names in the node and edge file must match those provided in the simulation file."
   ]
  },
  {
   "cell_type": "code",
   "execution_count": 3,
   "id": "e0711e65-3989-4984-8a0c-a17710ab8110",
   "metadata": {},
   "outputs": [
    {
     "data": {
      "text/html": [
       "<div><style>\n",
       ".dataframe > thead > tr,\n",
       ".dataframe > tbody > tr {\n",
       "  text-align: right;\n",
       "  white-space: pre-wrap;\n",
       "}\n",
       "</style>\n",
       "<small>shape: (5, 2)</small><table border=\"1\" class=\"dataframe\"><thead><tr><th>pid</th><th>is_in_school</th></tr><tr><td>i64</td><td>bool</td></tr></thead><tbody><tr><td>3723936</td><td>true</td></tr><tr><td>3723937</td><td>true</td></tr><tr><td>3723938</td><td>false</td></tr><tr><td>3723939</td><td>true</td></tr><tr><td>3723940</td><td>true</td></tr></tbody></table></div>"
      ],
      "text/plain": [
       "shape: (5, 2)\n",
       "┌─────────┬──────────────┐\n",
       "│ pid     ┆ is_in_school │\n",
       "│ ---     ┆ ---          │\n",
       "│ i64     ┆ bool         │\n",
       "╞═════════╪══════════════╡\n",
       "│ 3723936 ┆ true         │\n",
       "│ 3723937 ┆ true         │\n",
       "│ 3723938 ┆ false        │\n",
       "│ 3723939 ┆ true         │\n",
       "│ 3723940 ┆ true         │\n",
       "└─────────┴──────────────┘"
      ]
     },
     "execution_count": 3,
     "metadata": {},
     "output_type": "execute_result"
    }
   ],
   "source": [
    "pl.read_parquet(node_file).head()"
   ]
  },
  {
   "cell_type": "code",
   "execution_count": 4,
   "id": "7224c96a-2f03-4440-a699-75758d08be62",
   "metadata": {},
   "outputs": [
    {
     "data": {
      "text/html": [
       "<div><style>\n",
       ".dataframe > thead > tr,\n",
       ".dataframe > tbody > tr {\n",
       "  text-align: right;\n",
       "  white-space: pre-wrap;\n",
       "}\n",
       "</style>\n",
       "<small>shape: (5, 5)</small><table border=\"1\" class=\"dataframe\"><thead><tr><th>target_pid</th><th>source_pid</th><th>duration</th><th>is_school_edge</th><th>is_non_home_edge</th></tr><tr><td>i64</td><td>i64</td><td>i64</td><td>bool</td><td>bool</td></tr></thead><tbody><tr><td>3723936</td><td>3723937</td><td>14400</td><td>false</td><td>true</td></tr><tr><td>3723936</td><td>3723937</td><td>20519</td><td>false</td><td>true</td></tr><tr><td>3723936</td><td>3723937</td><td>41520</td><td>false</td><td>true</td></tr><tr><td>3723936</td><td>3731305</td><td>1020</td><td>false</td><td>true</td></tr><tr><td>3723936</td><td>3742032</td><td>1320</td><td>false</td><td>true</td></tr></tbody></table></div>"
      ],
      "text/plain": [
       "shape: (5, 5)\n",
       "┌────────────┬────────────┬──────────┬────────────────┬──────────────────┐\n",
       "│ target_pid ┆ source_pid ┆ duration ┆ is_school_edge ┆ is_non_home_edge │\n",
       "│ ---        ┆ ---        ┆ ---      ┆ ---            ┆ ---              │\n",
       "│ i64        ┆ i64        ┆ i64      ┆ bool           ┆ bool             │\n",
       "╞════════════╪════════════╪══════════╪════════════════╪══════════════════╡\n",
       "│ 3723936    ┆ 3723937    ┆ 14400    ┆ false          ┆ true             │\n",
       "│ 3723936    ┆ 3723937    ┆ 20519    ┆ false          ┆ true             │\n",
       "│ 3723936    ┆ 3723937    ┆ 41520    ┆ false          ┆ true             │\n",
       "│ 3723936    ┆ 3731305    ┆ 1020     ┆ false          ┆ true             │\n",
       "│ 3723936    ┆ 3742032    ┆ 1320     ┆ false          ┆ true             │\n",
       "└────────────┴────────────┴──────────┴────────────────┴──────────────────┘"
      ]
     },
     "execution_count": 4,
     "metadata": {},
     "output_type": "execute_result"
    }
   ],
   "source": [
    "pl.read_parquet(edge_file).head()"
   ]
  },
  {
   "cell_type": "markdown",
   "id": "3a58bcf7-d38f-457b-b884-09a82931b575",
   "metadata": {},
   "source": [
    "We shall create a working directory for EpiSim37.\n",
    "\n",
    "EpiSim37 shall use that folder to store the generated C++ codes and the compiled simulator.\n",
    "\n",
    "We shall also store the input.h5 and output.h5 files in that work directory."
   ]
  },
  {
   "cell_type": "code",
   "execution_count": 5,
   "id": "f0e0a3b1-83c8-4b2d-ac9f-4aeec59809d7",
   "metadata": {},
   "outputs": [],
   "source": [
    "work_dir = Path(Path.home() / \"episim37-work-dir\")\n",
    "\n",
    "input_file = work_dir / \"input.h5\""
   ]
  },
  {
   "cell_type": "raw",
   "id": "e41a73dc-1447-409b-8238-b2e6a636968d",
   "metadata": {},
   "source": [
    "Next we shall instantiate a OpenMP based multi-threaded simulator."
   ]
  },
  {
   "cell_type": "code",
   "execution_count": 6,
   "id": "8d390dca-c63e-46ac-a9aa-5ffc3ad2ee30",
   "metadata": {},
   "outputs": [],
   "source": [
    "simulator = OpenMPSimulator(sim_file, work_dir)"
   ]
  },
  {
   "cell_type": "markdown",
   "id": "09a3de09-bbbd-4bf0-9329-540c00fb6336",
   "metadata": {},
   "source": [
    "Next we shall call the prepare_build() method.\n",
    "This uses CMake to find or fetch the C++ libraries needed for building the simulator.\n",
    "It is not necessary to re-execute this method every time the simulation file is changed."
   ]
  },
  {
   "cell_type": "code",
   "execution_count": 7,
   "id": "70d64ad3-ace3-48b8-93e9-6388f50b7cfa",
   "metadata": {},
   "outputs": [
    {
     "name": "stdout",
     "output_type": "stream",
     "text": [
      "-- Version: 10.1.0\n",
      "-- Build type: \n",
      "-- Configuring done (2.1s)\n",
      "-- Generating done (0.0s)\n",
      "-- Build files have been written to: /home/parantapa/episim37-work-dir/build\n"
     ]
    }
   ],
   "source": [
    "simulator.prepare_build()"
   ]
  },
  {
   "cell_type": "markdown",
   "id": "ebaa78a6-c473-4163-9cdf-5b4c549aee32",
   "metadata": {},
   "source": [
    "The build method actually builds the simulator.\n",
    "It first compules the ESL37 code to C++ and then uses a C++ compiler to build the simulator binary.\n",
    "It is necessary to rerun this method every time the simulation file is updated."
   ]
  },
  {
   "cell_type": "code",
   "execution_count": 8,
   "id": "8bb4fb89-fe43-4711-b385-a2c8038fbb72",
   "metadata": {},
   "outputs": [
    {
     "name": "stdout",
     "output_type": "stream",
     "text": [
      "[ 50%] Built target fmt\n",
      "[ 66%] \u001b[34m\u001b[1mGenerating simulator_openmp.cpp, simulator_openmp_common.h\u001b[0m\n",
      "[ 83%] \u001b[32mBuilding CXX object CMakeFiles/simulator_openmp.dir/simulator_openmp.cpp.o\u001b[0m\n",
      "[100%] \u001b[32m\u001b[1mLinking CXX executable simulator_openmp\u001b[0m\n",
      "[100%] Built target simulator_openmp\n"
     ]
    }
   ],
   "source": [
    "simulator.build()"
   ]
  },
  {
   "cell_type": "markdown",
   "id": "feae47a4-a581-4d0b-92b1-028b900dccc7",
   "metadata": {},
   "source": [
    "Now that the simulator binary has been built, we can add the network to create a full simulation."
   ]
  },
  {
   "cell_type": "markdown",
   "id": "c72a0a2f-44c4-4835-9da8-33270fe748ff",
   "metadata": {},
   "source": [
    "The prepare input step creates the input_file from the network files (node and edge file).\n",
    "This also provides other relevant metadata to the simulator."
   ]
  },
  {
   "cell_type": "code",
   "execution_count": 9,
   "id": "883e99cf-08a2-445a-8a4a-57a26a603809",
   "metadata": {},
   "outputs": [
    {
     "data": {
      "text/html": [
       "<pre style=\"white-space:pre;overflow-x:auto;line-height:normal;font-family:Menlo,'DejaVu Sans Mono',consolas,'Courier New',monospace\"><span style=\"color: #008080; text-decoration-color: #008080\">Reading node table.</span>\n",
       "</pre>\n"
      ],
      "text/plain": [
       "\u001b[36mReading node table.\u001b[0m\n"
      ]
     },
     "metadata": {},
     "output_type": "display_data"
    },
    {
     "data": {
      "text/html": [
       "<pre style=\"white-space:pre;overflow-x:auto;line-height:normal;font-family:Menlo,'DejaVu Sans Mono',consolas,'Courier New',monospace\"><span style=\"color: #008080; text-decoration-color: #008080\">Sorting node table.</span>\n",
       "</pre>\n"
      ],
      "text/plain": [
       "\u001b[36mSorting node table.\u001b[0m\n"
      ]
     },
     "metadata": {},
     "output_type": "display_data"
    },
    {
     "data": {
      "text/html": [
       "<pre style=\"white-space:pre;overflow-x:auto;line-height:normal;font-family:Menlo,'DejaVu Sans Mono',consolas,'Courier New',monospace\"><span style=\"color: #008080; text-decoration-color: #008080\">Making node index.</span>\n",
       "</pre>\n"
      ],
      "text/plain": [
       "\u001b[36mMaking node index.\u001b[0m\n"
      ]
     },
     "metadata": {},
     "output_type": "display_data"
    },
    {
     "name": "stdout",
     "output_type": "stream",
     "text": [
      "### num_nodes:  83313\n"
     ]
    },
    {
     "data": {
      "text/html": [
       "<pre style=\"white-space:pre;overflow-x:auto;line-height:normal;font-family:Menlo,'DejaVu Sans Mono',consolas,'Courier New',monospace\"><span style=\"color: #008080; text-decoration-color: #008080\">Reading edge table.</span>\n",
       "</pre>\n"
      ],
      "text/plain": [
       "\u001b[36mReading edge table.\u001b[0m\n"
      ]
     },
     "metadata": {},
     "output_type": "display_data"
    },
    {
     "data": {
      "text/html": [
       "<pre style=\"white-space:pre;overflow-x:auto;line-height:normal;font-family:Menlo,'DejaVu Sans Mono',consolas,'Courier New',monospace\"><span style=\"color: #008080; text-decoration-color: #008080\">Sorting edge table.</span>\n",
       "</pre>\n"
      ],
      "text/plain": [
       "\u001b[36mSorting edge table.\u001b[0m\n"
      ]
     },
     "metadata": {},
     "output_type": "display_data"
    },
    {
     "data": {
      "text/html": [
       "<pre style=\"white-space:pre;overflow-x:auto;line-height:normal;font-family:Menlo,'DejaVu Sans Mono',consolas,'Courier New',monospace\"><span style=\"color: #008080; text-decoration-color: #008080\">Computing incoming incidence CSR graph's indptr.</span>\n",
       "</pre>\n"
      ],
      "text/plain": [
       "\u001b[36mComputing incoming incidence CSR graph's indptr.\u001b[0m\n"
      ]
     },
     "metadata": {},
     "output_type": "display_data"
    },
    {
     "name": "stdout",
     "output_type": "stream",
     "text": [
      "### num_edges:  3269342\n"
     ]
    },
    {
     "data": {
      "text/html": [
       "<pre style=\"white-space:pre;overflow-x:auto;line-height:normal;font-family:Menlo,'DejaVu Sans Mono',consolas,'Courier New',monospace\"><span style=\"color: #008080; text-decoration-color: #008080\">Creating input file.</span>\n",
       "</pre>\n"
      ],
      "text/plain": [
       "\u001b[36mCreating input file.\u001b[0m\n"
      ]
     },
     "metadata": {},
     "output_type": "display_data"
    },
    {
     "data": {
      "text/html": [
       "<pre style=\"white-space:pre;overflow-x:auto;line-height:normal;font-family:Menlo,'DejaVu Sans Mono',consolas,'Courier New',monospace\"><span style=\"color: #008000; text-decoration-color: #008000\">Input file created successfully.</span>\n",
       "</pre>\n"
      ],
      "text/plain": [
       "\u001b[32mInput file created successfully.\u001b[0m\n"
      ]
     },
     "metadata": {},
     "output_type": "display_data"
    }
   ],
   "source": [
    "simulator.prepare_input(node_file, edge_file, input_file)"
   ]
  },
  {
   "cell_type": "markdown",
   "id": "43dab982-0de1-4611-92ed-54f8906cb32a",
   "metadata": {},
   "source": [
    "We can view the node and edge tables in the input file using extract_nodes() and extract_edges() helper methods."
   ]
  },
  {
   "cell_type": "code",
   "execution_count": 10,
   "id": "faa5d15a-5ebe-4cae-bd22-cff6d62bd8bf",
   "metadata": {},
   "outputs": [
    {
     "data": {
      "text/html": [
       "<div><style>\n",
       ".dataframe > thead > tr,\n",
       ".dataframe > tbody > tr {\n",
       "  text-align: right;\n",
       "  white-space: pre-wrap;\n",
       "}\n",
       "</style>\n",
       "<small>shape: (5, 2)</small><table border=\"1\" class=\"dataframe\"><thead><tr><th>pid</th><th>is_in_school</th></tr><tr><td>i64</td><td>u8</td></tr></thead><tbody><tr><td>3723936</td><td>1</td></tr><tr><td>3723937</td><td>1</td></tr><tr><td>3723938</td><td>0</td></tr><tr><td>3723939</td><td>1</td></tr><tr><td>3723940</td><td>1</td></tr></tbody></table></div>"
      ],
      "text/plain": [
       "shape: (5, 2)\n",
       "┌─────────┬──────────────┐\n",
       "│ pid     ┆ is_in_school │\n",
       "│ ---     ┆ ---          │\n",
       "│ i64     ┆ u8           │\n",
       "╞═════════╪══════════════╡\n",
       "│ 3723936 ┆ 1            │\n",
       "│ 3723937 ┆ 1            │\n",
       "│ 3723938 ┆ 0            │\n",
       "│ 3723939 ┆ 1            │\n",
       "│ 3723940 ┆ 1            │\n",
       "└─────────┴──────────────┘"
      ]
     },
     "execution_count": 10,
     "metadata": {},
     "output_type": "execute_result"
    }
   ],
   "source": [
    "simulator.extract_nodes(input_file).head()"
   ]
  },
  {
   "cell_type": "code",
   "execution_count": 11,
   "id": "a8f40d6c-4090-4c04-b0e7-5fcedfeb7f0b",
   "metadata": {},
   "outputs": [
    {
     "data": {
      "text/html": [
       "<div><style>\n",
       ".dataframe > thead > tr,\n",
       ".dataframe > tbody > tr {\n",
       "  text-align: right;\n",
       "  white-space: pre-wrap;\n",
       "}\n",
       "</style>\n",
       "<small>shape: (5, 7)</small><table border=\"1\" class=\"dataframe\"><thead><tr><th>target_pid</th><th>source_pid</th><th>duration</th><th>is_school_edge</th><th>is_non_home_edge</th><th>_target_node_index</th><th>_source_node_index</th></tr><tr><td>i64</td><td>i64</td><td>i64</td><td>u8</td><td>u8</td><td>u32</td><td>u32</td></tr></thead><tbody><tr><td>3723936</td><td>3723937</td><td>14400</td><td>0</td><td>1</td><td>0</td><td>1</td></tr><tr><td>3723936</td><td>3723937</td><td>20519</td><td>0</td><td>1</td><td>0</td><td>1</td></tr><tr><td>3723936</td><td>3723937</td><td>41520</td><td>0</td><td>1</td><td>0</td><td>1</td></tr><tr><td>3723936</td><td>3731305</td><td>1020</td><td>0</td><td>1</td><td>0</td><td>7369</td></tr><tr><td>3723936</td><td>3733825</td><td>5700</td><td>1</td><td>1</td><td>0</td><td>9889</td></tr></tbody></table></div>"
      ],
      "text/plain": [
       "shape: (5, 7)\n",
       "┌────────────┬────────────┬──────────┬───────────────┬───────────────┬──────────────┬──────────────┐\n",
       "│ target_pid ┆ source_pid ┆ duration ┆ is_school_edg ┆ is_non_home_e ┆ _target_node ┆ _source_node │\n",
       "│ ---        ┆ ---        ┆ ---      ┆ e             ┆ dge           ┆ _index       ┆ _index       │\n",
       "│ i64        ┆ i64        ┆ i64      ┆ ---           ┆ ---           ┆ ---          ┆ ---          │\n",
       "│            ┆            ┆          ┆ u8            ┆ u8            ┆ u32          ┆ u32          │\n",
       "╞════════════╪════════════╪══════════╪═══════════════╪═══════════════╪══════════════╪══════════════╡\n",
       "│ 3723936    ┆ 3723937    ┆ 14400    ┆ 0             ┆ 1             ┆ 0            ┆ 1            │\n",
       "│ 3723936    ┆ 3723937    ┆ 20519    ┆ 0             ┆ 1             ┆ 0            ┆ 1            │\n",
       "│ 3723936    ┆ 3723937    ┆ 41520    ┆ 0             ┆ 1             ┆ 0            ┆ 1            │\n",
       "│ 3723936    ┆ 3731305    ┆ 1020     ┆ 0             ┆ 1             ┆ 0            ┆ 7369         │\n",
       "│ 3723936    ┆ 3733825    ┆ 5700     ┆ 1             ┆ 1             ┆ 0            ┆ 9889         │\n",
       "└────────────┴────────────┴──────────┴───────────────┴───────────────┴──────────────┴──────────────┘"
      ]
     },
     "execution_count": 11,
     "metadata": {},
     "output_type": "execute_result"
    }
   ],
   "source": [
    "simulator.extract_edges(input_file).head()"
   ]
  },
  {
   "cell_type": "markdown",
   "id": "9ee5e13d-56a4-4f68-aab0-d732fe8a68a0",
   "metadata": {},
   "source": [
    "Finally to run a simulation, we provide the location of the output file and call simulate.\n",
    "Here we can also pass a dictionary of configuration variables that were defined in the simulation."
   ]
  },
  {
   "cell_type": "code",
   "execution_count": 12,
   "id": "cd786e1c-9903-4eb5-b5b2-dbf58c23e81d",
   "metadata": {
    "scrolled": true
   },
   "outputs": [
    {
     "name": "stdout",
     "output_type": "stream",
     "text": [
      "### num_threads = 12\n",
      "### enable_hybrid_learning = 1\n",
      "### enable_day_30_antigen_test = 1\n",
      "### enable_day_30_pcr_test = 0\n",
      "### transmissibility_scale = 0.3\n",
      "### num_ticks = 100\n",
      "### input_file = /home/parantapa/episim37-work-dir/input.h5\n",
      "### output_file = /home/parantapa/episim37-work-dir/output.h5\n",
      "### num_nodes = 83313\n",
      "### num_edges = 3269342\n",
      "### cur_tick = 0\n",
      "### cur_tick = 1\n",
      "### cur_tick = 2\n",
      "### cur_tick = 3\n",
      "### cur_tick = 4\n",
      "### cur_tick = 5\n",
      "### cur_tick = 6\n",
      "### cur_tick = 7\n",
      "### cur_tick = 8\n",
      "### cur_tick = 9\n",
      "### cur_tick = 10\n",
      "### cur_tick = 11\n",
      "### cur_tick = 12\n",
      "### cur_tick = 13\n",
      "### cur_tick = 14\n",
      "### cur_tick = 15\n",
      "### cur_tick = 16\n",
      "### cur_tick = 17\n",
      "### cur_tick = 18\n",
      "### cur_tick = 19\n",
      "### cur_tick = 20\n",
      "### cur_tick = 21\n",
      "### cur_tick = 22\n",
      "### cur_tick = 23\n",
      "### cur_tick = 24\n",
      "### cur_tick = 25\n",
      "### cur_tick = 26\n",
      "### cur_tick = 27\n",
      "### cur_tick = 28\n",
      "### cur_tick = 29\n",
      "### cur_tick = 30\n",
      "### cur_tick = 31\n",
      "### cur_tick = 32\n",
      "### cur_tick = 33\n",
      "### cur_tick = 34\n",
      "### cur_tick = 35\n",
      "### cur_tick = 36\n",
      "### cur_tick = 37\n",
      "### cur_tick = 38\n",
      "### cur_tick = 39\n",
      "### cur_tick = 40\n",
      "### cur_tick = 41\n",
      "### cur_tick = 42\n",
      "### cur_tick = 43\n",
      "### cur_tick = 44\n",
      "### cur_tick = 45\n",
      "### cur_tick = 46\n",
      "### cur_tick = 47\n",
      "### cur_tick = 48\n",
      "### cur_tick = 49\n",
      "### cur_tick = 50\n",
      "### cur_tick = 51\n",
      "### cur_tick = 52\n",
      "### cur_tick = 53\n",
      "### cur_tick = 54\n",
      "### cur_tick = 55\n",
      "### cur_tick = 56\n",
      "### cur_tick = 57\n",
      "### cur_tick = 58\n",
      "### cur_tick = 59\n",
      "### cur_tick = 60\n",
      "### cur_tick = 61\n",
      "### cur_tick = 62\n",
      "### cur_tick = 63\n",
      "### cur_tick = 64\n",
      "### cur_tick = 65\n",
      "### cur_tick = 66\n",
      "### cur_tick = 67\n",
      "### cur_tick = 68\n",
      "### cur_tick = 69\n",
      "### cur_tick = 70\n",
      "### cur_tick = 71\n",
      "### cur_tick = 72\n",
      "### cur_tick = 73\n",
      "### cur_tick = 74\n",
      "### cur_tick = 75\n",
      "### cur_tick = 76\n",
      "### cur_tick = 77\n",
      "### cur_tick = 78\n",
      "### cur_tick = 79\n",
      "### cur_tick = 80\n",
      "### cur_tick = 81\n",
      "### cur_tick = 82\n",
      "### cur_tick = 83\n",
      "### cur_tick = 84\n",
      "### cur_tick = 85\n",
      "### cur_tick = 86\n",
      "### cur_tick = 87\n",
      "### cur_tick = 88\n",
      "### cur_tick = 89\n",
      "### cur_tick = 90\n",
      "### cur_tick = 91\n",
      "### cur_tick = 92\n",
      "### cur_tick = 93\n",
      "### cur_tick = 94\n",
      "### cur_tick = 95\n",
      "### cur_tick = 96\n",
      "### cur_tick = 97\n",
      "### cur_tick = 98\n",
      "### cur_tick = 99\n",
      "### mem_use_gb = 0.0761555\n",
      "### init_time_s = 0.0234785\n",
      "### main_time_s = 0.599491\n"
     ]
    }
   ],
   "source": [
    "output_file = work_dir / \"output.h5\"\n",
    "\n",
    "simulator.simulate(input_file, output_file, num_ticks=100, configs={\"enable_hybrid_learning\": True}, verbose=True)"
   ]
  },
  {
   "cell_type": "markdown",
   "id": "3d17157c-2b4a-4dcc-9edf-43c35d8004b5",
   "metadata": {},
   "source": [
    "Once the simulation is complete we can extract summary, transitions, transmissions and interventions from the output file."
   ]
  },
  {
   "cell_type": "code",
   "execution_count": 13,
   "id": "06364a63-064d-472f-8865-3ff67dfe32a1",
   "metadata": {},
   "outputs": [
    {
     "data": {
      "text/html": [
       "<div><style>\n",
       ".dataframe > thead > tr,\n",
       ".dataframe > tbody > tr {\n",
       "  text-align: right;\n",
       "  white-space: pre-wrap;\n",
       "}\n",
       "</style>\n",
       "<small>shape: (5, 7)</small><table border=\"1\" class=\"dataframe\"><thead><tr><th>S</th><th>E</th><th>Ipresymp</th><th>Isymp</th><th>Iasymp</th><th>R</th><th>tick</th></tr><tr><td>u64</td><td>u64</td><td>u64</td><td>u64</td><td>u64</td><td>u64</td><td>i64</td></tr></thead><tbody><tr><td>83308</td><td>5</td><td>0</td><td>0</td><td>0</td><td>0</td><td>0</td></tr><tr><td>83303</td><td>10</td><td>0</td><td>0</td><td>0</td><td>0</td><td>1</td></tr><tr><td>83298</td><td>14</td><td>1</td><td>0</td><td>0</td><td>0</td><td>2</td></tr><tr><td>83293</td><td>17</td><td>3</td><td>0</td><td>0</td><td>0</td><td>3</td></tr><tr><td>83287</td><td>19</td><td>4</td><td>1</td><td>2</td><td>0</td><td>4</td></tr></tbody></table></div>"
      ],
      "text/plain": [
       "shape: (5, 7)\n",
       "┌───────┬─────┬──────────┬───────┬────────┬─────┬──────┐\n",
       "│ S     ┆ E   ┆ Ipresymp ┆ Isymp ┆ Iasymp ┆ R   ┆ tick │\n",
       "│ ---   ┆ --- ┆ ---      ┆ ---   ┆ ---    ┆ --- ┆ ---  │\n",
       "│ u64   ┆ u64 ┆ u64      ┆ u64   ┆ u64    ┆ u64 ┆ i64  │\n",
       "╞═══════╪═════╪══════════╪═══════╪════════╪═════╪══════╡\n",
       "│ 83308 ┆ 5   ┆ 0        ┆ 0     ┆ 0      ┆ 0   ┆ 0    │\n",
       "│ 83303 ┆ 10  ┆ 0        ┆ 0     ┆ 0      ┆ 0   ┆ 1    │\n",
       "│ 83298 ┆ 14  ┆ 1        ┆ 0     ┆ 0      ┆ 0   ┆ 2    │\n",
       "│ 83293 ┆ 17  ┆ 3        ┆ 0     ┆ 0      ┆ 0   ┆ 3    │\n",
       "│ 83287 ┆ 19  ┆ 4        ┆ 1     ┆ 2      ┆ 0   ┆ 4    │\n",
       "└───────┴─────┴──────────┴───────┴────────┴─────┴──────┘"
      ]
     },
     "execution_count": 13,
     "metadata": {},
     "output_type": "execute_result"
    }
   ],
   "source": [
    "summary = simulator.extract_summary(output_file)\n",
    "summary.head()"
   ]
  },
  {
   "cell_type": "code",
   "execution_count": 14,
   "id": "433f3045-b199-4ea8-929a-530f32cd95d9",
   "metadata": {},
   "outputs": [
    {
     "data": {
      "text/html": [
       "<div><style>\n",
       ".dataframe > thead > tr,\n",
       ".dataframe > tbody > tr {\n",
       "  text-align: right;\n",
       "  white-space: pre-wrap;\n",
       "}\n",
       "</style>\n",
       "<small>shape: (5, 3)</small><table border=\"1\" class=\"dataframe\"><thead><tr><th>node_index</th><th>state</th><th>tick</th></tr><tr><td>u32</td><td>str</td><td>i32</td></tr></thead><tbody><tr><td>83218</td><td>&quot;Ipresymp&quot;</td><td>2</td></tr><tr><td>81942</td><td>&quot;Ipresymp&quot;</td><td>3</td></tr><tr><td>82313</td><td>&quot;Ipresymp&quot;</td><td>3</td></tr><tr><td>38721</td><td>&quot;E&quot;</td><td>4</td></tr><tr><td>77246</td><td>&quot;Ipresymp&quot;</td><td>4</td></tr></tbody></table></div>"
      ],
      "text/plain": [
       "shape: (5, 3)\n",
       "┌────────────┬──────────┬──────┐\n",
       "│ node_index ┆ state    ┆ tick │\n",
       "│ ---        ┆ ---      ┆ ---  │\n",
       "│ u32        ┆ str      ┆ i32  │\n",
       "╞════════════╪══════════╪══════╡\n",
       "│ 83218      ┆ Ipresymp ┆ 2    │\n",
       "│ 81942      ┆ Ipresymp ┆ 3    │\n",
       "│ 82313      ┆ Ipresymp ┆ 3    │\n",
       "│ 38721      ┆ E        ┆ 4    │\n",
       "│ 77246      ┆ Ipresymp ┆ 4    │\n",
       "└────────────┴──────────┴──────┘"
      ]
     },
     "execution_count": 14,
     "metadata": {},
     "output_type": "execute_result"
    }
   ],
   "source": [
    "transitions = simulator.extract_transitions(output_file)\n",
    "transitions.head()"
   ]
  },
  {
   "cell_type": "code",
   "execution_count": 15,
   "id": "fba483a8-bc3d-482c-83d7-07274aa5b4f8",
   "metadata": {},
   "outputs": [
    {
     "data": {
      "text/html": [
       "<div><style>\n",
       ".dataframe > thead > tr,\n",
       ".dataframe > tbody > tr {\n",
       "  text-align: right;\n",
       "  white-space: pre-wrap;\n",
       "}\n",
       "</style>\n",
       "<small>shape: (5, 3)</small><table border=\"1\" class=\"dataframe\"><thead><tr><th>edge_index</th><th>state</th><th>tick</th></tr><tr><td>u64</td><td>str</td><td>i32</td></tr></thead><tbody><tr><td>1557680</td><td>&quot;E&quot;</td><td>4</td></tr><tr><td>403452</td><td>&quot;E&quot;</td><td>5</td></tr><tr><td>1649879</td><td>&quot;E&quot;</td><td>5</td></tr><tr><td>1819790</td><td>&quot;E&quot;</td><td>5</td></tr><tr><td>2209912</td><td>&quot;E&quot;</td><td>5</td></tr></tbody></table></div>"
      ],
      "text/plain": [
       "shape: (5, 3)\n",
       "┌────────────┬───────┬──────┐\n",
       "│ edge_index ┆ state ┆ tick │\n",
       "│ ---        ┆ ---   ┆ ---  │\n",
       "│ u64        ┆ str   ┆ i32  │\n",
       "╞════════════╪═══════╪══════╡\n",
       "│ 1557680    ┆ E     ┆ 4    │\n",
       "│ 403452     ┆ E     ┆ 5    │\n",
       "│ 1649879    ┆ E     ┆ 5    │\n",
       "│ 1819790    ┆ E     ┆ 5    │\n",
       "│ 2209912    ┆ E     ┆ 5    │\n",
       "└────────────┴───────┴──────┘"
      ]
     },
     "execution_count": 15,
     "metadata": {},
     "output_type": "execute_result"
    }
   ],
   "source": [
    "transmissions = simulator.extract_transmissions(output_file)\n",
    "transmissions.head()"
   ]
  },
  {
   "cell_type": "code",
   "execution_count": 16,
   "id": "099e408a-4eed-4b54-a168-62dc21a370fb",
   "metadata": {},
   "outputs": [
    {
     "data": {
      "text/html": [
       "<div><style>\n",
       ".dataframe > thead > tr,\n",
       ".dataframe > tbody > tr {\n",
       "  text-align: right;\n",
       "  white-space: pre-wrap;\n",
       "}\n",
       "</style>\n",
       "<small>shape: (5, 3)</small><table border=\"1\" class=\"dataframe\"><thead><tr><th>node_index</th><th>state</th><th>tick</th></tr><tr><td>u32</td><td>str</td><td>i32</td></tr></thead><tbody><tr><td>77391</td><td>&quot;E&quot;</td><td>0</td></tr><tr><td>77843</td><td>&quot;E&quot;</td><td>0</td></tr><tr><td>78126</td><td>&quot;E&quot;</td><td>0</td></tr><tr><td>78300</td><td>&quot;E&quot;</td><td>0</td></tr><tr><td>83218</td><td>&quot;E&quot;</td><td>0</td></tr></tbody></table></div>"
      ],
      "text/plain": [
       "shape: (5, 3)\n",
       "┌────────────┬───────┬──────┐\n",
       "│ node_index ┆ state ┆ tick │\n",
       "│ ---        ┆ ---   ┆ ---  │\n",
       "│ u32        ┆ str   ┆ i32  │\n",
       "╞════════════╪═══════╪══════╡\n",
       "│ 77391      ┆ E     ┆ 0    │\n",
       "│ 77843      ┆ E     ┆ 0    │\n",
       "│ 78126      ┆ E     ┆ 0    │\n",
       "│ 78300      ┆ E     ┆ 0    │\n",
       "│ 83218      ┆ E     ┆ 0    │\n",
       "└────────────┴───────┴──────┘"
      ]
     },
     "execution_count": 16,
     "metadata": {},
     "output_type": "execute_result"
    }
   ],
   "source": [
    "interventions = simulator.extract_interventions(output_file)\n",
    "interventions.head()"
   ]
  },
  {
   "cell_type": "markdown",
   "id": "d65cc15a-986f-4b29-824e-b556a0665108",
   "metadata": {},
   "source": [
    "Runtime statistics are also saved in the output file"
   ]
  },
  {
   "cell_type": "code",
   "execution_count": 17,
   "id": "84f95242-a5b8-46dc-bbff-4e32cc3d1355",
   "metadata": {},
   "outputs": [
    {
     "data": {
      "text/plain": [
       "{'mem_use_gb': 0.076155456,\n",
       " 'init_time_s': 0.023478490998968482,\n",
       " 'main_time_s': 0.5994913590038777}"
      ]
     },
     "execution_count": 17,
     "metadata": {},
     "output_type": "execute_result"
    }
   ],
   "source": [
    "simulator.runtime_stats(output_file)"
   ]
  },
  {
   "cell_type": "markdown",
   "id": "1fea1e17-285e-41c0-8a02-ef3cb64ab07a",
   "metadata": {},
   "source": [
    "Configuration variables are also saved in output file"
   ]
  },
  {
   "cell_type": "code",
   "execution_count": 18,
   "id": "3fb4b2fc-4a76-46c4-af44-5ab5045c473f",
   "metadata": {},
   "outputs": [
    {
     "data": {
      "text/plain": [
       "{'enable_hybrid_learning': 1,\n",
       " 'enable_day_30_antigen_test': 1,\n",
       " 'enable_day_30_pcr_test': 0,\n",
       " 'transmissibility_scale': 0.30000001192092896}"
      ]
     },
     "execution_count": 18,
     "metadata": {},
     "output_type": "execute_result"
    }
   ],
   "source": [
    "simulator.extract_configs(output_file)"
   ]
  },
  {
   "cell_type": "markdown",
   "id": "aec76b95-9c83-4c25-87b0-c90a7df3829d",
   "metadata": {},
   "source": [
    "Compute attack rate as follows:"
   ]
  },
  {
   "cell_type": "code",
   "execution_count": 19,
   "id": "96bc4e32-319a-45de-88a6-51f91b54c4ee",
   "metadata": {
    "scrolled": true
   },
   "outputs": [
    {
     "data": {
      "text/plain": [
       "0.8120581421866936"
      ]
     },
     "execution_count": 19,
     "metadata": {},
     "output_type": "execute_result"
    }
   ],
   "source": [
    "num_nodes = simulator.num_nodes(input_file)\n",
    "attack_rate = simulator.compute_cum_count(transitions, [\"E\"]) / num_nodes\n",
    "attack_rate"
   ]
  },
  {
   "cell_type": "code",
   "execution_count": 20,
   "id": "34b341d2-175e-46be-894d-c476a917443c",
   "metadata": {
    "scrolled": true
   },
   "outputs": [
    {
     "data": {
      "application/vnd.plotly.v1+json": {
       "config": {
        "plotlyServerURL": "https://plot.ly"
       },
       "data": [
        {
         "hovertemplate": "state=S<br>tick=%{x}<br>count=%{y}<extra></extra>",
         "legendgroup": "S",
         "line": {
          "color": "#636efa",
          "dash": "solid"
         },
         "marker": {
          "symbol": "circle"
         },
         "mode": "lines",
         "name": "S",
         "orientation": "h",
         "showlegend": true,
         "type": "scatter",
         "x": [
          0,
          1,
          2,
          3,
          4,
          5,
          6,
          7,
          8,
          9,
          10,
          11,
          12,
          13,
          14,
          15,
          16,
          17,
          18,
          19,
          20,
          21,
          22,
          23,
          24,
          25,
          26,
          27,
          28,
          29,
          30,
          31,
          32,
          33,
          34,
          35,
          36,
          37,
          38,
          39,
          40,
          41,
          42,
          43,
          44,
          45,
          46,
          47,
          48,
          49,
          50,
          51,
          52,
          53,
          54,
          55,
          56,
          57,
          58,
          59,
          60,
          61,
          62,
          63,
          64,
          65,
          66,
          67,
          68,
          69,
          70,
          71,
          72,
          73,
          74,
          75,
          76,
          77,
          78,
          79,
          80,
          81,
          82,
          83,
          84,
          85,
          86,
          87,
          88,
          89,
          90,
          91,
          92,
          93,
          94,
          95,
          96,
          97,
          98,
          99
         ],
         "xaxis": "x",
         "y": [
          83308,
          83303,
          83298,
          83293,
          83287,
          83275,
          83259,
          83247,
          83232,
          83200,
          83163,
          83112,
          83071,
          83019,
          82940,
          82823,
          82675,
          82445,
          82107,
          81640,
          81137,
          80453,
          79389,
          78000,
          76358,
          74406,
          72273,
          70364,
          68389,
          65735,
          62790,
          59783,
          56715,
          53436,
          51022,
          48604,
          44864,
          41453,
          38278,
          35439,
          32799,
          31372,
          30076,
          27890,
          25944,
          24313,
          22935,
          21730,
          21102,
          20560,
          19787,
          19119,
          18559,
          18102,
          17664,
          17402,
          17219,
          16947,
          16709,
          16511,
          16364,
          16249,
          16165,
          16096,
          16028,
          15956,
          15905,
          15851,
          15810,
          15790,
          15766,
          15748,
          15725,
          15704,
          15690,
          15672,
          15666,
          15659,
          15651,
          15646,
          15639,
          15633,
          15627,
          15625,
          15621,
          15619,
          15617,
          15616,
          15613,
          15612,
          15610,
          15610,
          15610,
          15609,
          15609,
          15608,
          15608,
          15608,
          15608,
          15608
         ],
         "yaxis": "y"
        },
        {
         "hovertemplate": "state=E<br>tick=%{x}<br>count=%{y}<extra></extra>",
         "legendgroup": "E",
         "line": {
          "color": "#EF553B",
          "dash": "solid"
         },
         "marker": {
          "symbol": "circle"
         },
         "mode": "lines",
         "name": "E",
         "orientation": "h",
         "showlegend": true,
         "type": "scatter",
         "x": [
          0,
          1,
          2,
          3,
          4,
          5,
          6,
          7,
          8,
          9,
          10,
          11,
          12,
          13,
          14,
          15,
          16,
          17,
          18,
          19,
          20,
          21,
          22,
          23,
          24,
          25,
          26,
          27,
          28,
          29,
          30,
          31,
          32,
          33,
          34,
          35,
          36,
          37,
          38,
          39,
          40,
          41,
          42,
          43,
          44,
          45,
          46,
          47,
          48,
          49,
          50,
          51,
          52,
          53,
          54,
          55,
          56,
          57,
          58,
          59,
          60,
          61,
          62,
          63,
          64,
          65,
          66,
          67,
          68,
          69,
          70,
          71,
          72,
          73,
          74,
          75,
          76,
          77,
          78,
          79,
          80,
          81,
          82,
          83,
          84,
          85,
          86,
          87,
          88,
          89,
          90,
          91,
          92,
          93,
          94,
          95,
          96,
          97,
          98,
          99
         ],
         "xaxis": "x",
         "y": [
          5,
          10,
          14,
          17,
          19,
          24,
          36,
          42,
          46,
          65,
          91,
          131,
          155,
          185,
          226,
          313,
          409,
          582,
          831,
          1208,
          1546,
          1962,
          2668,
          3650,
          4757,
          5922,
          7043,
          7704,
          8093,
          8931,
          9990,
          11005,
          11770,
          12603,
          12415,
          11961,
          12504,
          13144,
          13580,
          13154,
          12713,
          10943,
          9141,
          8451,
          8199,
          7880,
          7141,
          6610,
          5526,
          4461,
          3729,
          3303,
          2999,
          2589,
          2331,
          1959,
          1577,
          1319,
          1196,
          1058,
          882,
          764,
          617,
          488,
          387,
          353,
          291,
          276,
          236,
          200,
          156,
          132,
          112,
          100,
          87,
          83,
          64,
          56,
          41,
          35,
          32,
          29,
          27,
          22,
          15,
          12,
          11,
          9,
          10,
          8,
          8,
          5,
          5,
          3,
          2,
          2,
          1,
          1,
          1,
          1
         ],
         "yaxis": "y"
        },
        {
         "hovertemplate": "state=Ipresymp<br>tick=%{x}<br>count=%{y}<extra></extra>",
         "legendgroup": "Ipresymp",
         "line": {
          "color": "#00cc96",
          "dash": "solid"
         },
         "marker": {
          "symbol": "circle"
         },
         "mode": "lines",
         "name": "Ipresymp",
         "orientation": "h",
         "showlegend": true,
         "type": "scatter",
         "x": [
          0,
          1,
          2,
          3,
          4,
          5,
          6,
          7,
          8,
          9,
          10,
          11,
          12,
          13,
          14,
          15,
          16,
          17,
          18,
          19,
          20,
          21,
          22,
          23,
          24,
          25,
          26,
          27,
          28,
          29,
          30,
          31,
          32,
          33,
          34,
          35,
          36,
          37,
          38,
          39,
          40,
          41,
          42,
          43,
          44,
          45,
          46,
          47,
          48,
          49,
          50,
          51,
          52,
          53,
          54,
          55,
          56,
          57,
          58,
          59,
          60,
          61,
          62,
          63,
          64,
          65,
          66,
          67,
          68,
          69,
          70,
          71,
          72,
          73,
          74,
          75,
          76,
          77,
          78,
          79,
          80,
          81,
          82,
          83,
          84,
          85,
          86,
          87,
          88,
          89,
          90,
          91,
          92,
          93,
          94,
          95,
          96,
          97,
          98,
          99
         ],
         "xaxis": "x",
         "y": [
          0,
          0,
          1,
          3,
          4,
          4,
          5,
          6,
          9,
          17,
          18,
          12,
          16,
          25,
          38,
          43,
          43,
          60,
          95,
          117,
          176,
          294,
          416,
          495,
          595,
          897,
          1249,
          1517,
          1771,
          1990,
          1997,
          1980,
          2372,
          2760,
          2879,
          3010,
          3208,
          2878,
          2445,
          3101,
          3566,
          3339,
          3063,
          2746,
          2025,
          1343,
          1709,
          2012,
          1750,
          1481,
          1290,
          914,
          567,
          638,
          713,
          624,
          510,
          437,
          336,
          217,
          234,
          251,
          215,
          187,
          148,
          107,
          76,
          63,
          68,
          61,
          52,
          51,
          31,
          21,
          17,
          18,
          22,
          18,
          19,
          12,
          4,
          7,
          6,
          7,
          11,
          9,
          3,
          3,
          4,
          2,
          1,
          1,
          1,
          2,
          2,
          0,
          1,
          1,
          0,
          0
         ],
         "yaxis": "y"
        },
        {
         "hovertemplate": "state=Isymp<br>tick=%{x}<br>count=%{y}<extra></extra>",
         "legendgroup": "Isymp",
         "line": {
          "color": "#ab63fa",
          "dash": "solid"
         },
         "marker": {
          "symbol": "circle"
         },
         "mode": "lines",
         "name": "Isymp",
         "orientation": "h",
         "showlegend": true,
         "type": "scatter",
         "x": [
          0,
          1,
          2,
          3,
          4,
          5,
          6,
          7,
          8,
          9,
          10,
          11,
          12,
          13,
          14,
          15,
          16,
          17,
          18,
          19,
          20,
          21,
          22,
          23,
          24,
          25,
          26,
          27,
          28,
          29,
          30,
          31,
          32,
          33,
          34,
          35,
          36,
          37,
          38,
          39,
          40,
          41,
          42,
          43,
          44,
          45,
          46,
          47,
          48,
          49,
          50,
          51,
          52,
          53,
          54,
          55,
          56,
          57,
          58,
          59,
          60,
          61,
          62,
          63,
          64,
          65,
          66,
          67,
          68,
          69,
          70,
          71,
          72,
          73,
          74,
          75,
          76,
          77,
          78,
          79,
          80,
          81,
          82,
          83,
          84,
          85,
          86,
          87,
          88,
          89,
          90,
          91,
          92,
          93,
          94,
          95,
          96,
          97,
          98,
          99
         ],
         "xaxis": "x",
         "y": [
          0,
          0,
          0,
          0,
          1,
          3,
          3,
          5,
          8,
          10,
          16,
          22,
          27,
          27,
          30,
          39,
          57,
          65,
          71,
          94,
          136,
          166,
          247,
          369,
          542,
          699,
          912,
          1306,
          1736,
          2246,
          2778,
          3263,
          3586,
          3851,
          4402,
          4889,
          5334,
          5733,
          6179,
          6095,
          5937,
          6504,
          6774,
          6905,
          6779,
          6576,
          5777,
          5115,
          4937,
          4626,
          4295,
          3909,
          3593,
          3037,
          2538,
          2203,
          1950,
          1717,
          1478,
          1281,
          1066,
          906,
          809,
          681,
          592,
          509,
          442,
          384,
          311,
          263,
          240,
          202,
          177,
          152,
          118,
          96,
          79,
          73,
          63,
          54,
          52,
          42,
          32,
          27,
          20,
          21,
          22,
          19,
          14,
          12,
          12,
          10,
          8,
          6,
          4,
          5,
          4,
          2,
          3,
          3
         ],
         "yaxis": "y"
        },
        {
         "hovertemplate": "state=Iasymp<br>tick=%{x}<br>count=%{y}<extra></extra>",
         "legendgroup": "Iasymp",
         "line": {
          "color": "#FFA15A",
          "dash": "solid"
         },
         "marker": {
          "symbol": "circle"
         },
         "mode": "lines",
         "name": "Iasymp",
         "orientation": "h",
         "showlegend": true,
         "type": "scatter",
         "x": [
          0,
          1,
          2,
          3,
          4,
          5,
          6,
          7,
          8,
          9,
          10,
          11,
          12,
          13,
          14,
          15,
          16,
          17,
          18,
          19,
          20,
          21,
          22,
          23,
          24,
          25,
          26,
          27,
          28,
          29,
          30,
          31,
          32,
          33,
          34,
          35,
          36,
          37,
          38,
          39,
          40,
          41,
          42,
          43,
          44,
          45,
          46,
          47,
          48,
          49,
          50,
          51,
          52,
          53,
          54,
          55,
          56,
          57,
          58,
          59,
          60,
          61,
          62,
          63,
          64,
          65,
          66,
          67,
          68,
          69,
          70,
          71,
          72,
          73,
          74,
          75,
          76,
          77,
          78,
          79,
          80,
          81,
          82,
          83,
          84,
          85,
          86,
          87,
          88,
          89,
          90,
          91,
          92,
          93,
          94,
          95,
          96,
          97,
          98,
          99
         ],
         "xaxis": "x",
         "y": [
          0,
          0,
          0,
          0,
          2,
          7,
          8,
          11,
          15,
          16,
          17,
          20,
          24,
          27,
          39,
          45,
          67,
          85,
          109,
          129,
          164,
          236,
          325,
          452,
          618,
          798,
          1039,
          1364,
          1853,
          2451,
          3176,
          3834,
          4391,
          4870,
          5347,
          5866,
          6501,
          7107,
          7562,
          7876,
          7992,
          8117,
          8316,
          8369,
          8387,
          8228,
          7843,
          7035,
          6359,
          5806,
          5321,
          4939,
          4562,
          4122,
          3602,
          3083,
          2567,
          2196,
          1898,
          1718,
          1510,
          1289,
          1094,
          931,
          794,
          655,
          560,
          464,
          390,
          322,
          259,
          207,
          185,
          165,
          149,
          126,
          116,
          89,
          81,
          67,
          51,
          48,
          42,
          33,
          33,
          25,
          21,
          18,
          15,
          11,
          10,
          10,
          7,
          7,
          7,
          7,
          5,
          3,
          3,
          1
         ],
         "yaxis": "y"
        },
        {
         "hovertemplate": "state=R<br>tick=%{x}<br>count=%{y}<extra></extra>",
         "legendgroup": "R",
         "line": {
          "color": "#19d3f3",
          "dash": "solid"
         },
         "marker": {
          "symbol": "circle"
         },
         "mode": "lines",
         "name": "R",
         "orientation": "h",
         "showlegend": true,
         "type": "scatter",
         "x": [
          0,
          1,
          2,
          3,
          4,
          5,
          6,
          7,
          8,
          9,
          10,
          11,
          12,
          13,
          14,
          15,
          16,
          17,
          18,
          19,
          20,
          21,
          22,
          23,
          24,
          25,
          26,
          27,
          28,
          29,
          30,
          31,
          32,
          33,
          34,
          35,
          36,
          37,
          38,
          39,
          40,
          41,
          42,
          43,
          44,
          45,
          46,
          47,
          48,
          49,
          50,
          51,
          52,
          53,
          54,
          55,
          56,
          57,
          58,
          59,
          60,
          61,
          62,
          63,
          64,
          65,
          66,
          67,
          68,
          69,
          70,
          71,
          72,
          73,
          74,
          75,
          76,
          77,
          78,
          79,
          80,
          81,
          82,
          83,
          84,
          85,
          86,
          87,
          88,
          89,
          90,
          91,
          92,
          93,
          94,
          95,
          96,
          97,
          98,
          99
         ],
         "xaxis": "x",
         "y": [
          0,
          0,
          0,
          0,
          0,
          0,
          2,
          2,
          3,
          5,
          8,
          16,
          20,
          30,
          40,
          50,
          62,
          76,
          100,
          125,
          154,
          202,
          268,
          347,
          443,
          591,
          797,
          1058,
          1471,
          1960,
          2582,
          3448,
          4479,
          5793,
          7248,
          8983,
          10902,
          12998,
          15269,
          17648,
          20306,
          23038,
          25943,
          28952,
          31979,
          34973,
          37908,
          40811,
          43639,
          46379,
          48891,
          51129,
          53033,
          54825,
          56465,
          58042,
          59490,
          60697,
          61696,
          62528,
          63257,
          63854,
          64413,
          64930,
          65364,
          65733,
          66039,
          66275,
          66498,
          66677,
          66840,
          66973,
          67083,
          67171,
          67252,
          67318,
          67366,
          67418,
          67458,
          67499,
          67535,
          67554,
          67579,
          67599,
          67613,
          67627,
          67639,
          67648,
          67657,
          67668,
          67672,
          67677,
          67682,
          67686,
          67689,
          67691,
          67694,
          67698,
          67698,
          67700
         ],
         "yaxis": "y"
        }
       ],
       "layout": {
        "autosize": true,
        "legend": {
         "title": {
          "text": "state"
         },
         "tracegroupgap": 0
        },
        "template": {
         "data": {
          "bar": [
           {
            "error_x": {
             "color": "#2a3f5f"
            },
            "error_y": {
             "color": "#2a3f5f"
            },
            "marker": {
             "line": {
              "color": "#E5ECF6",
              "width": 0.5
             },
             "pattern": {
              "fillmode": "overlay",
              "size": 10,
              "solidity": 0.2
             }
            },
            "type": "bar"
           }
          ],
          "barpolar": [
           {
            "marker": {
             "line": {
              "color": "#E5ECF6",
              "width": 0.5
             },
             "pattern": {
              "fillmode": "overlay",
              "size": 10,
              "solidity": 0.2
             }
            },
            "type": "barpolar"
           }
          ],
          "carpet": [
           {
            "aaxis": {
             "endlinecolor": "#2a3f5f",
             "gridcolor": "white",
             "linecolor": "white",
             "minorgridcolor": "white",
             "startlinecolor": "#2a3f5f"
            },
            "baxis": {
             "endlinecolor": "#2a3f5f",
             "gridcolor": "white",
             "linecolor": "white",
             "minorgridcolor": "white",
             "startlinecolor": "#2a3f5f"
            },
            "type": "carpet"
           }
          ],
          "choropleth": [
           {
            "colorbar": {
             "outlinewidth": 0,
             "ticks": ""
            },
            "type": "choropleth"
           }
          ],
          "contour": [
           {
            "colorbar": {
             "outlinewidth": 0,
             "ticks": ""
            },
            "colorscale": [
             [
              0,
              "#0d0887"
             ],
             [
              0.1111111111111111,
              "#46039f"
             ],
             [
              0.2222222222222222,
              "#7201a8"
             ],
             [
              0.3333333333333333,
              "#9c179e"
             ],
             [
              0.4444444444444444,
              "#bd3786"
             ],
             [
              0.5555555555555556,
              "#d8576b"
             ],
             [
              0.6666666666666666,
              "#ed7953"
             ],
             [
              0.7777777777777778,
              "#fb9f3a"
             ],
             [
              0.8888888888888888,
              "#fdca26"
             ],
             [
              1,
              "#f0f921"
             ]
            ],
            "type": "contour"
           }
          ],
          "contourcarpet": [
           {
            "colorbar": {
             "outlinewidth": 0,
             "ticks": ""
            },
            "type": "contourcarpet"
           }
          ],
          "heatmap": [
           {
            "colorbar": {
             "outlinewidth": 0,
             "ticks": ""
            },
            "colorscale": [
             [
              0,
              "#0d0887"
             ],
             [
              0.1111111111111111,
              "#46039f"
             ],
             [
              0.2222222222222222,
              "#7201a8"
             ],
             [
              0.3333333333333333,
              "#9c179e"
             ],
             [
              0.4444444444444444,
              "#bd3786"
             ],
             [
              0.5555555555555556,
              "#d8576b"
             ],
             [
              0.6666666666666666,
              "#ed7953"
             ],
             [
              0.7777777777777778,
              "#fb9f3a"
             ],
             [
              0.8888888888888888,
              "#fdca26"
             ],
             [
              1,
              "#f0f921"
             ]
            ],
            "type": "heatmap"
           }
          ],
          "heatmapgl": [
           {
            "colorbar": {
             "outlinewidth": 0,
             "ticks": ""
            },
            "colorscale": [
             [
              0,
              "#0d0887"
             ],
             [
              0.1111111111111111,
              "#46039f"
             ],
             [
              0.2222222222222222,
              "#7201a8"
             ],
             [
              0.3333333333333333,
              "#9c179e"
             ],
             [
              0.4444444444444444,
              "#bd3786"
             ],
             [
              0.5555555555555556,
              "#d8576b"
             ],
             [
              0.6666666666666666,
              "#ed7953"
             ],
             [
              0.7777777777777778,
              "#fb9f3a"
             ],
             [
              0.8888888888888888,
              "#fdca26"
             ],
             [
              1,
              "#f0f921"
             ]
            ],
            "type": "heatmapgl"
           }
          ],
          "histogram": [
           {
            "marker": {
             "pattern": {
              "fillmode": "overlay",
              "size": 10,
              "solidity": 0.2
             }
            },
            "type": "histogram"
           }
          ],
          "histogram2d": [
           {
            "colorbar": {
             "outlinewidth": 0,
             "ticks": ""
            },
            "colorscale": [
             [
              0,
              "#0d0887"
             ],
             [
              0.1111111111111111,
              "#46039f"
             ],
             [
              0.2222222222222222,
              "#7201a8"
             ],
             [
              0.3333333333333333,
              "#9c179e"
             ],
             [
              0.4444444444444444,
              "#bd3786"
             ],
             [
              0.5555555555555556,
              "#d8576b"
             ],
             [
              0.6666666666666666,
              "#ed7953"
             ],
             [
              0.7777777777777778,
              "#fb9f3a"
             ],
             [
              0.8888888888888888,
              "#fdca26"
             ],
             [
              1,
              "#f0f921"
             ]
            ],
            "type": "histogram2d"
           }
          ],
          "histogram2dcontour": [
           {
            "colorbar": {
             "outlinewidth": 0,
             "ticks": ""
            },
            "colorscale": [
             [
              0,
              "#0d0887"
             ],
             [
              0.1111111111111111,
              "#46039f"
             ],
             [
              0.2222222222222222,
              "#7201a8"
             ],
             [
              0.3333333333333333,
              "#9c179e"
             ],
             [
              0.4444444444444444,
              "#bd3786"
             ],
             [
              0.5555555555555556,
              "#d8576b"
             ],
             [
              0.6666666666666666,
              "#ed7953"
             ],
             [
              0.7777777777777778,
              "#fb9f3a"
             ],
             [
              0.8888888888888888,
              "#fdca26"
             ],
             [
              1,
              "#f0f921"
             ]
            ],
            "type": "histogram2dcontour"
           }
          ],
          "mesh3d": [
           {
            "colorbar": {
             "outlinewidth": 0,
             "ticks": ""
            },
            "type": "mesh3d"
           }
          ],
          "parcoords": [
           {
            "line": {
             "colorbar": {
              "outlinewidth": 0,
              "ticks": ""
             }
            },
            "type": "parcoords"
           }
          ],
          "pie": [
           {
            "automargin": true,
            "type": "pie"
           }
          ],
          "scatter": [
           {
            "fillpattern": {
             "fillmode": "overlay",
             "size": 10,
             "solidity": 0.2
            },
            "type": "scatter"
           }
          ],
          "scatter3d": [
           {
            "line": {
             "colorbar": {
              "outlinewidth": 0,
              "ticks": ""
             }
            },
            "marker": {
             "colorbar": {
              "outlinewidth": 0,
              "ticks": ""
             }
            },
            "type": "scatter3d"
           }
          ],
          "scattercarpet": [
           {
            "marker": {
             "colorbar": {
              "outlinewidth": 0,
              "ticks": ""
             }
            },
            "type": "scattercarpet"
           }
          ],
          "scattergeo": [
           {
            "marker": {
             "colorbar": {
              "outlinewidth": 0,
              "ticks": ""
             }
            },
            "type": "scattergeo"
           }
          ],
          "scattergl": [
           {
            "marker": {
             "colorbar": {
              "outlinewidth": 0,
              "ticks": ""
             }
            },
            "type": "scattergl"
           }
          ],
          "scattermapbox": [
           {
            "marker": {
             "colorbar": {
              "outlinewidth": 0,
              "ticks": ""
             }
            },
            "type": "scattermapbox"
           }
          ],
          "scatterpolar": [
           {
            "marker": {
             "colorbar": {
              "outlinewidth": 0,
              "ticks": ""
             }
            },
            "type": "scatterpolar"
           }
          ],
          "scatterpolargl": [
           {
            "marker": {
             "colorbar": {
              "outlinewidth": 0,
              "ticks": ""
             }
            },
            "type": "scatterpolargl"
           }
          ],
          "scatterternary": [
           {
            "marker": {
             "colorbar": {
              "outlinewidth": 0,
              "ticks": ""
             }
            },
            "type": "scatterternary"
           }
          ],
          "surface": [
           {
            "colorbar": {
             "outlinewidth": 0,
             "ticks": ""
            },
            "colorscale": [
             [
              0,
              "#0d0887"
             ],
             [
              0.1111111111111111,
              "#46039f"
             ],
             [
              0.2222222222222222,
              "#7201a8"
             ],
             [
              0.3333333333333333,
              "#9c179e"
             ],
             [
              0.4444444444444444,
              "#bd3786"
             ],
             [
              0.5555555555555556,
              "#d8576b"
             ],
             [
              0.6666666666666666,
              "#ed7953"
             ],
             [
              0.7777777777777778,
              "#fb9f3a"
             ],
             [
              0.8888888888888888,
              "#fdca26"
             ],
             [
              1,
              "#f0f921"
             ]
            ],
            "type": "surface"
           }
          ],
          "table": [
           {
            "cells": {
             "fill": {
              "color": "#EBF0F8"
             },
             "line": {
              "color": "white"
             }
            },
            "header": {
             "fill": {
              "color": "#C8D4E3"
             },
             "line": {
              "color": "white"
             }
            },
            "type": "table"
           }
          ]
         },
         "layout": {
          "annotationdefaults": {
           "arrowcolor": "#2a3f5f",
           "arrowhead": 0,
           "arrowwidth": 1
          },
          "autotypenumbers": "strict",
          "coloraxis": {
           "colorbar": {
            "outlinewidth": 0,
            "ticks": ""
           }
          },
          "colorscale": {
           "diverging": [
            [
             0,
             "#8e0152"
            ],
            [
             0.1,
             "#c51b7d"
            ],
            [
             0.2,
             "#de77ae"
            ],
            [
             0.3,
             "#f1b6da"
            ],
            [
             0.4,
             "#fde0ef"
            ],
            [
             0.5,
             "#f7f7f7"
            ],
            [
             0.6,
             "#e6f5d0"
            ],
            [
             0.7,
             "#b8e186"
            ],
            [
             0.8,
             "#7fbc41"
            ],
            [
             0.9,
             "#4d9221"
            ],
            [
             1,
             "#276419"
            ]
           ],
           "sequential": [
            [
             0,
             "#0d0887"
            ],
            [
             0.1111111111111111,
             "#46039f"
            ],
            [
             0.2222222222222222,
             "#7201a8"
            ],
            [
             0.3333333333333333,
             "#9c179e"
            ],
            [
             0.4444444444444444,
             "#bd3786"
            ],
            [
             0.5555555555555556,
             "#d8576b"
            ],
            [
             0.6666666666666666,
             "#ed7953"
            ],
            [
             0.7777777777777778,
             "#fb9f3a"
            ],
            [
             0.8888888888888888,
             "#fdca26"
            ],
            [
             1,
             "#f0f921"
            ]
           ],
           "sequentialminus": [
            [
             0,
             "#0d0887"
            ],
            [
             0.1111111111111111,
             "#46039f"
            ],
            [
             0.2222222222222222,
             "#7201a8"
            ],
            [
             0.3333333333333333,
             "#9c179e"
            ],
            [
             0.4444444444444444,
             "#bd3786"
            ],
            [
             0.5555555555555556,
             "#d8576b"
            ],
            [
             0.6666666666666666,
             "#ed7953"
            ],
            [
             0.7777777777777778,
             "#fb9f3a"
            ],
            [
             0.8888888888888888,
             "#fdca26"
            ],
            [
             1,
             "#f0f921"
            ]
           ]
          },
          "colorway": [
           "#636efa",
           "#EF553B",
           "#00cc96",
           "#ab63fa",
           "#FFA15A",
           "#19d3f3",
           "#FF6692",
           "#B6E880",
           "#FF97FF",
           "#FECB52"
          ],
          "font": {
           "color": "#2a3f5f"
          },
          "geo": {
           "bgcolor": "white",
           "lakecolor": "white",
           "landcolor": "#E5ECF6",
           "showlakes": true,
           "showland": true,
           "subunitcolor": "white"
          },
          "hoverlabel": {
           "align": "left"
          },
          "hovermode": "closest",
          "mapbox": {
           "style": "light"
          },
          "paper_bgcolor": "white",
          "plot_bgcolor": "#E5ECF6",
          "polar": {
           "angularaxis": {
            "gridcolor": "white",
            "linecolor": "white",
            "ticks": ""
           },
           "bgcolor": "#E5ECF6",
           "radialaxis": {
            "gridcolor": "white",
            "linecolor": "white",
            "ticks": ""
           }
          },
          "scene": {
           "xaxis": {
            "backgroundcolor": "#E5ECF6",
            "gridcolor": "white",
            "gridwidth": 2,
            "linecolor": "white",
            "showbackground": true,
            "ticks": "",
            "zerolinecolor": "white"
           },
           "yaxis": {
            "backgroundcolor": "#E5ECF6",
            "gridcolor": "white",
            "gridwidth": 2,
            "linecolor": "white",
            "showbackground": true,
            "ticks": "",
            "zerolinecolor": "white"
           },
           "zaxis": {
            "backgroundcolor": "#E5ECF6",
            "gridcolor": "white",
            "gridwidth": 2,
            "linecolor": "white",
            "showbackground": true,
            "ticks": "",
            "zerolinecolor": "white"
           }
          },
          "shapedefaults": {
           "line": {
            "color": "#2a3f5f"
           }
          },
          "ternary": {
           "aaxis": {
            "gridcolor": "white",
            "linecolor": "white",
            "ticks": ""
           },
           "baxis": {
            "gridcolor": "white",
            "linecolor": "white",
            "ticks": ""
           },
           "bgcolor": "#E5ECF6",
           "caxis": {
            "gridcolor": "white",
            "linecolor": "white",
            "ticks": ""
           }
          },
          "title": {
           "x": 0.05
          },
          "xaxis": {
           "automargin": true,
           "gridcolor": "white",
           "linecolor": "white",
           "ticks": "",
           "title": {
            "standoff": 15
           },
           "zerolinecolor": "white",
           "zerolinewidth": 2
          },
          "yaxis": {
           "automargin": true,
           "gridcolor": "white",
           "linecolor": "white",
           "ticks": "",
           "title": {
            "standoff": 15
           },
           "zerolinecolor": "white",
           "zerolinewidth": 2
          }
         }
        },
        "title": {
         "text": "Number of individuals in each state over time"
        },
        "xaxis": {
         "anchor": "y",
         "autorange": true,
         "domain": [
          0,
          1
         ],
         "range": [
          0,
          99
         ],
         "title": {
          "text": "tick"
         },
         "type": "linear"
        },
        "yaxis": {
         "anchor": "x",
         "autorange": true,
         "domain": [
          0,
          1
         ],
         "range": [
          -4628.222222222222,
          87936.22222222222
         ],
         "title": {
          "text": "count"
         },
         "type": "linear"
        }
       }
      },
      "image/png": "[encoded data removed]"
     },
     "metadata": {},
     "output_type": "display_data"
    }
   ],
   "source": [
    "states = summary.columns\n",
    "states.remove(\"tick\")\n",
    "\n",
    "title = \"Number of individuals in each state over time\"\n",
    "pdf = summary.melt(id_vars=\"tick\", value_vars=states, variable_name=\"state\", value_name=\"count\")\n",
    "px.line(pdf, x=\"tick\", y=\"count\", color=\"state\", title=title)"
   ]
  },
  {
   "cell_type": "code",
   "execution_count": 21,
   "id": "9ed94027-7e42-4cee-8871-ce01f6354bd9",
   "metadata": {},
   "outputs": [
    {
     "data": {
      "application/vnd.plotly.v1+json": {
       "config": {
        "plotlyServerURL": "https://plot.ly"
       },
       "data": [
        {
         "hovertemplate": "state=S<br>tick=%{x}<br>count=%{y}<extra></extra>",
         "legendgroup": "S",
         "line": {
          "color": "#636efa",
          "dash": "solid"
         },
         "marker": {
          "symbol": "circle"
         },
         "mode": "lines",
         "name": "S",
         "orientation": "v",
         "showlegend": true,
         "type": "scatter",
         "x": [
          0,
          1,
          2,
          3,
          4,
          5,
          6,
          7,
          8,
          9,
          10,
          11,
          12,
          13,
          14,
          15,
          16,
          17,
          18,
          19,
          20,
          21,
          22,
          23,
          24,
          25,
          26,
          27,
          28,
          29,
          30,
          31,
          32,
          33,
          34,
          35,
          36,
          37,
          38,
          39,
          40,
          41,
          42,
          43,
          44,
          45,
          46,
          47,
          48,
          49,
          50,
          51,
          52,
          53,
          54,
          55,
          56,
          57,
          58,
          59,
          60,
          61,
          62,
          63,
          64,
          65,
          66,
          67,
          68,
          69,
          70,
          71,
          72,
          73,
          74,
          75,
          76,
          77,
          78,
          79,
          80,
          81,
          82,
          83,
          84,
          85,
          86,
          87,
          88,
          89,
          90,
          91,
          92,
          93,
          94,
          95,
          96,
          97,
          98,
          99
         ],
         "xaxis": "x",
         "y": [
          0,
          0,
          0,
          0,
          0,
          0,
          0,
          0,
          0,
          0,
          0,
          0,
          0,
          0,
          0,
          0,
          0,
          0,
          0,
          0,
          0,
          0,
          0,
          0,
          0,
          0,
          0,
          0,
          0,
          0,
          0,
          0,
          0,
          0,
          0,
          0,
          0,
          0,
          0,
          0,
          0,
          0,
          0,
          0,
          0,
          0,
          0,
          0,
          0,
          0,
          0,
          0,
          0,
          0,
          0,
          0,
          0,
          0,
          0,
          0,
          0,
          0,
          0,
          0,
          0,
          0,
          0,
          0,
          0,
          0,
          0,
          0,
          0,
          0,
          0,
          0,
          0,
          0,
          0,
          0,
          0,
          0,
          0,
          0,
          0,
          0,
          0,
          0,
          0,
          0,
          0,
          0,
          0,
          0,
          0,
          0,
          0,
          0,
          0,
          0
         ],
         "yaxis": "y"
        },
        {
         "hovertemplate": "state=E<br>tick=%{x}<br>count=%{y}<extra></extra>",
         "legendgroup": "E",
         "line": {
          "color": "#EF553B",
          "dash": "solid"
         },
         "marker": {
          "symbol": "circle"
         },
         "mode": "lines",
         "name": "E",
         "orientation": "v",
         "showlegend": true,
         "type": "scatter",
         "x": [
          0,
          1,
          2,
          3,
          4,
          5,
          6,
          7,
          8,
          9,
          10,
          11,
          12,
          13,
          14,
          15,
          16,
          17,
          18,
          19,
          20,
          21,
          22,
          23,
          24,
          25,
          26,
          27,
          28,
          29,
          30,
          31,
          32,
          33,
          34,
          35,
          36,
          37,
          38,
          39,
          40,
          41,
          42,
          43,
          44,
          45,
          46,
          47,
          48,
          49,
          50,
          51,
          52,
          53,
          54,
          55,
          56,
          57,
          58,
          59,
          60,
          61,
          62,
          63,
          64,
          65,
          66,
          67,
          68,
          69,
          70,
          71,
          72,
          73,
          74,
          75,
          76,
          77,
          78,
          79,
          80,
          81,
          82,
          83,
          84,
          85,
          86,
          87,
          88,
          89,
          90,
          91,
          92,
          93,
          94,
          95,
          96,
          97,
          98,
          99
         ],
         "xaxis": "x",
         "y": [
          0,
          0,
          0,
          0,
          1,
          8,
          19,
          26,
          36,
          63,
          100,
          151,
          192,
          244,
          323,
          440,
          588,
          818,
          1156,
          1623,
          2126,
          2810,
          3874,
          5263,
          6905,
          8857,
          10990,
          12899,
          14874,
          17528,
          20473,
          23480,
          26548,
          29827,
          32241,
          34659,
          38399,
          41810,
          44985,
          47824,
          50464,
          51891,
          53187,
          55373,
          57319,
          58950,
          60328,
          61533,
          62161,
          62703,
          63476,
          64144,
          64704,
          65161,
          65599,
          65861,
          66044,
          66316,
          66554,
          66752,
          66899,
          67014,
          67098,
          67167,
          67235,
          67307,
          67358,
          67412,
          67453,
          67473,
          67497,
          67515,
          67538,
          67559,
          67573,
          67591,
          67597,
          67604,
          67612,
          67617,
          67624,
          67630,
          67636,
          67638,
          67642,
          67644,
          67646,
          67647,
          67650,
          67651,
          67653,
          67653,
          67653,
          67654,
          67654,
          67655,
          67655,
          67655,
          67655,
          67655
         ],
         "yaxis": "y"
        },
        {
         "hovertemplate": "state=Ipresymp<br>tick=%{x}<br>count=%{y}<extra></extra>",
         "legendgroup": "Ipresymp",
         "line": {
          "color": "#00cc96",
          "dash": "solid"
         },
         "marker": {
          "symbol": "circle"
         },
         "mode": "lines",
         "name": "Ipresymp",
         "orientation": "v",
         "showlegend": true,
         "type": "scatter",
         "x": [
          0,
          1,
          2,
          3,
          4,
          5,
          6,
          7,
          8,
          9,
          10,
          11,
          12,
          13,
          14,
          15,
          16,
          17,
          18,
          19,
          20,
          21,
          22,
          23,
          24,
          25,
          26,
          27,
          28,
          29,
          30,
          31,
          32,
          33,
          34,
          35,
          36,
          37,
          38,
          39,
          40,
          41,
          42,
          43,
          44,
          45,
          46,
          47,
          48,
          49,
          50,
          51,
          52,
          53,
          54,
          55,
          56,
          57,
          58,
          59,
          60,
          61,
          62,
          63,
          64,
          65,
          66,
          67,
          68,
          69,
          70,
          71,
          72,
          73,
          74,
          75,
          76,
          77,
          78,
          79,
          80,
          81,
          82,
          83,
          84,
          85,
          86,
          87,
          88,
          89,
          90,
          91,
          92,
          93,
          94,
          95,
          96,
          97,
          98,
          99
         ],
         "xaxis": "x",
         "y": [
          0,
          0,
          1,
          3,
          5,
          7,
          10,
          13,
          19,
          30,
          37,
          42,
          53,
          67,
          91,
          110,
          134,
          170,
          229,
          287,
          405,
          581,
          821,
          1076,
          1416,
          1973,
          2665,
          3490,
          4436,
          5480,
          6433,
          7460,
          8805,
          10220,
          11684,
          13230,
          14892,
          16108,
          17337,
          19209,
          20903,
          22548,
          23966,
          25294,
          25991,
          26637,
          27700,
          28649,
          29450,
          30130,
          30740,
          31044,
          31307,
          31682,
          32020,
          32306,
          32530,
          32743,
          32866,
          32960,
          33100,
          33211,
          33315,
          33398,
          33463,
          33505,
          33539,
          33568,
          33607,
          33629,
          33659,
          33680,
          33690,
          33701,
          33707,
          33719,
          33729,
          33737,
          33748,
          33749,
          33752,
          33756,
          33758,
          33763,
          33769,
          33772,
          33772,
          33775,
          33776,
          33777,
          33777,
          33778,
          33778,
          33780,
          33780,
          33780,
          33781,
          33781,
          33781,
          33781
         ],
         "yaxis": "y"
        },
        {
         "hovertemplate": "state=Isymp<br>tick=%{x}<br>count=%{y}<extra></extra>",
         "legendgroup": "Isymp",
         "line": {
          "color": "#ab63fa",
          "dash": "solid"
         },
         "marker": {
          "symbol": "circle"
         },
         "mode": "lines",
         "name": "Isymp",
         "orientation": "v",
         "showlegend": true,
         "type": "scatter",
         "x": [
          0,
          1,
          2,
          3,
          4,
          5,
          6,
          7,
          8,
          9,
          10,
          11,
          12,
          13,
          14,
          15,
          16,
          17,
          18,
          19,
          20,
          21,
          22,
          23,
          24,
          25,
          26,
          27,
          28,
          29,
          30,
          31,
          32,
          33,
          34,
          35,
          36,
          37,
          38,
          39,
          40,
          41,
          42,
          43,
          44,
          45,
          46,
          47,
          48,
          49,
          50,
          51,
          52,
          53,
          54,
          55,
          56,
          57,
          58,
          59,
          60,
          61,
          62,
          63,
          64,
          65,
          66,
          67,
          68,
          69,
          70,
          71,
          72,
          73,
          74,
          75,
          76,
          77,
          78,
          79,
          80,
          81,
          82,
          83,
          84,
          85,
          86,
          87,
          88,
          89,
          90,
          91,
          92,
          93,
          94,
          95,
          96,
          97,
          98,
          99
         ],
         "xaxis": "x",
         "y": [
          0,
          0,
          0,
          0,
          1,
          3,
          5,
          7,
          10,
          13,
          19,
          30,
          37,
          42,
          53,
          67,
          91,
          110,
          134,
          170,
          229,
          287,
          405,
          581,
          821,
          1076,
          1416,
          1973,
          2665,
          3490,
          4436,
          5480,
          6433,
          7460,
          8805,
          10220,
          11684,
          13230,
          14892,
          16108,
          17337,
          19209,
          20903,
          22548,
          23966,
          25294,
          25991,
          26637,
          27700,
          28649,
          29450,
          30130,
          30740,
          31044,
          31307,
          31682,
          32020,
          32306,
          32530,
          32743,
          32866,
          32960,
          33100,
          33211,
          33315,
          33398,
          33463,
          33505,
          33539,
          33568,
          33607,
          33629,
          33659,
          33680,
          33690,
          33701,
          33707,
          33719,
          33729,
          33737,
          33748,
          33749,
          33752,
          33756,
          33758,
          33763,
          33769,
          33772,
          33772,
          33775,
          33776,
          33777,
          33777,
          33778,
          33778,
          33780,
          33780,
          33780,
          33781,
          33781
         ],
         "yaxis": "y"
        },
        {
         "hovertemplate": "state=Iasymp<br>tick=%{x}<br>count=%{y}<extra></extra>",
         "legendgroup": "Iasymp",
         "line": {
          "color": "#FFA15A",
          "dash": "solid"
         },
         "marker": {
          "symbol": "circle"
         },
         "mode": "lines",
         "name": "Iasymp",
         "orientation": "v",
         "showlegend": true,
         "type": "scatter",
         "x": [
          0,
          1,
          2,
          3,
          4,
          5,
          6,
          7,
          8,
          9,
          10,
          11,
          12,
          13,
          14,
          15,
          16,
          17,
          18,
          19,
          20,
          21,
          22,
          23,
          24,
          25,
          26,
          27,
          28,
          29,
          30,
          31,
          32,
          33,
          34,
          35,
          36,
          37,
          38,
          39,
          40,
          41,
          42,
          43,
          44,
          45,
          46,
          47,
          48,
          49,
          50,
          51,
          52,
          53,
          54,
          55,
          56,
          57,
          58,
          59,
          60,
          61,
          62,
          63,
          64,
          65,
          66,
          67,
          68,
          69,
          70,
          71,
          72,
          73,
          74,
          75,
          76,
          77,
          78,
          79,
          80,
          81,
          82,
          83,
          84,
          85,
          86,
          87,
          88,
          89,
          90,
          91,
          92,
          93,
          94,
          95,
          96,
          97,
          98,
          99
         ],
         "xaxis": "x",
         "y": [
          0,
          0,
          0,
          0,
          2,
          7,
          8,
          11,
          16,
          18,
          22,
          28,
          34,
          42,
          56,
          67,
          95,
          116,
          146,
          178,
          225,
          317,
          435,
          587,
          782,
          1012,
          1332,
          1755,
          2395,
          3167,
          4100,
          5065,
          6023,
          7054,
          8192,
          9518,
          11053,
          12608,
          14118,
          15511,
          16898,
          18450,
          20130,
          21678,
          23179,
          24483,
          25537,
          26324,
          27235,
          28162,
          29057,
          29847,
          30448,
          30940,
          31298,
          31646,
          31987,
          32304,
          32542,
          32784,
          32967,
          33089,
          33216,
          33331,
          33435,
          33499,
          33578,
          33618,
          33660,
          33694,
          33732,
          33753,
          33786,
          33808,
          33829,
          33839,
          33854,
          33861,
          33873,
          33883,
          33890,
          33895,
          33901,
          33903,
          33908,
          33910,
          33913,
          33913,
          33914,
          33916,
          33918,
          33920,
          33920,
          33921,
          33922,
          33923,
          33923,
          33923,
          33923,
          33923
         ],
         "yaxis": "y"
        },
        {
         "hovertemplate": "state=R<br>tick=%{x}<br>count=%{y}<extra></extra>",
         "legendgroup": "R",
         "line": {
          "color": "#19d3f3",
          "dash": "solid"
         },
         "marker": {
          "symbol": "circle"
         },
         "mode": "lines",
         "name": "R",
         "orientation": "v",
         "showlegend": true,
         "type": "scatter",
         "x": [
          0,
          1,
          2,
          3,
          4,
          5,
          6,
          7,
          8,
          9,
          10,
          11,
          12,
          13,
          14,
          15,
          16,
          17,
          18,
          19,
          20,
          21,
          22,
          23,
          24,
          25,
          26,
          27,
          28,
          29,
          30,
          31,
          32,
          33,
          34,
          35,
          36,
          37,
          38,
          39,
          40,
          41,
          42,
          43,
          44,
          45,
          46,
          47,
          48,
          49,
          50,
          51,
          52,
          53,
          54,
          55,
          56,
          57,
          58,
          59,
          60,
          61,
          62,
          63,
          64,
          65,
          66,
          67,
          68,
          69,
          70,
          71,
          72,
          73,
          74,
          75,
          76,
          77,
          78,
          79,
          80,
          81,
          82,
          83,
          84,
          85,
          86,
          87,
          88,
          89,
          90,
          91,
          92,
          93,
          94,
          95,
          96,
          97,
          98,
          99
         ],
         "xaxis": "x",
         "y": [
          0,
          0,
          0,
          0,
          0,
          0,
          2,
          2,
          3,
          5,
          8,
          16,
          20,
          30,
          40,
          50,
          62,
          76,
          100,
          125,
          154,
          202,
          268,
          347,
          443,
          591,
          797,
          1058,
          1471,
          1960,
          2582,
          3448,
          4479,
          5793,
          7248,
          8983,
          10902,
          12998,
          15269,
          17648,
          20306,
          23038,
          25943,
          28952,
          31979,
          34973,
          37908,
          40811,
          43639,
          46379,
          48891,
          51129,
          53033,
          54825,
          56465,
          58042,
          59490,
          60697,
          61696,
          62528,
          63257,
          63854,
          64413,
          64930,
          65364,
          65733,
          66039,
          66275,
          66498,
          66677,
          66840,
          66973,
          67083,
          67171,
          67252,
          67318,
          67366,
          67418,
          67458,
          67499,
          67535,
          67554,
          67579,
          67599,
          67613,
          67627,
          67639,
          67648,
          67657,
          67668,
          67672,
          67677,
          67682,
          67686,
          67689,
          67691,
          67694,
          67698,
          67698,
          67700
         ],
         "yaxis": "y"
        }
       ],
       "layout": {
        "autosize": true,
        "legend": {
         "title": {
          "text": "state"
         },
         "tracegroupgap": 0
        },
        "template": {
         "data": {
          "bar": [
           {
            "error_x": {
             "color": "#2a3f5f"
            },
            "error_y": {
             "color": "#2a3f5f"
            },
            "marker": {
             "line": {
              "color": "#E5ECF6",
              "width": 0.5
             },
             "pattern": {
              "fillmode": "overlay",
              "size": 10,
              "solidity": 0.2
             }
            },
            "type": "bar"
           }
          ],
          "barpolar": [
           {
            "marker": {
             "line": {
              "color": "#E5ECF6",
              "width": 0.5
             },
             "pattern": {
              "fillmode": "overlay",
              "size": 10,
              "solidity": 0.2
             }
            },
            "type": "barpolar"
           }
          ],
          "carpet": [
           {
            "aaxis": {
             "endlinecolor": "#2a3f5f",
             "gridcolor": "white",
             "linecolor": "white",
             "minorgridcolor": "white",
             "startlinecolor": "#2a3f5f"
            },
            "baxis": {
             "endlinecolor": "#2a3f5f",
             "gridcolor": "white",
             "linecolor": "white",
             "minorgridcolor": "white",
             "startlinecolor": "#2a3f5f"
            },
            "type": "carpet"
           }
          ],
          "choropleth": [
           {
            "colorbar": {
             "outlinewidth": 0,
             "ticks": ""
            },
            "type": "choropleth"
           }
          ],
          "contour": [
           {
            "colorbar": {
             "outlinewidth": 0,
             "ticks": ""
            },
            "colorscale": [
             [
              0,
              "#0d0887"
             ],
             [
              0.1111111111111111,
              "#46039f"
             ],
             [
              0.2222222222222222,
              "#7201a8"
             ],
             [
              0.3333333333333333,
              "#9c179e"
             ],
             [
              0.4444444444444444,
              "#bd3786"
             ],
             [
              0.5555555555555556,
              "#d8576b"
             ],
             [
              0.6666666666666666,
              "#ed7953"
             ],
             [
              0.7777777777777778,
              "#fb9f3a"
             ],
             [
              0.8888888888888888,
              "#fdca26"
             ],
             [
              1,
              "#f0f921"
             ]
            ],
            "type": "contour"
           }
          ],
          "contourcarpet": [
           {
            "colorbar": {
             "outlinewidth": 0,
             "ticks": ""
            },
            "type": "contourcarpet"
           }
          ],
          "heatmap": [
           {
            "colorbar": {
             "outlinewidth": 0,
             "ticks": ""
            },
            "colorscale": [
             [
              0,
              "#0d0887"
             ],
             [
              0.1111111111111111,
              "#46039f"
             ],
             [
              0.2222222222222222,
              "#7201a8"
             ],
             [
              0.3333333333333333,
              "#9c179e"
             ],
             [
              0.4444444444444444,
              "#bd3786"
             ],
             [
              0.5555555555555556,
              "#d8576b"
             ],
             [
              0.6666666666666666,
              "#ed7953"
             ],
             [
              0.7777777777777778,
              "#fb9f3a"
             ],
             [
              0.8888888888888888,
              "#fdca26"
             ],
             [
              1,
              "#f0f921"
             ]
            ],
            "type": "heatmap"
           }
          ],
          "heatmapgl": [
           {
            "colorbar": {
             "outlinewidth": 0,
             "ticks": ""
            },
            "colorscale": [
             [
              0,
              "#0d0887"
             ],
             [
              0.1111111111111111,
              "#46039f"
             ],
             [
              0.2222222222222222,
              "#7201a8"
             ],
             [
              0.3333333333333333,
              "#9c179e"
             ],
             [
              0.4444444444444444,
              "#bd3786"
             ],
             [
              0.5555555555555556,
              "#d8576b"
             ],
             [
              0.6666666666666666,
              "#ed7953"
             ],
             [
              0.7777777777777778,
              "#fb9f3a"
             ],
             [
              0.8888888888888888,
              "#fdca26"
             ],
             [
              1,
              "#f0f921"
             ]
            ],
            "type": "heatmapgl"
           }
          ],
          "histogram": [
           {
            "marker": {
             "pattern": {
              "fillmode": "overlay",
              "size": 10,
              "solidity": 0.2
             }
            },
            "type": "histogram"
           }
          ],
          "histogram2d": [
           {
            "colorbar": {
             "outlinewidth": 0,
             "ticks": ""
            },
            "colorscale": [
             [
              0,
              "#0d0887"
             ],
             [
              0.1111111111111111,
              "#46039f"
             ],
             [
              0.2222222222222222,
              "#7201a8"
             ],
             [
              0.3333333333333333,
              "#9c179e"
             ],
             [
              0.4444444444444444,
              "#bd3786"
             ],
             [
              0.5555555555555556,
              "#d8576b"
             ],
             [
              0.6666666666666666,
              "#ed7953"
             ],
             [
              0.7777777777777778,
              "#fb9f3a"
             ],
             [
              0.8888888888888888,
              "#fdca26"
             ],
             [
              1,
              "#f0f921"
             ]
            ],
            "type": "histogram2d"
           }
          ],
          "histogram2dcontour": [
           {
            "colorbar": {
             "outlinewidth": 0,
             "ticks": ""
            },
            "colorscale": [
             [
              0,
              "#0d0887"
             ],
             [
              0.1111111111111111,
              "#46039f"
             ],
             [
              0.2222222222222222,
              "#7201a8"
             ],
             [
              0.3333333333333333,
              "#9c179e"
             ],
             [
              0.4444444444444444,
              "#bd3786"
             ],
             [
              0.5555555555555556,
              "#d8576b"
             ],
             [
              0.6666666666666666,
              "#ed7953"
             ],
             [
              0.7777777777777778,
              "#fb9f3a"
             ],
             [
              0.8888888888888888,
              "#fdca26"
             ],
             [
              1,
              "#f0f921"
             ]
            ],
            "type": "histogram2dcontour"
           }
          ],
          "mesh3d": [
           {
            "colorbar": {
             "outlinewidth": 0,
             "ticks": ""
            },
            "type": "mesh3d"
           }
          ],
          "parcoords": [
           {
            "line": {
             "colorbar": {
              "outlinewidth": 0,
              "ticks": ""
             }
            },
            "type": "parcoords"
           }
          ],
          "pie": [
           {
            "automargin": true,
            "type": "pie"
           }
          ],
          "scatter": [
           {
            "fillpattern": {
             "fillmode": "overlay",
             "size": 10,
             "solidity": 0.2
            },
            "type": "scatter"
           }
          ],
          "scatter3d": [
           {
            "line": {
             "colorbar": {
              "outlinewidth": 0,
              "ticks": ""
             }
            },
            "marker": {
             "colorbar": {
              "outlinewidth": 0,
              "ticks": ""
             }
            },
            "type": "scatter3d"
           }
          ],
          "scattercarpet": [
           {
            "marker": {
             "colorbar": {
              "outlinewidth": 0,
              "ticks": ""
             }
            },
            "type": "scattercarpet"
           }
          ],
          "scattergeo": [
           {
            "marker": {
             "colorbar": {
              "outlinewidth": 0,
              "ticks": ""
             }
            },
            "type": "scattergeo"
           }
          ],
          "scattergl": [
           {
            "marker": {
             "colorbar": {
              "outlinewidth": 0,
              "ticks": ""
             }
            },
            "type": "scattergl"
           }
          ],
          "scattermapbox": [
           {
            "marker": {
             "colorbar": {
              "outlinewidth": 0,
              "ticks": ""
             }
            },
            "type": "scattermapbox"
           }
          ],
          "scatterpolar": [
           {
            "marker": {
             "colorbar": {
              "outlinewidth": 0,
              "ticks": ""
             }
            },
            "type": "scatterpolar"
           }
          ],
          "scatterpolargl": [
           {
            "marker": {
             "colorbar": {
              "outlinewidth": 0,
              "ticks": ""
             }
            },
            "type": "scatterpolargl"
           }
          ],
          "scatterternary": [
           {
            "marker": {
             "colorbar": {
              "outlinewidth": 0,
              "ticks": ""
             }
            },
            "type": "scatterternary"
           }
          ],
          "surface": [
           {
            "colorbar": {
             "outlinewidth": 0,
             "ticks": ""
            },
            "colorscale": [
             [
              0,
              "#0d0887"
             ],
             [
              0.1111111111111111,
              "#46039f"
             ],
             [
              0.2222222222222222,
              "#7201a8"
             ],
             [
              0.3333333333333333,
              "#9c179e"
             ],
             [
              0.4444444444444444,
              "#bd3786"
             ],
             [
              0.5555555555555556,
              "#d8576b"
             ],
             [
              0.6666666666666666,
              "#ed7953"
             ],
             [
              0.7777777777777778,
              "#fb9f3a"
             ],
             [
              0.8888888888888888,
              "#fdca26"
             ],
             [
              1,
              "#f0f921"
             ]
            ],
            "type": "surface"
           }
          ],
          "table": [
           {
            "cells": {
             "fill": {
              "color": "#EBF0F8"
             },
             "line": {
              "color": "white"
             }
            },
            "header": {
             "fill": {
              "color": "#C8D4E3"
             },
             "line": {
              "color": "white"
             }
            },
            "type": "table"
           }
          ]
         },
         "layout": {
          "annotationdefaults": {
           "arrowcolor": "#2a3f5f",
           "arrowhead": 0,
           "arrowwidth": 1
          },
          "autotypenumbers": "strict",
          "coloraxis": {
           "colorbar": {
            "outlinewidth": 0,
            "ticks": ""
           }
          },
          "colorscale": {
           "diverging": [
            [
             0,
             "#8e0152"
            ],
            [
             0.1,
             "#c51b7d"
            ],
            [
             0.2,
             "#de77ae"
            ],
            [
             0.3,
             "#f1b6da"
            ],
            [
             0.4,
             "#fde0ef"
            ],
            [
             0.5,
             "#f7f7f7"
            ],
            [
             0.6,
             "#e6f5d0"
            ],
            [
             0.7,
             "#b8e186"
            ],
            [
             0.8,
             "#7fbc41"
            ],
            [
             0.9,
             "#4d9221"
            ],
            [
             1,
             "#276419"
            ]
           ],
           "sequential": [
            [
             0,
             "#0d0887"
            ],
            [
             0.1111111111111111,
             "#46039f"
            ],
            [
             0.2222222222222222,
             "#7201a8"
            ],
            [
             0.3333333333333333,
             "#9c179e"
            ],
            [
             0.4444444444444444,
             "#bd3786"
            ],
            [
             0.5555555555555556,
             "#d8576b"
            ],
            [
             0.6666666666666666,
             "#ed7953"
            ],
            [
             0.7777777777777778,
             "#fb9f3a"
            ],
            [
             0.8888888888888888,
             "#fdca26"
            ],
            [
             1,
             "#f0f921"
            ]
           ],
           "sequentialminus": [
            [
             0,
             "#0d0887"
            ],
            [
             0.1111111111111111,
             "#46039f"
            ],
            [
             0.2222222222222222,
             "#7201a8"
            ],
            [
             0.3333333333333333,
             "#9c179e"
            ],
            [
             0.4444444444444444,
             "#bd3786"
            ],
            [
             0.5555555555555556,
             "#d8576b"
            ],
            [
             0.6666666666666666,
             "#ed7953"
            ],
            [
             0.7777777777777778,
             "#fb9f3a"
            ],
            [
             0.8888888888888888,
             "#fdca26"
            ],
            [
             1,
             "#f0f921"
            ]
           ]
          },
          "colorway": [
           "#636efa",
           "#EF553B",
           "#00cc96",
           "#ab63fa",
           "#FFA15A",
           "#19d3f3",
           "#FF6692",
           "#B6E880",
           "#FF97FF",
           "#FECB52"
          ],
          "font": {
           "color": "#2a3f5f"
          },
          "geo": {
           "bgcolor": "white",
           "lakecolor": "white",
           "landcolor": "#E5ECF6",
           "showlakes": true,
           "showland": true,
           "subunitcolor": "white"
          },
          "hoverlabel": {
           "align": "left"
          },
          "hovermode": "closest",
          "mapbox": {
           "style": "light"
          },
          "paper_bgcolor": "white",
          "plot_bgcolor": "#E5ECF6",
          "polar": {
           "angularaxis": {
            "gridcolor": "white",
            "linecolor": "white",
            "ticks": ""
           },
           "bgcolor": "#E5ECF6",
           "radialaxis": {
            "gridcolor": "white",
            "linecolor": "white",
            "ticks": ""
           }
          },
          "scene": {
           "xaxis": {
            "backgroundcolor": "#E5ECF6",
            "gridcolor": "white",
            "gridwidth": 2,
            "linecolor": "white",
            "showbackground": true,
            "ticks": "",
            "zerolinecolor": "white"
           },
           "yaxis": {
            "backgroundcolor": "#E5ECF6",
            "gridcolor": "white",
            "gridwidth": 2,
            "linecolor": "white",
            "showbackground": true,
            "ticks": "",
            "zerolinecolor": "white"
           },
           "zaxis": {
            "backgroundcolor": "#E5ECF6",
            "gridcolor": "white",
            "gridwidth": 2,
            "linecolor": "white",
            "showbackground": true,
            "ticks": "",
            "zerolinecolor": "white"
           }
          },
          "shapedefaults": {
           "line": {
            "color": "#2a3f5f"
           }
          },
          "ternary": {
           "aaxis": {
            "gridcolor": "white",
            "linecolor": "white",
            "ticks": ""
           },
           "baxis": {
            "gridcolor": "white",
            "linecolor": "white",
            "ticks": ""
           },
           "bgcolor": "#E5ECF6",
           "caxis": {
            "gridcolor": "white",
            "linecolor": "white",
            "ticks": ""
           }
          },
          "title": {
           "x": 0.05
          },
          "xaxis": {
           "automargin": true,
           "gridcolor": "white",
           "linecolor": "white",
           "ticks": "",
           "title": {
            "standoff": 15
           },
           "zerolinecolor": "white",
           "zerolinewidth": 2
          },
          "yaxis": {
           "automargin": true,
           "gridcolor": "white",
           "linecolor": "white",
           "ticks": "",
           "title": {
            "standoff": 15
           },
           "zerolinecolor": "white",
           "zerolinewidth": 2
          }
         }
        },
        "title": {
         "text": "Cumulative number of individuals who have visited each state over time"
        },
        "xaxis": {
         "anchor": "y",
         "autorange": true,
         "domain": [
          0,
          1
         ],
         "range": [
          0,
          99
         ],
         "title": {
          "text": "tick"
         },
         "type": "linear"
        },
        "yaxis": {
         "anchor": "x",
         "autorange": true,
         "domain": [
          0,
          1
         ],
         "range": [
          -3761.111111111111,
          71461.11111111111
         ],
         "title": {
          "text": "count"
         },
         "type": "linear"
        }
       }
      },
      "image/png": "[encoded data removed]"
     },
     "metadata": {},
     "output_type": "display_data"
    }
   ],
   "source": [
    "num_ticks = simulator.num_ticks(output_file)\n",
    "state_tick_cum_counts = simulator.compute_state_tick_unique_counts(transitions, num_ticks)\n",
    "\n",
    "states = state_tick_cum_counts.columns\n",
    "states.remove(\"tick\")\n",
    "\n",
    "state_tick_cum_counts = state_tick_cum_counts.with_columns(\n",
    "    *[pl.col(state).cum_sum() for state in states]\n",
    ")\n",
    "\n",
    "title = \"Cumulative number of individuals who have visited each state over time\"\n",
    "pdf = state_tick_cum_counts.melt(id_vars=\"tick\", value_vars=states, variable_name=\"state\", value_name=\"count\")\n",
    "px.line(pdf, x=\"tick\", y=\"count\", color=\"state\", title=title)"
   ]
  },
  {
   "cell_type": "code",
   "execution_count": null,
   "id": "b02e3548-4b24-46b6-b257-99adc10eeab4",
   "metadata": {},
   "outputs": [],
   "source": []
  },
  {
   "cell_type": "code",
   "execution_count": null,
   "id": "36220d28-dcd7-451c-b4be-9e157ff1108c",
   "metadata": {},
   "outputs": [],
   "source": []
  }
 ],
 "metadata": {
  "kernelspec": {
   "display_name": "Python [conda env:hp11] *",
   "language": "python",
   "name": "conda-env-hp11-py"
  },
  "language_info": {
   "codemirror_mode": {
    "name": "ipython",
    "version": 3
   },
   "file_extension": ".py",
   "mimetype": "text/x-python",
   "name": "python",
   "nbconvert_exporter": "python",
   "pygments_lexer": "ipython3",
   "version": "3.11.9"
  }
 },
 "nbformat": 4,
 "nbformat_minor": 5
}
